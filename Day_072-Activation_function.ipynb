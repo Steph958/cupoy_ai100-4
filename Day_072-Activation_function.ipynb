{
 "cells": [
  {
   "cell_type": "markdown",
   "metadata": {},
   "source": [
    "# 課程目標:\n",
    "    \n",
    "    了解激活函數的表示與建構方式\n",
    "    "
   ]
  },
  {
   "cell_type": "markdown",
   "metadata": {},
   "source": [
    "# 範例重點:\n",
    "\n",
    "    透過 Sigmoid, Softmax 的數學涵式了解 \n",
    "    (1) X > 0;\n",
    "    (2) X = 0;\n",
    "    (3) X < 0;\n",
    "    \n",
    "    激活函數的解值是多少"
   ]
  },
  {
   "cell_type": "markdown",
   "metadata": {},
   "source": [
    "# Sigmoid\n",
    "\n",
    "Sigmoid 數學函數表示方式\n",
    "\n",
    "sigmoid = lambda x: 1 / (1 + np.exp(-x))\n"
   ]
  },
  {
   "cell_type": "code",
   "execution_count": 7,
   "metadata": {},
   "outputs": [
    {
     "data": {
      "image/png": "[encoded data removed]",
      "text/plain": [
       "<Figure size 432x288 with 1 Axes>"
      ]
     },
     "metadata": {
      "needs_background": "dark"
     },
     "output_type": "display_data"
    }
   ],
   "source": [
    "import numpy as np\n",
    "from numpy import *\n",
    "import matplotlib.pylab as plt\n",
    "%matplotlib inline\n",
    "\n",
    "#Sigmoid 數學函數表示方式\n",
    "#sigmoid = lambda x: 1 / (1 + np.exp(-x))\n",
    "def sigmoid(x):\n",
    "    return (1 / (1 + np.exp(-x)))\n",
    "\n",
    "#Sigmoid 微分\n",
    "def dsigmoid(x):\n",
    "    return (x * (1 - x))\n",
    "\n",
    "# linespace generate an array from start and stop value\n",
    "# with requested number of elements. Example 10 elements or 100 elements.\n",
    "x = plt.linspace(-10,10,100)\n",
    "# prepare the plot, associate the color r(ed) or b(lue) and the label \n",
    "plt.plot(x, sigmoid(x), 'b', label='linspace(-10,10,10)')\n",
    "\n",
    "# Draw the grid line in background.\n",
    "plt.grid()\n",
    "\n",
    "# 顯現圖示的Title\n",
    "plt.title('Sigmoid Function')\n",
    "\n",
    "# 顯現 the Sigmoid formula\n",
    "plt.text(4, 0.8, r'$\\sigma(x)=\\frac{1}{1+e^{-x}}$', fontsize=15)\n",
    "\n",
    "#resize the X and Y axes\n",
    "plt.gca().xaxis.set_major_locator(plt.MultipleLocator(1))\n",
    "plt.gca().yaxis.set_major_locator(plt.MultipleLocator(0.1))\n",
    " \n",
    "# create the graph\n",
    "plt.show()"
   ]
  },
  {
   "cell_type": "markdown",
   "metadata": {},
   "source": [
    "# softmax"
   ]
  },
  {
   "cell_type": "code",
   "execution_count": 12,
   "metadata": {},
   "outputs": [
    {
     "name": "stdout",
     "output_type": "stream",
     "text": [
      "<class 'numpy.ndarray'>\n",
      "[4.36202710e-06 4.82565743e-06 5.33856602e-06 5.90599055e-06\n",
      " 6.53372539e-06 7.22818079e-06 7.99644834e-06 8.84637337e-06\n",
      " 9.78663508e-06 1.08268352e-05 1.19775958e-05 1.32506683e-05\n",
      " 1.46590529e-05 1.62171317e-05 1.79408152e-05 1.98477052e-05\n",
      " 2.19572745e-05 2.42910652e-05 2.68729095e-05 2.97291724e-05\n",
      " 3.28890212e-05 3.63847234e-05 4.02519762e-05 4.45302709e-05\n",
      " 4.92632962e-05 5.44993843e-05 6.02920049e-05 6.67003104e-05\n",
      " 7.37897408e-05 8.16326912e-05 9.03092517e-05 9.99080248e-05\n",
      " 1.10527031e-04 1.22274707e-04 1.35271019e-04 1.49648680e-04\n",
      " 1.65554512e-04 1.83150939e-04 2.02617653e-04 2.24153440e-04\n",
      " 2.47978220e-04 2.74335284e-04 3.03493782e-04 3.35751473e-04\n",
      " 3.71437764e-04 4.10917073e-04 4.54592551e-04 5.02910201e-04\n",
      " 5.56363428e-04 6.15498082e-04 6.80918029e-04 7.53291319e-04\n",
      " 8.33357009e-04 9.21932705e-04 1.01992292e-03 1.12832830e-03\n",
      " 1.24825585e-03 1.38093024e-03 1.52770630e-03 1.69008287e-03\n",
      " 1.86971808e-03 2.06844633e-03 2.28829698e-03 2.53151507e-03\n",
      " 2.80058428e-03 3.09825226e-03 3.42755873e-03 3.79186646e-03\n",
      " 4.19489567e-03 4.64076197e-03 5.13401843e-03 5.67970203e-03\n",
      " 6.28338516e-03 6.95123245e-03 7.69006377e-03 8.50742385e-03\n",
      " 9.41165935e-03 1.04120041e-02 1.15186733e-02 1.27429679e-02\n",
      " 1.40973901e-02 1.55957709e-02 1.72534114e-02 1.90872388e-02\n",
      " 2.11159797e-02 2.33603511e-02 2.58432718e-02 2.85900967e-02\n",
      " 3.16288756e-02 3.49906398e-02 3.87097185e-02 4.28240899e-02\n",
      " 4.73757689e-02 5.24112359e-02 5.79819118e-02 6.41446826e-02\n",
      " 7.09624808e-02 7.85049279e-02 8.68490453e-02 9.60800406e-02] \n",
      " 0.9999999999999998\n"
     ]
    },
    {
     "data": {
      "image/png": "[encoded data removed]",
      "text/plain": [
       "<Figure size 432x288 with 1 Axes>"
      ]
     },
     "metadata": {
      "needs_background": "dark"
     },
     "output_type": "display_data"
    }
   ],
   "source": [
    "import numpy as np\n",
    "# from numpy import *\n",
    "import matplotlib.pylab as plt\n",
    "#下列程式碼表示在Jupyter Notebook 直接列印\n",
    "%matplotlib inline\n",
    "\n",
    "#Softmax 數學函數表示方式\n",
    "def softmax(x):\n",
    "     return np.exp(x) / float(sum(np.exp(x)))\n",
    "\n",
    "#x=np.arange(0,1.0,0.01)\n",
    "x = plt.linspace(-5,5,100)\n",
    "\n",
    "#resize the X and Y axes\n",
    "plt.gca().xaxis.set_major_locator(plt.MultipleLocator(1))\n",
    "#plt.gca().yaxis.set_major_locator(plt.MultipleLocator(1))\n",
    "\n",
    "#列印所有Softmax 值並輸出成一陣列\n",
    "print(softmax(x),'\\n',sum(softmax(x)))\n",
    "plt.plot(x, softmax(x), 'r')\n",
    "plt.show()"
   ]
  },
  {
   "cell_type": "code",
   "execution_count": 13,
   "metadata": {},
   "outputs": [
    {
     "data": {
      "text/plain": [
       "'1.15.0'"
      ]
     },
     "execution_count": 13,
     "metadata": {},
     "output_type": "execute_result"
    }
   ],
   "source": [
    "import tensorflow as tf\n",
    "tf.__version__"
   ]
  }
 ],
 "metadata": {
  "kernelspec": {
   "display_name": "Python 3",
   "language": "python",
   "name": "python3"
  },
  "language_info": {
   "codemirror_mode": {
    "name": "ipython",
    "version": 3
   },
   "file_extension": ".py",
   "mimetype": "text/x-python",
   "name": "python",
   "nbconvert_exporter": "python",
   "pygments_lexer": "ipython3",
   "version": "3.6.8"
  }
 },
 "nbformat": 4,
 "nbformat_minor": 2
}
