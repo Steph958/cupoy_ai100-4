{
 "cells": [
  {
   "cell_type": "markdown",
   "metadata": {},
   "source": [
    "## 範例重點\n",
    "* 學習如何在 keras 中加入 EarlyStop\n",
    "* 知道如何設定監控目標\n",
    "* 比較有無 earlystopping 對 validation 的影響"
   ]
  },
  {
   "cell_type": "code",
   "execution_count": 5,
   "metadata": {},
   "outputs": [],
   "source": [
    "import os\n",
    "import keras\n",
    "\n",
    "# 本範例不需使用 GPU, 將 GPU 設定為 \"無\"\n",
    "os.environ[\"CUDA_VISIBLE_DEVICES\"] = \"\""
   ]
  },
  {
   "cell_type": "code",
   "execution_count": 6,
   "metadata": {},
   "outputs": [],
   "source": [
    "train, test = keras.datasets.cifar10.load_data()"
   ]
  },
  {
   "cell_type": "code",
   "execution_count": 7,
   "metadata": {},
   "outputs": [],
   "source": [
    "## 資料前處理\n",
    "def preproc_x(x, flatten=True):\n",
    "    x = x / 255.\n",
    "    if flatten:\n",
    "        x = x.reshape((len(x), -1))\n",
    "    return x\n",
    "\n",
    "def preproc_y(y, num_classes=10):\n",
    "    if y.shape[-1] == 1:\n",
    "        y = keras.utils.to_categorical(y, num_classes)\n",
    "    return y    "
   ]
  },
  {
   "cell_type": "code",
   "execution_count": 8,
   "metadata": {},
   "outputs": [],
   "source": [
    "x_train, y_train = train\n",
    "x_test, y_test = test\n",
    "\n",
    "# 資料前處理 - X 標準化\n",
    "x_train = preproc_x(x_train)\n",
    "x_test = preproc_x(x_test)\n",
    "\n",
    "# 資料前處理 -Y 轉成 onehot\n",
    "y_train = preproc_y(y_train)\n",
    "y_test = preproc_y(y_test)"
   ]
  },
  {
   "cell_type": "code",
   "execution_count": 9,
   "metadata": {},
   "outputs": [],
   "source": [
    "from keras.layers import BatchNormalization\n",
    "\n",
    "\"\"\"\n",
    "建立神經網路，並加入 BN layer\n",
    "\"\"\"\n",
    "def build_mlp(input_shape, output_units=10, num_neurons=[512, 256, 128]):\n",
    "    input_layer = keras.layers.Input(input_shape)\n",
    "    \n",
    "    for i, n_units in enumerate(num_neurons):\n",
    "        if i == 0:\n",
    "            x = keras.layers.Dense(units=n_units, \n",
    "                                   activation=\"relu\", \n",
    "                                   name=\"hidden_layer\"+str(i+1))(input_layer)\n",
    "            x = BatchNormalization()(x)\n",
    "        else:\n",
    "            x = keras.layers.Dense(units=n_units, \n",
    "                                   activation=\"relu\", \n",
    "                                   name=\"hidden_layer\"+str(i+1))(x)\n",
    "            x = BatchNormalization()(x)\n",
    "    \n",
    "    out = keras.layers.Dense(units=output_units, activation=\"softmax\", name=\"output\")(x)\n",
    "    \n",
    "    model = keras.models.Model(inputs=[input_layer], outputs=[out])\n",
    "    return model"
   ]
  },
  {
   "cell_type": "code",
   "execution_count": 10,
   "metadata": {},
   "outputs": [],
   "source": [
    "## 超參數設定\n",
    "LEARNING_RATE = 1e-3\n",
    "EPOCHS = 50\n",
    "BATCH_SIZE = 1024\n",
    "MOMENTUM = 0.95"
   ]
  },
  {
   "cell_type": "code",
   "execution_count": 11,
   "metadata": {},
   "outputs": [],
   "source": [
    "\"\"\"\n",
    "# 載入 Callbacks, 並將 monitor 設定為監控 validation loss\n",
    "\"\"\"\n",
    "from keras.callbacks import EarlyStopping\n",
    "\n",
    "earlystop = EarlyStopping(monitor=\"val_loss\", \n",
    "                          patience=5, \n",
    "                          verbose=1\n",
    "                          )"
   ]
  },
  {
   "cell_type": "code",
   "execution_count": 12,
   "metadata": {
    "scrolled": true
   },
   "outputs": [
    {
     "name": "stdout",
     "output_type": "stream",
     "text": [
      "WARNING:tensorflow:From /usr/local/lib/python3.6/dist-packages/tensorflow_core/python/ops/resource_variable_ops.py:1630: calling BaseResourceVariable.__init__ (from tensorflow.python.ops.resource_variable_ops) with constraint is deprecated and will be removed in a future version.\n",
      "Instructions for updating:\n",
      "If using Keras pass *_constraint arguments to layers.\n",
      "Model: \"model_1\"\n",
      "_________________________________________________________________\n",
      "Layer (type)                 Output Shape              Param #   \n",
      "=================================================================\n",
      "input_1 (InputLayer)         (None, 3072)              0         \n",
      "_________________________________________________________________\n",
      "hidden_layer1 (Dense)        (None, 512)               1573376   \n",
      "_________________________________________________________________\n",
      "batch_normalization_1 (Batch (None, 512)               2048      \n",
      "_________________________________________________________________\n",
      "hidden_layer2 (Dense)        (None, 256)               131328    \n",
      "_________________________________________________________________\n",
      "batch_normalization_2 (Batch (None, 256)               1024      \n",
      "_________________________________________________________________\n",
      "hidden_layer3 (Dense)        (None, 128)               32896     \n",
      "_________________________________________________________________\n",
      "batch_normalization_3 (Batch (None, 128)               512       \n",
      "_________________________________________________________________\n",
      "output (Dense)               (None, 10)                1290      \n",
      "=================================================================\n",
      "Total params: 1,742,474\n",
      "Trainable params: 1,740,682\n",
      "Non-trainable params: 1,792\n",
      "_________________________________________________________________\n",
      "WARNING:tensorflow:From /usr/local/lib/python3.6/dist-packages/keras/backend/tensorflow_backend.py:422: The name tf.global_variables is deprecated. Please use tf.compat.v1.global_variables instead.\n",
      "\n",
      "Train on 50000 samples, validate on 10000 samples\n",
      "Epoch 1/50\n",
      "50000/50000 [==============================] - 3s 70us/step - loss: 2.2027 - accuracy: 0.2649 - val_loss: 2.1410 - val_accuracy: 0.2014\n",
      "Epoch 2/50\n",
      "50000/50000 [==============================] - 3s 63us/step - loss: 1.7326 - accuracy: 0.3928 - val_loss: 1.9557 - val_accuracy: 0.3198\n",
      "Epoch 3/50\n",
      "50000/50000 [==============================] - 3s 67us/step - loss: 1.6105 - accuracy: 0.4353 - val_loss: 1.8426 - val_accuracy: 0.3525\n",
      "Epoch 4/50\n",
      "50000/50000 [==============================] - 4s 75us/step - loss: 1.5396 - accuracy: 0.4590 - val_loss: 1.7298 - val_accuracy: 0.3935\n",
      "Epoch 5/50\n",
      "50000/50000 [==============================] - 3s 63us/step - loss: 1.4839 - accuracy: 0.4807 - val_loss: 1.6403 - val_accuracy: 0.4305\n",
      "Epoch 6/50\n",
      "50000/50000 [==============================] - 3s 63us/step - loss: 1.4397 - accuracy: 0.4953 - val_loss: 1.5878 - val_accuracy: 0.4438\n",
      "Epoch 7/50\n",
      "50000/50000 [==============================] - 3s 63us/step - loss: 1.4007 - accuracy: 0.5098 - val_loss: 1.5541 - val_accuracy: 0.4531\n",
      "Epoch 8/50\n",
      "50000/50000 [==============================] - 3s 63us/step - loss: 1.3679 - accuracy: 0.5216 - val_loss: 1.5317 - val_accuracy: 0.4542\n",
      "Epoch 9/50\n",
      "50000/50000 [==============================] - 3s 60us/step - loss: 1.3356 - accuracy: 0.5339 - val_loss: 1.5084 - val_accuracy: 0.4677\n",
      "Epoch 10/50\n",
      "50000/50000 [==============================] - 3s 64us/step - loss: 1.3064 - accuracy: 0.5430 - val_loss: 1.4842 - val_accuracy: 0.4736\n",
      "Epoch 11/50\n",
      "50000/50000 [==============================] - 4s 72us/step - loss: 1.2792 - accuracy: 0.5537 - val_loss: 1.4931 - val_accuracy: 0.4691\n",
      "Epoch 12/50\n",
      "50000/50000 [==============================] - 4s 79us/step - loss: 1.2515 - accuracy: 0.5641 - val_loss: 1.4734 - val_accuracy: 0.4754\n",
      "Epoch 13/50\n",
      "50000/50000 [==============================] - 3s 64us/step - loss: 1.2275 - accuracy: 0.5729 - val_loss: 1.4633 - val_accuracy: 0.4827\n",
      "Epoch 14/50\n",
      "50000/50000 [==============================] - 3s 66us/step - loss: 1.2014 - accuracy: 0.5838 - val_loss: 1.4641 - val_accuracy: 0.4815\n",
      "Epoch 15/50\n",
      "50000/50000 [==============================] - 3s 66us/step - loss: 1.1787 - accuracy: 0.5919 - val_loss: 1.4596 - val_accuracy: 0.4847\n",
      "Epoch 16/50\n",
      "50000/50000 [==============================] - 3s 69us/step - loss: 1.1544 - accuracy: 0.6008 - val_loss: 1.4600 - val_accuracy: 0.4869\n",
      "Epoch 17/50\n",
      "50000/50000 [==============================] - 3s 66us/step - loss: 1.1328 - accuracy: 0.6085 - val_loss: 1.4586 - val_accuracy: 0.4861\n",
      "Epoch 18/50\n",
      "50000/50000 [==============================] - 3s 63us/step - loss: 1.1088 - accuracy: 0.6192 - val_loss: 1.4610 - val_accuracy: 0.4889\n",
      "Epoch 19/50\n",
      "50000/50000 [==============================] - 3s 61us/step - loss: 1.0864 - accuracy: 0.6260 - val_loss: 1.4589 - val_accuracy: 0.4863\n",
      "Epoch 20/50\n",
      "50000/50000 [==============================] - 3s 61us/step - loss: 1.0652 - accuracy: 0.6361 - val_loss: 1.4593 - val_accuracy: 0.4882\n",
      "Epoch 21/50\n",
      "50000/50000 [==============================] - 3s 68us/step - loss: 1.0448 - accuracy: 0.6430 - val_loss: 1.4663 - val_accuracy: 0.4882\n",
      "Epoch 22/50\n",
      "50000/50000 [==============================] - 3s 65us/step - loss: 1.0239 - accuracy: 0.6507 - val_loss: 1.4566 - val_accuracy: 0.4936\n",
      "Epoch 23/50\n",
      "50000/50000 [==============================] - 3s 59us/step - loss: 1.0036 - accuracy: 0.6589 - val_loss: 1.4619 - val_accuracy: 0.4944\n",
      "Epoch 24/50\n",
      "50000/50000 [==============================] - 3s 62us/step - loss: 0.9846 - accuracy: 0.6669 - val_loss: 1.4693 - val_accuracy: 0.4965\n",
      "Epoch 25/50\n",
      "50000/50000 [==============================] - 3s 65us/step - loss: 0.9629 - accuracy: 0.6737 - val_loss: 1.4676 - val_accuracy: 0.4930\n",
      "Epoch 26/50\n",
      "50000/50000 [==============================] - 3s 64us/step - loss: 0.9400 - accuracy: 0.6852 - val_loss: 1.4685 - val_accuracy: 0.4921\n",
      "Epoch 27/50\n",
      "50000/50000 [==============================] - 3s 60us/step - loss: 0.9201 - accuracy: 0.6942 - val_loss: 1.4799 - val_accuracy: 0.4937\n",
      "Epoch 00027: early stopping\n"
     ]
    }
   ],
   "source": [
    "model = build_mlp(input_shape=x_train.shape[1:])\n",
    "model.summary()\n",
    "optimizer = keras.optimizers.SGD(lr=LEARNING_RATE, nesterov=True, momentum=MOMENTUM)\n",
    "model.compile(loss=\"categorical_crossentropy\", metrics=[\"accuracy\"], optimizer=optimizer)\n",
    "\n",
    "model.fit(x_train, y_train, \n",
    "          epochs=EPOCHS, \n",
    "          batch_size=BATCH_SIZE, \n",
    "          validation_data=(x_test, y_test), \n",
    "          shuffle=True,\n",
    "          callbacks=[earlystop]\n",
    "         )\n",
    "\n",
    "# Collect results\n",
    "train_loss = model.history.history[\"loss\"]\n",
    "valid_loss = model.history.history[\"val_loss\"]\n",
    "train_acc = model.history.history[\"accuracy\"]\n",
    "valid_acc = model.history.history[\"val_accuracy\"]"
   ]
  },
  {
   "cell_type": "code",
   "execution_count": 13,
   "metadata": {},
   "outputs": [
    {
     "data": {
      "image/png": "[encoded data removed]",
      "text/plain": [
       "<Figure size 432x288 with 1 Axes>"
      ]
     },
     "metadata": {
      "needs_background": "dark"
     },
     "output_type": "display_data"
    },
    {
     "data": {
      "image/png": "[encoded data removed]",
      "text/plain": [
       "<Figure size 432x288 with 1 Axes>"
      ]
     },
     "metadata": {
      "needs_background": "dark"
     },
     "output_type": "display_data"
    }
   ],
   "source": [
    "import matplotlib.pyplot as plt\n",
    "%matplotlib inline\n",
    "\n",
    "plt.plot(range(len(train_loss)), train_loss, label=\"train loss\")\n",
    "plt.plot(range(len(valid_loss)), valid_loss, label=\"valid loss\")\n",
    "plt.legend()\n",
    "plt.title(\"Loss\")\n",
    "plt.show()\n",
    "\n",
    "plt.plot(range(len(train_acc)), train_acc, label=\"train accuracy\")\n",
    "plt.plot(range(len(valid_acc)), valid_acc, label=\"valid accuracy\")\n",
    "plt.legend()\n",
    "plt.title(\"Accuracy\")\n",
    "plt.show()"
   ]
  },
  {
   "cell_type": "markdown",
   "metadata": {},
   "source": [
    "## Work\n",
    "1. 試改變 monitor \"Validation Accuracy\" 並比較結果\n",
    "2. 調整 earlystop 的等待次數至 10, 25 並比較結果"
   ]
  }
 ],
 "metadata": {
  "kernelspec": {
   "display_name": "Python 3",
   "language": "python",
   "name": "python3"
  },
  "language_info": {
   "codemirror_mode": {
    "name": "ipython",
    "version": 3
   },
   "file_extension": ".py",
   "mimetype": "text/x-python",
   "name": "python",
   "nbconvert_exporter": "python",
   "pygments_lexer": "ipython3",
   "version": "3.6.8"
  }
 },
 "nbformat": 4,
 "nbformat_minor": 2
}
