{
 "cells": [
  {
   "cell_type": "markdown",
   "metadata": {},
   "source": [
    "## 範例重點\n",
    "* 學習如何在 keras 中加入 reduce learning rate\n",
    "* 知道如何設定 reduce_lr 的監控目標\n",
    "* 比較使用有無使用 reduce_lr 時的 performance"
   ]
  },
  {
   "cell_type": "code",
   "execution_count": 1,
   "metadata": {},
   "outputs": [
    {
     "name": "stderr",
     "output_type": "stream",
     "text": [
      "Using TensorFlow backend.\n"
     ]
    }
   ],
   "source": [
    "import os\n",
    "import keras\n",
    "\n",
    "# 本範例不需使用 GPU, 將 GPU 設定為 \"無\"\n",
    "os.environ[\"CUDA_VISIBLE_DEVICES\"] = \"\""
   ]
  },
  {
   "cell_type": "code",
   "execution_count": 2,
   "metadata": {},
   "outputs": [
    {
     "name": "stdout",
     "output_type": "stream",
     "text": [
      "Downloading data from https://www.cs.toronto.edu/~kriz/cifar-10-python.tar.gz\n",
      "170500096/170498071 [==============================] - 47s 0us/step\n"
     ]
    }
   ],
   "source": [
    "train, test = keras.datasets.cifar10.load_data()"
   ]
  },
  {
   "cell_type": "code",
   "execution_count": 4,
   "metadata": {},
   "outputs": [],
   "source": [
    "## 資料前處理\n",
    "def preproc_x(x, flatten=True):\n",
    "    x = x / 255.\n",
    "    if flatten:\n",
    "        x = x.reshape((len(x), -1))\n",
    "    return x\n",
    "\n",
    "def preproc_y(y, num_classes=10):\n",
    "    if y.shape[-1] == 1:\n",
    "        y = keras.utils.to_categorical(y, num_classes)\n",
    "    return y    "
   ]
  },
  {
   "cell_type": "code",
   "execution_count": 5,
   "metadata": {},
   "outputs": [],
   "source": [
    "x_train, y_train = train\n",
    "x_test, y_test = test\n",
    "\n",
    "# 資料前處理 - X 標準化\n",
    "x_train = preproc_x(x_train)\n",
    "x_test = preproc_x(x_test)\n",
    "\n",
    "# 資料前處理 -Y 轉成 onehot\n",
    "y_train = preproc_y(y_train)\n",
    "y_test = preproc_y(y_test)"
   ]
  },
  {
   "cell_type": "code",
   "execution_count": 8,
   "metadata": {},
   "outputs": [],
   "source": [
    "from keras.layers import BatchNormalization\n",
    "\n",
    "\"\"\"\n",
    "建立神經網路，並加入 BN layer\n",
    "\"\"\"\n",
    "def build_mlp(input_shape, output_units=10, num_neurons=[512, 256, 128]):\n",
    "    input_layer = keras.layers.Input(input_shape)\n",
    "    \n",
    "    for i, n_units in enumerate(num_neurons):\n",
    "        if i == 0:\n",
    "            x = keras.layers.Dense(units=n_units, \n",
    "                                   activation=\"relu\", \n",
    "                                   name=\"hidden_layer\"+str(i+1))(input_layer)\n",
    "            x = BatchNormalization()(x)\n",
    "        else:\n",
    "            x = keras.layers.Dense(units=n_units, \n",
    "                                   activation=\"relu\", \n",
    "                                   name=\"hidden_layer\"+str(i+1))(x)\n",
    "            x = BatchNormalization()(x)\n",
    "    \n",
    "    out = keras.layers.Dense(units=output_units, activation=\"softmax\", name=\"output\")(x)\n",
    "    \n",
    "    model = keras.models.Model(inputs=[input_layer], outputs=[out])\n",
    "    return model"
   ]
  },
  {
   "cell_type": "code",
   "execution_count": 9,
   "metadata": {},
   "outputs": [],
   "source": [
    "## 超參數設定\n",
    "LEARNING_RATE = 1e-3\n",
    "EPOCHS = 50\n",
    "BATCH_SIZE = 1024\n",
    "MOMENTUM = 0.95"
   ]
  },
  {
   "cell_type": "code",
   "execution_count": 10,
   "metadata": {},
   "outputs": [],
   "source": [
    "\"\"\"\n",
    "# 載入 Callbacks, 並設定監控目標為 validation loss\n",
    "\"\"\"\n",
    "from keras.callbacks import ReduceLROnPlateau\n",
    "\n",
    "reduce_lr = ReduceLROnPlateau(factor=0.5, \n",
    "                              min_lr=1e-12, \n",
    "                              monitor='val_loss', \n",
    "                              patience=5, \n",
    "                              verbose=1)"
   ]
  },
  {
   "cell_type": "code",
   "execution_count": 12,
   "metadata": {
    "scrolled": true
   },
   "outputs": [
    {
     "name": "stdout",
     "output_type": "stream",
     "text": [
      "Model: \"model_2\"\n",
      "_________________________________________________________________\n",
      "Layer (type)                 Output Shape              Param #   \n",
      "=================================================================\n",
      "input_2 (InputLayer)         (None, 3072)              0         \n",
      "_________________________________________________________________\n",
      "hidden_layer1 (Dense)        (None, 512)               1573376   \n",
      "_________________________________________________________________\n",
      "batch_normalization_4 (Batch (None, 512)               2048      \n",
      "_________________________________________________________________\n",
      "hidden_layer2 (Dense)        (None, 256)               131328    \n",
      "_________________________________________________________________\n",
      "batch_normalization_5 (Batch (None, 256)               1024      \n",
      "_________________________________________________________________\n",
      "hidden_layer3 (Dense)        (None, 128)               32896     \n",
      "_________________________________________________________________\n",
      "batch_normalization_6 (Batch (None, 128)               512       \n",
      "_________________________________________________________________\n",
      "output (Dense)               (None, 10)                1290      \n",
      "=================================================================\n",
      "Total params: 1,742,474\n",
      "Trainable params: 1,740,682\n",
      "Non-trainable params: 1,792\n",
      "_________________________________________________________________\n",
      "Train on 50000 samples, validate on 10000 samples\n",
      "Epoch 1/50\n",
      "50000/50000 [==============================] - 4s 82us/step - loss: 2.2003 - accuracy: 0.2745 - val_loss: 2.0900 - val_accuracy: 0.2342\n",
      "Epoch 2/50\n",
      "50000/50000 [==============================] - 3s 69us/step - loss: 1.7310 - accuracy: 0.3956 - val_loss: 1.9703 - val_accuracy: 0.2912\n",
      "Epoch 3/50\n",
      "50000/50000 [==============================] - 3s 68us/step - loss: 1.6090 - accuracy: 0.4353 - val_loss: 1.8162 - val_accuracy: 0.3632\n",
      "Epoch 4/50\n",
      "50000/50000 [==============================] - 3s 67us/step - loss: 1.5379 - accuracy: 0.4607 - val_loss: 1.7117 - val_accuracy: 0.4021\n",
      "Epoch 5/50\n",
      "50000/50000 [==============================] - 4s 74us/step - loss: 1.4851 - accuracy: 0.4798 - val_loss: 1.6436 - val_accuracy: 0.4205\n",
      "Epoch 6/50\n",
      "50000/50000 [==============================] - 3s 69us/step - loss: 1.4392 - accuracy: 0.4967 - val_loss: 1.5764 - val_accuracy: 0.4428\n",
      "Epoch 7/50\n",
      "50000/50000 [==============================] - 4s 79us/step - loss: 1.3984 - accuracy: 0.5116 - val_loss: 1.5470 - val_accuracy: 0.4505\n",
      "Epoch 8/50\n",
      "50000/50000 [==============================] - 3s 69us/step - loss: 1.3635 - accuracy: 0.5235 - val_loss: 1.5307 - val_accuracy: 0.4551\n",
      "Epoch 9/50\n",
      "50000/50000 [==============================] - 4s 76us/step - loss: 1.3306 - accuracy: 0.5356 - val_loss: 1.5051 - val_accuracy: 0.4712\n",
      "Epoch 10/50\n",
      "50000/50000 [==============================] - 4s 80us/step - loss: 1.3025 - accuracy: 0.5474 - val_loss: 1.4996 - val_accuracy: 0.4704\n",
      "Epoch 11/50\n",
      "50000/50000 [==============================] - 4s 74us/step - loss: 1.2725 - accuracy: 0.5585 - val_loss: 1.4776 - val_accuracy: 0.4789\n",
      "Epoch 12/50\n",
      "50000/50000 [==============================] - 3s 66us/step - loss: 1.2457 - accuracy: 0.5703 - val_loss: 1.4870 - val_accuracy: 0.4690\n",
      "Epoch 13/50\n",
      "50000/50000 [==============================] - 3s 68us/step - loss: 1.2199 - accuracy: 0.5787 - val_loss: 1.4677 - val_accuracy: 0.4828\n",
      "Epoch 14/50\n",
      "50000/50000 [==============================] - 3s 63us/step - loss: 1.1953 - accuracy: 0.5874 - val_loss: 1.4746 - val_accuracy: 0.4822\n",
      "Epoch 15/50\n",
      "50000/50000 [==============================] - 3s 65us/step - loss: 1.1705 - accuracy: 0.5956 - val_loss: 1.4605 - val_accuracy: 0.4834\n",
      "Epoch 16/50\n",
      "50000/50000 [==============================] - 3s 65us/step - loss: 1.1488 - accuracy: 0.6037 - val_loss: 1.4634 - val_accuracy: 0.4872\n",
      "Epoch 17/50\n",
      "50000/50000 [==============================] - 3s 66us/step - loss: 1.1233 - accuracy: 0.6136 - val_loss: 1.4628 - val_accuracy: 0.4879\n",
      "Epoch 18/50\n",
      "50000/50000 [==============================] - 3s 66us/step - loss: 1.1029 - accuracy: 0.6237 - val_loss: 1.4570 - val_accuracy: 0.4898\n",
      "Epoch 19/50\n",
      "50000/50000 [==============================] - 3s 68us/step - loss: 1.0820 - accuracy: 0.6285 - val_loss: 1.4542 - val_accuracy: 0.4919\n",
      "Epoch 20/50\n",
      "50000/50000 [==============================] - 3s 68us/step - loss: 1.0583 - accuracy: 0.6384 - val_loss: 1.4599 - val_accuracy: 0.4872\n",
      "Epoch 21/50\n",
      "50000/50000 [==============================] - 3s 69us/step - loss: 1.0356 - accuracy: 0.6460 - val_loss: 1.4671 - val_accuracy: 0.4930\n",
      "Epoch 22/50\n",
      "50000/50000 [==============================] - 4s 71us/step - loss: 1.0165 - accuracy: 0.6545 - val_loss: 1.4529 - val_accuracy: 0.4916\n",
      "Epoch 23/50\n",
      "50000/50000 [==============================] - 3s 59us/step - loss: 0.9960 - accuracy: 0.6613 - val_loss: 1.4576 - val_accuracy: 0.4951\n",
      "Epoch 24/50\n",
      "50000/50000 [==============================] - 3s 69us/step - loss: 0.9744 - accuracy: 0.6704 - val_loss: 1.4609 - val_accuracy: 0.4932\n",
      "Epoch 25/50\n",
      "50000/50000 [==============================] - 3s 67us/step - loss: 0.9542 - accuracy: 0.6778 - val_loss: 1.4643 - val_accuracy: 0.4953\n",
      "Epoch 26/50\n",
      "50000/50000 [==============================] - 3s 61us/step - loss: 0.9333 - accuracy: 0.6857 - val_loss: 1.4740 - val_accuracy: 0.4936\n",
      "Epoch 27/50\n",
      "50000/50000 [==============================] - 3s 61us/step - loss: 0.9146 - accuracy: 0.6934 - val_loss: 1.4666 - val_accuracy: 0.4967\n",
      "\n",
      "Epoch 00027: ReduceLROnPlateau reducing learning rate to 0.0005000000237487257.\n",
      "Epoch 28/50\n",
      "50000/50000 [==============================] - 3s 63us/step - loss: 0.8866 - accuracy: 0.7057 - val_loss: 1.4666 - val_accuracy: 0.5006\n",
      "Epoch 29/50\n",
      "50000/50000 [==============================] - 3s 62us/step - loss: 0.8674 - accuracy: 0.7137 - val_loss: 1.4546 - val_accuracy: 0.5069\n",
      "Epoch 30/50\n",
      "50000/50000 [==============================] - 3s 64us/step - loss: 0.8552 - accuracy: 0.7165 - val_loss: 1.4541 - val_accuracy: 0.5074\n",
      "Epoch 31/50\n",
      "50000/50000 [==============================] - 3s 62us/step - loss: 0.8444 - accuracy: 0.7225 - val_loss: 1.4641 - val_accuracy: 0.5048\n",
      "Epoch 32/50\n",
      "50000/50000 [==============================] - 3s 62us/step - loss: 0.8331 - accuracy: 0.7279 - val_loss: 1.4595 - val_accuracy: 0.5062\n",
      "\n",
      "Epoch 00032: ReduceLROnPlateau reducing learning rate to 0.0002500000118743628.\n",
      "Epoch 33/50\n",
      "50000/50000 [==============================] - 3s 62us/step - loss: 0.8174 - accuracy: 0.7332 - val_loss: 1.4632 - val_accuracy: 0.5074\n",
      "Epoch 34/50\n",
      "50000/50000 [==============================] - 3s 63us/step - loss: 0.8076 - accuracy: 0.7383 - val_loss: 1.4627 - val_accuracy: 0.5099\n",
      "Epoch 35/50\n",
      "50000/50000 [==============================] - 3s 62us/step - loss: 0.8008 - accuracy: 0.7400 - val_loss: 1.4660 - val_accuracy: 0.5052\n",
      "Epoch 36/50\n",
      "50000/50000 [==============================] - 3s 62us/step - loss: 0.7961 - accuracy: 0.7428 - val_loss: 1.4690 - val_accuracy: 0.5071\n",
      "Epoch 37/50\n",
      "50000/50000 [==============================] - 3s 63us/step - loss: 0.7910 - accuracy: 0.7445 - val_loss: 1.4692 - val_accuracy: 0.5110\n",
      "\n",
      "Epoch 00037: ReduceLROnPlateau reducing learning rate to 0.0001250000059371814.\n",
      "Epoch 38/50\n",
      "50000/50000 [==============================] - 3s 63us/step - loss: 0.7829 - accuracy: 0.7480 - val_loss: 1.4681 - val_accuracy: 0.5079\n",
      "Epoch 39/50\n",
      "50000/50000 [==============================] - 3s 62us/step - loss: 0.7777 - accuracy: 0.7521 - val_loss: 1.4698 - val_accuracy: 0.5075\n",
      "Epoch 40/50\n",
      "50000/50000 [==============================] - 3s 62us/step - loss: 0.7744 - accuracy: 0.7526 - val_loss: 1.4718 - val_accuracy: 0.5085\n",
      "Epoch 41/50\n",
      "50000/50000 [==============================] - 3s 62us/step - loss: 0.7719 - accuracy: 0.7540 - val_loss: 1.4744 - val_accuracy: 0.5109\n",
      "Epoch 42/50\n",
      "50000/50000 [==============================] - 3s 62us/step - loss: 0.7689 - accuracy: 0.7550 - val_loss: 1.4768 - val_accuracy: 0.5066\n",
      "\n",
      "Epoch 00042: ReduceLROnPlateau reducing learning rate to 6.25000029685907e-05.\n",
      "Epoch 43/50\n",
      "50000/50000 [==============================] - 3s 62us/step - loss: 0.7645 - accuracy: 0.7576 - val_loss: 1.4743 - val_accuracy: 0.5093\n",
      "Epoch 44/50\n"
     ]
    },
    {
     "name": "stdout",
     "output_type": "stream",
     "text": [
      "50000/50000 [==============================] - 3s 63us/step - loss: 0.7614 - accuracy: 0.7580 - val_loss: 1.4734 - val_accuracy: 0.5088\n",
      "Epoch 45/50\n",
      "50000/50000 [==============================] - 3s 62us/step - loss: 0.7596 - accuracy: 0.7577 - val_loss: 1.4752 - val_accuracy: 0.5103\n",
      "Epoch 46/50\n",
      "50000/50000 [==============================] - 3s 63us/step - loss: 0.7595 - accuracy: 0.7594 - val_loss: 1.4754 - val_accuracy: 0.5120\n",
      "Epoch 47/50\n",
      "50000/50000 [==============================] - 3s 66us/step - loss: 0.7574 - accuracy: 0.7599 - val_loss: 1.4756 - val_accuracy: 0.5109\n",
      "\n",
      "Epoch 00047: ReduceLROnPlateau reducing learning rate to 3.125000148429535e-05.\n",
      "Epoch 48/50\n",
      "50000/50000 [==============================] - 3s 68us/step - loss: 0.7548 - accuracy: 0.7621 - val_loss: 1.4762 - val_accuracy: 0.5095\n",
      "Epoch 49/50\n",
      "50000/50000 [==============================] - 3s 67us/step - loss: 0.7545 - accuracy: 0.7601 - val_loss: 1.4760 - val_accuracy: 0.5102\n",
      "Epoch 50/50\n",
      "50000/50000 [==============================] - 4s 71us/step - loss: 0.7533 - accuracy: 0.7608 - val_loss: 1.4773 - val_accuracy: 0.5087\n"
     ]
    }
   ],
   "source": [
    "model = build_mlp(input_shape=x_train.shape[1:])\n",
    "model.summary()\n",
    "optimizer = keras.optimizers.SGD(lr=LEARNING_RATE, nesterov=True, momentum=MOMENTUM)\n",
    "model.compile(loss=\"categorical_crossentropy\", metrics=[\"accuracy\"], optimizer=optimizer)\n",
    "\n",
    "model.fit(x_train, y_train, \n",
    "          epochs=EPOCHS, \n",
    "          batch_size=BATCH_SIZE, \n",
    "          validation_data=(x_test, y_test), \n",
    "          shuffle=True,\n",
    "          callbacks=[reduce_lr]\n",
    "         )\n",
    "\n",
    "# Collect results\n",
    "train_loss = model.history.history[\"loss\"]\n",
    "valid_loss = model.history.history[\"val_loss\"]\n",
    "train_acc = model.history.history[\"accuracy\"]\n",
    "valid_acc = model.history.history[\"val_accuracy\"]"
   ]
  },
  {
   "cell_type": "code",
   "execution_count": 13,
   "metadata": {},
   "outputs": [
    {
     "data": {
      "image/png": "[encoded data removed]",
      "text/plain": [
       "<Figure size 432x288 with 1 Axes>"
      ]
     },
     "metadata": {
      "needs_background": "dark"
     },
     "output_type": "display_data"
    },
    {
     "data": {
      "image/png": "[encoded data removed]",
      "text/plain": [
       "<Figure size 432x288 with 1 Axes>"
      ]
     },
     "metadata": {
      "needs_background": "dark"
     },
     "output_type": "display_data"
    }
   ],
   "source": [
    "import matplotlib.pyplot as plt\n",
    "%matplotlib inline\n",
    "\n",
    "plt.plot(range(len(train_loss)), train_loss, label=\"train loss\")\n",
    "plt.plot(range(len(valid_loss)), valid_loss, label=\"valid loss\")\n",
    "plt.legend()\n",
    "plt.title(\"Loss\")\n",
    "plt.show()\n",
    "\n",
    "plt.plot(range(len(train_acc)), train_acc, label=\"train accuracy\")\n",
    "plt.plot(range(len(valid_acc)), valid_acc, label=\"valid accuracy\")\n",
    "plt.legend()\n",
    "plt.title(\"Accuracy\")\n",
    "plt.show()"
   ]
  },
  {
   "cell_type": "markdown",
   "metadata": {},
   "source": [
    "## Work\n",
    "1. 請改變 reduce_lr 的 patience 和 factor 並比較不同設定下，對訓練/驗證集的影響\n",
    "2. 請將 optimizer 換成 Adam、RMSprop 搭配 reduce_lr 並比較訓練結果"
   ]
  }
 ],
 "metadata": {
  "kernelspec": {
   "display_name": "Python 3",
   "language": "python",
   "name": "python3"
  },
  "language_info": {
   "codemirror_mode": {
    "name": "ipython",
    "version": 3
   },
   "file_extension": ".py",
   "mimetype": "text/x-python",
   "name": "python",
   "nbconvert_exporter": "python",
   "pygments_lexer": "ipython3",
   "version": "3.6.8"
  }
 },
 "nbformat": 4,
 "nbformat_minor": 2
}
