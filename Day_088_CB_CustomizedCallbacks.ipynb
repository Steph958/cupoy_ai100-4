{
 "cells": [
  {
   "cell_type": "markdown",
   "metadata": {},
   "source": [
    "## 範例重點\n",
    "* 學習如何在 keras 中加入自定義的 callbacks\n",
    "* 知道 callback function 可以動作的時機"
   ]
  },
  {
   "cell_type": "code",
   "execution_count": 1,
   "metadata": {},
   "outputs": [
    {
     "name": "stderr",
     "output_type": "stream",
     "text": [
      "Using TensorFlow backend.\n"
     ]
    }
   ],
   "source": [
    "import os\n",
    "import keras\n",
    "\n",
    "# 本範例不需使用 GPU, 將 GPU 設定為 \"無\"\n",
    "os.environ[\"CUDA_VISIBLE_DEVICES\"] = \"\""
   ]
  },
  {
   "cell_type": "code",
   "execution_count": 2,
   "metadata": {},
   "outputs": [],
   "source": [
    "train, test = keras.datasets.cifar10.load_data()"
   ]
  },
  {
   "cell_type": "code",
   "execution_count": 3,
   "metadata": {},
   "outputs": [],
   "source": [
    "## 資料前處理\n",
    "def preproc_x(x, flatten=True):\n",
    "    x = x / 255.\n",
    "    if flatten:\n",
    "        x = x.reshape((len(x), -1))\n",
    "    return x\n",
    "\n",
    "def preproc_y(y, num_classes=10):\n",
    "    if y.shape[-1] == 1:\n",
    "        y = keras.utils.to_categorical(y, num_classes)\n",
    "    return y    "
   ]
  },
  {
   "cell_type": "code",
   "execution_count": 4,
   "metadata": {},
   "outputs": [],
   "source": [
    "x_train, y_train = train\n",
    "x_test, y_test = test\n",
    "\n",
    "# 資料前處理 - X 標準化\n",
    "x_train = preproc_x(x_train)\n",
    "x_test = preproc_x(x_test)\n",
    "\n",
    "# 資料前處理 -Y 轉成 onehot\n",
    "y_train = preproc_y(y_train)\n",
    "y_test = preproc_y(y_test)"
   ]
  },
  {
   "cell_type": "code",
   "execution_count": 5,
   "metadata": {},
   "outputs": [],
   "source": [
    "from keras.layers import BatchNormalization\n",
    "\n",
    "\"\"\"\n",
    "建立神經網路，並加入 BN layer\n",
    "\"\"\"\n",
    "def build_mlp(input_shape, output_units=10, num_neurons=[512, 256, 128]):\n",
    "    input_layer = keras.layers.Input(input_shape)\n",
    "    \n",
    "    for i, n_units in enumerate(num_neurons):\n",
    "        if i == 0:\n",
    "            x = keras.layers.Dense(units=n_units, \n",
    "                                   activation=\"relu\", \n",
    "                                   name=\"hidden_layer\"+str(i+1))(input_layer)\n",
    "            x = BatchNormalization()(x)\n",
    "        else:\n",
    "            x = keras.layers.Dense(units=n_units, \n",
    "                                   activation=\"relu\", \n",
    "                                   name=\"hidden_layer\"+str(i+1))(x)\n",
    "            x = BatchNormalization()(x)\n",
    "    \n",
    "    out = keras.layers.Dense(units=output_units, activation=\"softmax\", name=\"output\")(x)\n",
    "    \n",
    "    model = keras.models.Model(inputs=[input_layer], outputs=[out])\n",
    "    return model"
   ]
  },
  {
   "cell_type": "code",
   "execution_count": 6,
   "metadata": {},
   "outputs": [],
   "source": [
    "## 超參數設定\n",
    "LEARNING_RATE = 1e-3\n",
    "EPOCHS = 50\n",
    "BATCH_SIZE = 1024\n",
    "MOMENTUM = 0.95"
   ]
  },
  {
   "cell_type": "code",
   "execution_count": 11,
   "metadata": {},
   "outputs": [],
   "source": [
    "\"\"\"\n",
    "# 載入 Callbacks，撰寫一個 f1 score 的 callback function\n",
    "\"\"\"\n",
    "\n",
    "from keras.callbacks import Callback\n",
    "from sklearn.metrics import f1_score\n",
    "\n",
    "class f1sc(Callback):\n",
    "    def on_train_begin(self, epoch, logs = {}):\n",
    "        \"\"\"HI! this is on_train_begin\"\"\"\n",
    "        logs = logs or {}\n",
    "        record_items = [\"val_auc\", \"val_f1sc\", \"val_fp\", \"val_fn\", \"val_tp\", \"val_tn\"]\n",
    "        for i in record_items:\n",
    "            if i not in self.params['metrics']:\n",
    "                self.params['metrics'].append(i)\n",
    "    \n",
    "    def on_epoch_end(self, epoch, logs = {}, thres=0.5):\n",
    "        logs = logs or {}\n",
    "        y_true = self.validation_data[1].argmax(axis = 1)\n",
    "        y_pred = self.model.predict(self.validation_data[0])\n",
    "        y_pred = (y_pred[:, 1] >= thres) * 1\n",
    "        \n",
    "        logs[\"val_f1sc\"] = f1_score(y_true = y_true, y_pred = y_pred, average=\"weighted\")\n",
    "        \n",
    "log_f1sc = f1sc()"
   ]
  },
  {
   "cell_type": "code",
   "execution_count": 12,
   "metadata": {
    "scrolled": true
   },
   "outputs": [
    {
     "name": "stdout",
     "output_type": "stream",
     "text": [
      "WARNING:tensorflow:From /usr/local/lib/python3.6/dist-packages/tensorflow_core/python/ops/resource_variable_ops.py:1630: calling BaseResourceVariable.__init__ (from tensorflow.python.ops.resource_variable_ops) with constraint is deprecated and will be removed in a future version.\n",
      "Instructions for updating:\n",
      "If using Keras pass *_constraint arguments to layers.\n",
      "Model: \"model_1\"\n",
      "_________________________________________________________________\n",
      "Layer (type)                 Output Shape              Param #   \n",
      "=================================================================\n",
      "input_1 (InputLayer)         (None, 3072)              0         \n",
      "_________________________________________________________________\n",
      "hidden_layer1 (Dense)        (None, 512)               1573376   \n",
      "_________________________________________________________________\n",
      "batch_normalization_1 (Batch (None, 512)               2048      \n",
      "_________________________________________________________________\n",
      "hidden_layer2 (Dense)        (None, 256)               131328    \n",
      "_________________________________________________________________\n",
      "batch_normalization_2 (Batch (None, 256)               1024      \n",
      "_________________________________________________________________\n",
      "hidden_layer3 (Dense)        (None, 128)               32896     \n",
      "_________________________________________________________________\n",
      "batch_normalization_3 (Batch (None, 128)               512       \n",
      "_________________________________________________________________\n",
      "output (Dense)               (None, 10)                1290      \n",
      "=================================================================\n",
      "Total params: 1,742,474\n",
      "Trainable params: 1,740,682\n",
      "Non-trainable params: 1,792\n",
      "_________________________________________________________________\n",
      "WARNING:tensorflow:From /usr/local/lib/python3.6/dist-packages/keras/backend/tensorflow_backend.py:422: The name tf.global_variables is deprecated. Please use tf.compat.v1.global_variables instead.\n",
      "\n",
      "Train on 50000 samples, validate on 10000 samples\n",
      "Epoch 1/50\n",
      "50000/50000 [==============================] - 4s 90us/step - loss: 2.1995 - accuracy: 0.2709 - val_loss: 2.1508 - val_accuracy: 0.1686\n",
      "Epoch 2/50\n",
      "50000/50000 [==============================] - 3s 69us/step - loss: 1.7428 - accuracy: 0.3911 - val_loss: 1.9790 - val_accuracy: 0.2704\n",
      "Epoch 3/50\n",
      "50000/50000 [==============================] - 4s 70us/step - loss: 1.6183 - accuracy: 0.4351 - val_loss: 1.8137 - val_accuracy: 0.3680\n",
      "Epoch 4/50\n",
      "50000/50000 [==============================] - 3s 68us/step - loss: 1.5449 - accuracy: 0.4597 - val_loss: 1.7121 - val_accuracy: 0.4055\n",
      "Epoch 5/50\n",
      "50000/50000 [==============================] - 4s 73us/step - loss: 1.4896 - accuracy: 0.4794 - val_loss: 1.6481 - val_accuracy: 0.4225\n",
      "Epoch 6/50\n",
      "50000/50000 [==============================] - 4s 71us/step - loss: 1.4443 - accuracy: 0.4955 - val_loss: 1.5913 - val_accuracy: 0.4435\n",
      "Epoch 7/50\n",
      "50000/50000 [==============================] - 3s 63us/step - loss: 1.4056 - accuracy: 0.5098 - val_loss: 1.5467 - val_accuracy: 0.4536\n",
      "Epoch 8/50\n",
      "50000/50000 [==============================] - 3s 69us/step - loss: 1.3674 - accuracy: 0.5234 - val_loss: 1.5238 - val_accuracy: 0.4593\n",
      "Epoch 9/50\n",
      "50000/50000 [==============================] - 4s 72us/step - loss: 1.3358 - accuracy: 0.5360 - val_loss: 1.5088 - val_accuracy: 0.4694\n",
      "Epoch 10/50\n",
      "50000/50000 [==============================] - 3s 70us/step - loss: 1.3041 - accuracy: 0.5466 - val_loss: 1.4967 - val_accuracy: 0.4712\n",
      "Epoch 11/50\n",
      "50000/50000 [==============================] - 3s 68us/step - loss: 1.2756 - accuracy: 0.5578 - val_loss: 1.4814 - val_accuracy: 0.4763\n",
      "Epoch 12/50\n",
      "50000/50000 [==============================] - 3s 67us/step - loss: 1.2494 - accuracy: 0.5681 - val_loss: 1.4824 - val_accuracy: 0.4751\n",
      "Epoch 13/50\n",
      "50000/50000 [==============================] - 3s 63us/step - loss: 1.2234 - accuracy: 0.5783 - val_loss: 1.4705 - val_accuracy: 0.4782\n",
      "Epoch 14/50\n",
      "50000/50000 [==============================] - 3s 68us/step - loss: 1.1968 - accuracy: 0.5865 - val_loss: 1.4628 - val_accuracy: 0.4836\n",
      "Epoch 15/50\n",
      "50000/50000 [==============================] - 3s 64us/step - loss: 1.1724 - accuracy: 0.5973 - val_loss: 1.4563 - val_accuracy: 0.4871\n",
      "Epoch 16/50\n",
      "50000/50000 [==============================] - 3s 63us/step - loss: 1.1480 - accuracy: 0.6057 - val_loss: 1.4568 - val_accuracy: 0.4846\n",
      "Epoch 17/50\n",
      "50000/50000 [==============================] - 3s 62us/step - loss: 1.1244 - accuracy: 0.6152 - val_loss: 1.4616 - val_accuracy: 0.4848\n",
      "Epoch 18/50\n",
      "50000/50000 [==============================] - 3s 62us/step - loss: 1.1017 - accuracy: 0.6229 - val_loss: 1.4568 - val_accuracy: 0.4872\n",
      "Epoch 19/50\n",
      "50000/50000 [==============================] - 3s 62us/step - loss: 1.0784 - accuracy: 0.6338 - val_loss: 1.4600 - val_accuracy: 0.4836\n",
      "Epoch 20/50\n",
      "50000/50000 [==============================] - 3s 60us/step - loss: 1.0572 - accuracy: 0.6411 - val_loss: 1.4630 - val_accuracy: 0.4897\n",
      "Epoch 21/50\n",
      "50000/50000 [==============================] - 3s 60us/step - loss: 1.0361 - accuracy: 0.6490 - val_loss: 1.4609 - val_accuracy: 0.4906\n",
      "Epoch 22/50\n",
      "50000/50000 [==============================] - 3s 63us/step - loss: 1.0145 - accuracy: 0.6571 - val_loss: 1.4617 - val_accuracy: 0.4852\n",
      "Epoch 23/50\n",
      "50000/50000 [==============================] - 3s 64us/step - loss: 0.9923 - accuracy: 0.6649 - val_loss: 1.4690 - val_accuracy: 0.4884\n",
      "Epoch 24/50\n",
      "50000/50000 [==============================] - 3s 64us/step - loss: 0.9731 - accuracy: 0.6731 - val_loss: 1.4651 - val_accuracy: 0.4930\n",
      "Epoch 25/50\n",
      "50000/50000 [==============================] - 3s 69us/step - loss: 0.9504 - accuracy: 0.6809 - val_loss: 1.4725 - val_accuracy: 0.4913\n",
      "Epoch 26/50\n",
      "50000/50000 [==============================] - 3s 66us/step - loss: 0.9291 - accuracy: 0.6889 - val_loss: 1.4716 - val_accuracy: 0.4931\n",
      "Epoch 27/50\n",
      "50000/50000 [==============================] - 3s 62us/step - loss: 0.9092 - accuracy: 0.6966 - val_loss: 1.4810 - val_accuracy: 0.4904\n",
      "Epoch 28/50\n",
      "50000/50000 [==============================] - 3s 66us/step - loss: 0.8905 - accuracy: 0.7060 - val_loss: 1.5058 - val_accuracy: 0.4886\n",
      "Epoch 29/50\n",
      "50000/50000 [==============================] - 3s 65us/step - loss: 0.8699 - accuracy: 0.7123 - val_loss: 1.4884 - val_accuracy: 0.4901\n",
      "Epoch 30/50\n",
      "50000/50000 [==============================] - 3s 62us/step - loss: 0.8500 - accuracy: 0.7203 - val_loss: 1.4910 - val_accuracy: 0.4904\n",
      "Epoch 31/50\n",
      "50000/50000 [==============================] - 3s 62us/step - loss: 0.8302 - accuracy: 0.7282 - val_loss: 1.5005 - val_accuracy: 0.4924\n",
      "Epoch 32/50\n",
      "50000/50000 [==============================] - 3s 61us/step - loss: 0.8111 - accuracy: 0.7371 - val_loss: 1.4978 - val_accuracy: 0.4943\n",
      "Epoch 33/50\n",
      "50000/50000 [==============================] - 3s 61us/step - loss: 0.7913 - accuracy: 0.7449 - val_loss: 1.4994 - val_accuracy: 0.4942\n",
      "Epoch 34/50\n",
      "50000/50000 [==============================] - 3s 63us/step - loss: 0.7701 - accuracy: 0.7528 - val_loss: 1.5106 - val_accuracy: 0.4926\n",
      "Epoch 35/50\n",
      "50000/50000 [==============================] - 3s 64us/step - loss: 0.7521 - accuracy: 0.7604 - val_loss: 1.5138 - val_accuracy: 0.4926\n",
      "Epoch 36/50\n",
      "50000/50000 [==============================] - 4s 71us/step - loss: 0.7320 - accuracy: 0.7687 - val_loss: 1.5317 - val_accuracy: 0.4919\n",
      "Epoch 37/50\n",
      "50000/50000 [==============================] - 3s 67us/step - loss: 0.7169 - accuracy: 0.7740 - val_loss: 1.5401 - val_accuracy: 0.4927\n",
      "Epoch 38/50\n",
      "50000/50000 [==============================] - 3s 65us/step - loss: 0.6955 - accuracy: 0.7822 - val_loss: 1.5594 - val_accuracy: 0.4847\n",
      "Epoch 39/50\n",
      "50000/50000 [==============================] - 3s 63us/step - loss: 0.6775 - accuracy: 0.7873 - val_loss: 1.5544 - val_accuracy: 0.4942\n",
      "Epoch 40/50\n",
      "50000/50000 [==============================] - 3s 62us/step - loss: 0.6588 - accuracy: 0.7967 - val_loss: 1.5761 - val_accuracy: 0.4932\n",
      "Epoch 41/50\n",
      "50000/50000 [==============================] - 3s 60us/step - loss: 0.6413 - accuracy: 0.8031 - val_loss: 1.5773 - val_accuracy: 0.4935\n",
      "Epoch 42/50\n",
      "50000/50000 [==============================] - 3s 61us/step - loss: 0.6244 - accuracy: 0.8106 - val_loss: 1.5858 - val_accuracy: 0.4947\n"
     ]
    },
    {
     "name": "stdout",
     "output_type": "stream",
     "text": [
      "Epoch 43/50\n",
      "50000/50000 [==============================] - 3s 62us/step - loss: 0.6074 - accuracy: 0.8175 - val_loss: 1.6121 - val_accuracy: 0.4874\n",
      "Epoch 44/50\n",
      "50000/50000 [==============================] - 3s 65us/step - loss: 0.5898 - accuracy: 0.8249 - val_loss: 1.5987 - val_accuracy: 0.4922\n",
      "Epoch 45/50\n",
      "50000/50000 [==============================] - 3s 62us/step - loss: 0.5701 - accuracy: 0.8317 - val_loss: 1.6049 - val_accuracy: 0.4955\n",
      "Epoch 46/50\n",
      "50000/50000 [==============================] - 3s 62us/step - loss: 0.5545 - accuracy: 0.8379 - val_loss: 1.6500 - val_accuracy: 0.4823\n",
      "Epoch 47/50\n",
      "50000/50000 [==============================] - 3s 63us/step - loss: 0.5384 - accuracy: 0.8455 - val_loss: 1.6365 - val_accuracy: 0.4964\n",
      "Epoch 48/50\n",
      "50000/50000 [==============================] - 3s 60us/step - loss: 0.5225 - accuracy: 0.8508 - val_loss: 1.6651 - val_accuracy: 0.4846\n",
      "Epoch 49/50\n",
      "50000/50000 [==============================] - 3s 61us/step - loss: 0.5041 - accuracy: 0.8570 - val_loss: 1.6722 - val_accuracy: 0.4917\n",
      "Epoch 50/50\n",
      "50000/50000 [==============================] - 3s 62us/step - loss: 0.4898 - accuracy: 0.8624 - val_loss: 1.6958 - val_accuracy: 0.4917\n"
     ]
    }
   ],
   "source": [
    "model = build_mlp(input_shape=x_train.shape[1:])\n",
    "model.summary()\n",
    "optimizer = keras.optimizers.SGD(lr=LEARNING_RATE, nesterov=True, momentum=MOMENTUM)\n",
    "model.compile(loss=\"categorical_crossentropy\", metrics=[\"accuracy\"], optimizer=optimizer)\n",
    "\n",
    "model.fit(x_train, y_train, \n",
    "          epochs=EPOCHS, \n",
    "          batch_size=BATCH_SIZE, \n",
    "          validation_data=(x_test, y_test), \n",
    "          shuffle=True,\n",
    "          callbacks=[log_f1sc]\n",
    "         )\n",
    "\n",
    "# Collect results\n",
    "train_loss = model.history.history[\"loss\"]\n",
    "valid_loss = model.history.history[\"val_loss\"]\n",
    "train_acc = model.history.history[\"accuracy\"]\n",
    "valid_acc = model.history.history[\"val_accuracy\"]\n",
    "\n",
    "# 在訓練後，將 f1sc 紀錄調出\n",
    "valid_f1sc = model.history.history['val_f1sc']"
   ]
  },
  {
   "cell_type": "code",
   "execution_count": 13,
   "metadata": {},
   "outputs": [
    {
     "data": {
      "image/png": "[encoded data removed]",
      "text/plain": [
       "<Figure size 432x288 with 1 Axes>"
      ]
     },
     "metadata": {
      "needs_background": "dark"
     },
     "output_type": "display_data"
    },
    {
     "data": {
      "image/png": "[encoded data removed]",
      "text/plain": [
       "<Figure size 432x288 with 1 Axes>"
      ]
     },
     "metadata": {
      "needs_background": "dark"
     },
     "output_type": "display_data"
    },
    {
     "data": {
      "image/png": "[encoded data removed]",
      "text/plain": [
       "<Figure size 432x288 with 1 Axes>"
      ]
     },
     "metadata": {
      "needs_background": "dark"
     },
     "output_type": "display_data"
    }
   ],
   "source": [
    "import matplotlib.pyplot as plt\n",
    "%matplotlib inline\n",
    "\n",
    "plt.plot(range(len(train_loss)), train_loss, label=\"train loss\")\n",
    "plt.plot(range(len(valid_loss)), valid_loss, label=\"valid loss\")\n",
    "plt.legend()\n",
    "plt.title(\"Loss\")\n",
    "plt.show()\n",
    "\n",
    "plt.plot(range(len(train_acc)), train_acc, label=\"train accuracy\")\n",
    "plt.plot(range(len(valid_acc)), valid_acc, label=\"valid accuracy\")\n",
    "plt.legend()\n",
    "plt.title(\"Accuracy\")\n",
    "plt.show()\n",
    "\n",
    "plt.plot(range(len(valid_f1sc)), valid_f1sc, label=\"valid f1-score\")\n",
    "plt.legend()\n",
    "plt.title(\"F1-score\")\n",
    "plt.show()\n"
   ]
  },
  {
   "cell_type": "markdown",
   "metadata": {},
   "source": [
    "## Work\n",
    "1. 請嘗試寫一個 callback 用來記錄各類別在訓練過程中，對驗證集的 True Positive 與 True Negative"
   ]
  }
 ],
 "metadata": {
  "kernelspec": {
   "display_name": "Python 3",
   "language": "python",
   "name": "python3"
  },
  "language_info": {
   "codemirror_mode": {
    "name": "ipython",
    "version": 3
   },
   "file_extension": ".py",
   "mimetype": "text/x-python",
   "name": "python",
   "nbconvert_exporter": "python",
   "pygments_lexer": "ipython3",
   "version": "3.6.8"
  }
 },
 "nbformat": 4,
 "nbformat_minor": 2
}
