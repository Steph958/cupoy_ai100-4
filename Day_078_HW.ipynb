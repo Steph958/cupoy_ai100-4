{
 "cells": [
  {
   "cell_type": "markdown",
   "metadata": {},
   "source": [
    "## Work\n",
    "1. 請嘗試將 preproc_x 替換成以每筆資料的 min/max 進行標準化至 -1 ~ 1 間，再進行訓練\n",
    "2. 請嘗試將 mlp 疊更深 (e.g 5~10 層)，進行訓練後觀察 learning curve 的走勢\n",
    "3. (optional) 請改用 GPU 進行訓練 (如果你有 GPU 的話)，比較使用 CPU 與 GPU 的訓練速度"
   ]
  },
  {
   "cell_type": "code",
   "execution_count": 3,
   "metadata": {},
   "outputs": [],
   "source": [
    "## \n",
    "\"\"\"\n",
    "Your code here (optional)\n",
    "確認硬體資源\n",
    "\"\"\"\n",
    "!nvidia-smi"
   ]
  },
  {
   "cell_type": "code",
   "execution_count": 4,
   "metadata": {},
   "outputs": [],
   "source": [
    "import os\n",
    "import keras\n",
    "\n",
    "# 請嘗試設定 GPU：os.environ\n",
    "os.environ['CUDA_VISIBLE_DEVICES']=''"
   ]
  },
  {
   "cell_type": "code",
   "execution_count": 5,
   "metadata": {},
   "outputs": [],
   "source": [
    "train, test = keras.datasets.cifar10.load_data()"
   ]
  },
  {
   "cell_type": "code",
   "execution_count": 6,
   "metadata": {},
   "outputs": [],
   "source": [
    "## 資料前處理\n",
    "\"\"\"\n",
    "Your code here\n",
    "\"\"\"\n",
    "def preproc_x(x):\n",
    "    x = ((x/255)-0.5)*2\n",
    "    x = x.reshape((len(x), -1))\n",
    "    return x\n",
    "\n",
    "def preproc_y(y):\n",
    "    if y.shape[-1] == 1:\n",
    "        y = keras.utils.to_categorical(y, 10)\n",
    "    return y\n",
    "    "
   ]
  },
  {
   "cell_type": "code",
   "execution_count": 7,
   "metadata": {},
   "outputs": [],
   "source": [
    "x_train, y_train = train\n",
    "x_test, y_test = test\n",
    "\n",
    "# Preproc the inputs\n",
    "x_train = preproc_x(x_train)\n",
    "x_test = preproc_x(x_test)\n",
    "\n",
    "# Preprc the outputs\n",
    "y_train = preproc_y(y_train)\n",
    "y_test = preproc_y(y_test)"
   ]
  },
  {
   "cell_type": "code",
   "execution_count": 9,
   "metadata": {},
   "outputs": [
    {
     "name": "stdout",
     "output_type": "stream",
     "text": [
      "WARNING:tensorflow:From /usr/local/lib/python3.6/dist-packages/tensorflow_core/python/ops/resource_variable_ops.py:1630: calling BaseResourceVariable.__init__ (from tensorflow.python.ops.resource_variable_ops) with constraint is deprecated and will be removed in a future version.\n",
      "Instructions for updating:\n",
      "If using Keras pass *_constraint arguments to layers.\n",
      "Model: \"model_1\"\n",
      "_________________________________________________________________\n",
      "Layer (type)                 Output Shape              Param #   \n",
      "=================================================================\n",
      "input_1 (InputLayer)         (None, 3072)              0         \n",
      "_________________________________________________________________\n",
      "hidden_layer1 (Dense)        (None, 512)               1573376   \n",
      "_________________________________________________________________\n",
      "hidden_layer2 (Dense)        (None, 256)               131328    \n",
      "_________________________________________________________________\n",
      "hidden_layer3 (Dense)        (None, 128)               32896     \n",
      "_________________________________________________________________\n",
      "hidden_layer4 (Dense)        (None, 64)                8256      \n",
      "_________________________________________________________________\n",
      "output (Dense)               (None, 10)                650       \n",
      "=================================================================\n",
      "Total params: 1,746,506\n",
      "Trainable params: 1,746,506\n",
      "Non-trainable params: 0\n",
      "_________________________________________________________________\n"
     ]
    }
   ],
   "source": [
    "\"\"\"Code Here\n",
    "建立你的神經網路\n",
    "\"\"\"\n",
    "def build_mlp(input_shape, output_units=10, num_neurons=[512, 256, 128, 64]):\n",
    "    input_layer = keras.layers.Input(input_shape)\n",
    "    \n",
    "    for i, n_units in enumerate(num_neurons):\n",
    "        if i == 0:\n",
    "            x = keras.layers.Dense(units=n_units, activation=\"relu\", name=\"hidden_layer\"+str(i+1))(input_layer)\n",
    "        else:\n",
    "            x = keras.layers.Dense(units=n_units, activation=\"relu\", name=\"hidden_layer\"+str(i+1))(x)\n",
    "    \n",
    "    out = keras.layers.Dense(units=output_units, activation=\"softmax\", name=\"output\")(x)\n",
    "    \n",
    "    model = keras.models.Model(inputs=[input_layer], outputs=[out])\n",
    "    return model\n",
    "\n",
    "model = build_mlp(input_shape=x_train.shape[1:])\n",
    "model.summary()"
   ]
  },
  {
   "cell_type": "code",
   "execution_count": 10,
   "metadata": {},
   "outputs": [],
   "source": [
    "## 超參數設定\n",
    "LEARNING_RATE = 0.001\n",
    "EPOCHS = 100\n",
    "BATCH_SIZE = 256"
   ]
  },
  {
   "cell_type": "code",
   "execution_count": 11,
   "metadata": {},
   "outputs": [],
   "source": [
    "optimizer = keras.optimizers.Adam(lr=LEARNING_RATE)\n",
    "model.compile(loss=\"categorical_crossentropy\", metrics=[\"accuracy\"], optimizer=optimizer)"
   ]
  },
  {
   "cell_type": "code",
   "execution_count": 12,
   "metadata": {},
   "outputs": [
    {
     "name": "stdout",
     "output_type": "stream",
     "text": [
      "WARNING:tensorflow:From /usr/local/lib/python3.6/dist-packages/keras/backend/tensorflow_backend.py:422: The name tf.global_variables is deprecated. Please use tf.compat.v1.global_variables instead.\n",
      "\n",
      "Train on 50000 samples, validate on 10000 samples\n",
      "Epoch 1/100\n",
      "50000/50000 [==============================] - 6s 112us/step - loss: 1.6976 - accuracy: 0.4002 - val_loss: 1.5454 - val_accuracy: 0.4577\n",
      "Epoch 2/100\n",
      "50000/50000 [==============================] - 5s 108us/step - loss: 1.4663 - accuracy: 0.4824 - val_loss: 1.4475 - val_accuracy: 0.4846\n",
      "Epoch 3/100\n",
      "50000/50000 [==============================] - 6s 116us/step - loss: 1.3464 - accuracy: 0.5258 - val_loss: 1.3824 - val_accuracy: 0.5109\n",
      "Epoch 4/100\n",
      "50000/50000 [==============================] - 6s 115us/step - loss: 1.2534 - accuracy: 0.5578 - val_loss: 1.4237 - val_accuracy: 0.4998\n",
      "Epoch 5/100\n",
      "50000/50000 [==============================] - 6s 115us/step - loss: 1.1721 - accuracy: 0.5885 - val_loss: 1.3779 - val_accuracy: 0.5199\n",
      "Epoch 6/100\n",
      "50000/50000 [==============================] - 6s 113us/step - loss: 1.0942 - accuracy: 0.6125 - val_loss: 1.3833 - val_accuracy: 0.5247\n",
      "Epoch 7/100\n",
      "50000/50000 [==============================] - 6s 114us/step - loss: 1.0152 - accuracy: 0.6416 - val_loss: 1.3828 - val_accuracy: 0.5292\n",
      "Epoch 8/100\n",
      "50000/50000 [==============================] - 6s 114us/step - loss: 0.9369 - accuracy: 0.6704 - val_loss: 1.4061 - val_accuracy: 0.5319\n",
      "Epoch 9/100\n",
      "50000/50000 [==============================] - 6s 123us/step - loss: 0.8725 - accuracy: 0.6900 - val_loss: 1.4449 - val_accuracy: 0.5257\n",
      "Epoch 10/100\n",
      "50000/50000 [==============================] - 6s 123us/step - loss: 0.8034 - accuracy: 0.7165 - val_loss: 1.4985 - val_accuracy: 0.5324\n",
      "Epoch 11/100\n",
      "50000/50000 [==============================] - 6s 121us/step - loss: 0.7368 - accuracy: 0.7393 - val_loss: 1.5637 - val_accuracy: 0.5242\n",
      "Epoch 12/100\n",
      "50000/50000 [==============================] - 6s 116us/step - loss: 0.6679 - accuracy: 0.7637 - val_loss: 1.5792 - val_accuracy: 0.5313\n",
      "Epoch 13/100\n",
      "50000/50000 [==============================] - 6s 113us/step - loss: 0.6120 - accuracy: 0.7832 - val_loss: 1.7051 - val_accuracy: 0.5316\n",
      "Epoch 14/100\n",
      "50000/50000 [==============================] - 6s 110us/step - loss: 0.5542 - accuracy: 0.8053 - val_loss: 1.8461 - val_accuracy: 0.5277\n",
      "Epoch 15/100\n",
      "50000/50000 [==============================] - 6s 124us/step - loss: 0.5033 - accuracy: 0.8216 - val_loss: 1.8436 - val_accuracy: 0.5289\n",
      "Epoch 16/100\n",
      "50000/50000 [==============================] - 6s 122us/step - loss: 0.4544 - accuracy: 0.8402 - val_loss: 1.9793 - val_accuracy: 0.5284\n",
      "Epoch 17/100\n",
      "50000/50000 [==============================] - 6s 117us/step - loss: 0.4333 - accuracy: 0.8471 - val_loss: 2.0438 - val_accuracy: 0.5272\n",
      "Epoch 18/100\n",
      "50000/50000 [==============================] - 6s 119us/step - loss: 0.3837 - accuracy: 0.8644 - val_loss: 2.1955 - val_accuracy: 0.5314\n",
      "Epoch 19/100\n",
      "50000/50000 [==============================] - 6s 120us/step - loss: 0.3587 - accuracy: 0.8741 - val_loss: 2.3089 - val_accuracy: 0.5255\n",
      "Epoch 20/100\n",
      "50000/50000 [==============================] - 6s 118us/step - loss: 0.3252 - accuracy: 0.8865 - val_loss: 2.3252 - val_accuracy: 0.5287\n",
      "Epoch 21/100\n",
      "50000/50000 [==============================] - 5s 109us/step - loss: 0.2930 - accuracy: 0.8988 - val_loss: 2.4719 - val_accuracy: 0.5309\n",
      "Epoch 22/100\n",
      "50000/50000 [==============================] - 6s 119us/step - loss: 0.2782 - accuracy: 0.9025 - val_loss: 2.4734 - val_accuracy: 0.5207\n",
      "Epoch 23/100\n",
      "50000/50000 [==============================] - 6s 120us/step - loss: 0.2577 - accuracy: 0.9104 - val_loss: 2.7459 - val_accuracy: 0.5185\n",
      "Epoch 24/100\n",
      "50000/50000 [==============================] - 6s 125us/step - loss: 0.2573 - accuracy: 0.9107 - val_loss: 2.7333 - val_accuracy: 0.5286\n",
      "Epoch 25/100\n",
      "50000/50000 [==============================] - 6s 122us/step - loss: 0.2421 - accuracy: 0.9163 - val_loss: 2.7897 - val_accuracy: 0.5259\n",
      "Epoch 26/100\n",
      "50000/50000 [==============================] - 6s 123us/step - loss: 0.2196 - accuracy: 0.9230 - val_loss: 2.8292 - val_accuracy: 0.5342\n",
      "Epoch 27/100\n",
      "50000/50000 [==============================] - 6s 115us/step - loss: 0.1876 - accuracy: 0.9351 - val_loss: 3.0478 - val_accuracy: 0.5219\n",
      "Epoch 28/100\n",
      "50000/50000 [==============================] - 6s 111us/step - loss: 0.1990 - accuracy: 0.9313 - val_loss: 3.1114 - val_accuracy: 0.5269\n",
      "Epoch 29/100\n",
      "50000/50000 [==============================] - 6s 116us/step - loss: 0.2064 - accuracy: 0.9292 - val_loss: 3.0813 - val_accuracy: 0.5304\n",
      "Epoch 30/100\n",
      "50000/50000 [==============================] - 6s 117us/step - loss: 0.1868 - accuracy: 0.9364 - val_loss: 3.3071 - val_accuracy: 0.5209\n",
      "Epoch 31/100\n",
      "50000/50000 [==============================] - 6s 114us/step - loss: 0.1903 - accuracy: 0.9338 - val_loss: 3.1765 - val_accuracy: 0.5259\n",
      "Epoch 32/100\n",
      "50000/50000 [==============================] - 6s 114us/step - loss: 0.1657 - accuracy: 0.9435 - val_loss: 3.3624 - val_accuracy: 0.5282\n",
      "Epoch 33/100\n",
      "50000/50000 [==============================] - 5s 109us/step - loss: 0.1476 - accuracy: 0.9485 - val_loss: 3.5132 - val_accuracy: 0.5181\n",
      "Epoch 34/100\n",
      "50000/50000 [==============================] - 6s 115us/step - loss: 0.1699 - accuracy: 0.9422 - val_loss: 3.4518 - val_accuracy: 0.5270\n",
      "Epoch 35/100\n",
      "50000/50000 [==============================] - 5s 107us/step - loss: 0.1526 - accuracy: 0.9482 - val_loss: 3.4963 - val_accuracy: 0.5204\n",
      "Epoch 36/100\n",
      "50000/50000 [==============================] - 6s 118us/step - loss: 0.1564 - accuracy: 0.9465 - val_loss: 3.5846 - val_accuracy: 0.5217\n",
      "Epoch 37/100\n",
      "50000/50000 [==============================] - 6s 115us/step - loss: 0.1555 - accuracy: 0.9469 - val_loss: 3.5120 - val_accuracy: 0.5268\n",
      "Epoch 38/100\n",
      "50000/50000 [==============================] - 6s 119us/step - loss: 0.1343 - accuracy: 0.9540 - val_loss: 3.6984 - val_accuracy: 0.5285\n",
      "Epoch 39/100\n",
      "50000/50000 [==============================] - 6s 114us/step - loss: 0.1594 - accuracy: 0.9460 - val_loss: 3.6046 - val_accuracy: 0.5265\n",
      "Epoch 40/100\n",
      "50000/50000 [==============================] - 6s 121us/step - loss: 0.1302 - accuracy: 0.9553 - val_loss: 3.7730 - val_accuracy: 0.5279\n",
      "Epoch 41/100\n",
      "50000/50000 [==============================] - 6s 111us/step - loss: 0.1247 - accuracy: 0.9587 - val_loss: 3.8650 - val_accuracy: 0.5247\n",
      "Epoch 42/100\n",
      "50000/50000 [==============================] - 6s 121us/step - loss: 0.1295 - accuracy: 0.9564 - val_loss: 3.8539 - val_accuracy: 0.5248\n",
      "Epoch 43/100\n",
      "50000/50000 [==============================] - 6s 129us/step - loss: 0.1360 - accuracy: 0.9540 - val_loss: 3.8550 - val_accuracy: 0.5214\n",
      "Epoch 44/100\n",
      "50000/50000 [==============================] - 6s 123us/step - loss: 0.1264 - accuracy: 0.9570 - val_loss: 3.9909 - val_accuracy: 0.5177\n",
      "Epoch 45/100\n",
      "50000/50000 [==============================] - 5s 106us/step - loss: 0.1136 - accuracy: 0.9615 - val_loss: 4.0304 - val_accuracy: 0.5271\n",
      "Epoch 46/100\n",
      "50000/50000 [==============================] - 5s 107us/step - loss: 0.1036 - accuracy: 0.9649 - val_loss: 4.0434 - val_accuracy: 0.5225\n",
      "Epoch 47/100\n",
      "50000/50000 [==============================] - 5s 108us/step - loss: 0.1103 - accuracy: 0.9630 - val_loss: 4.0447 - val_accuracy: 0.5340\n",
      "Epoch 48/100\n",
      "50000/50000 [==============================] - 6s 115us/step - loss: 0.1488 - accuracy: 0.9520 - val_loss: 4.0102 - val_accuracy: 0.5198\n",
      "Epoch 49/100\n",
      "50000/50000 [==============================] - 5s 107us/step - loss: 0.1282 - accuracy: 0.9571 - val_loss: 4.0479 - val_accuracy: 0.5250\n",
      "Epoch 50/100\n",
      "50000/50000 [==============================] - 6s 124us/step - loss: 0.0898 - accuracy: 0.9698 - val_loss: 4.2619 - val_accuracy: 0.5329\n",
      "Epoch 51/100\n",
      "50000/50000 [==============================] - 6s 116us/step - loss: 0.1068 - accuracy: 0.9660 - val_loss: 4.2545 - val_accuracy: 0.5267\n",
      "Epoch 52/100\n",
      "50000/50000 [==============================] - 6s 115us/step - loss: 0.1276 - accuracy: 0.9580 - val_loss: 4.1213 - val_accuracy: 0.5273\n",
      "Epoch 53/100\n",
      "50000/50000 [==============================] - 6s 116us/step - loss: 0.1081 - accuracy: 0.9642 - val_loss: 4.1110 - val_accuracy: 0.5274\n",
      "Epoch 54/100\n"
     ]
    },
    {
     "name": "stdout",
     "output_type": "stream",
     "text": [
      "50000/50000 [==============================] - 5s 108us/step - loss: 0.1097 - accuracy: 0.9635 - val_loss: 4.1592 - val_accuracy: 0.5246\n",
      "Epoch 55/100\n",
      "50000/50000 [==============================] - 6s 122us/step - loss: 0.1071 - accuracy: 0.9631 - val_loss: 4.4020 - val_accuracy: 0.5215\n",
      "Epoch 56/100\n",
      "50000/50000 [==============================] - 6s 113us/step - loss: 0.1021 - accuracy: 0.9659 - val_loss: 4.2691 - val_accuracy: 0.5202\n",
      "Epoch 57/100\n",
      "50000/50000 [==============================] - 6s 120us/step - loss: 0.0906 - accuracy: 0.9697 - val_loss: 4.5286 - val_accuracy: 0.5221\n",
      "Epoch 58/100\n",
      "50000/50000 [==============================] - 6s 117us/step - loss: 0.0964 - accuracy: 0.9682 - val_loss: 4.4319 - val_accuracy: 0.5243\n",
      "Epoch 59/100\n",
      "50000/50000 [==============================] - 6s 119us/step - loss: 0.1194 - accuracy: 0.9609 - val_loss: 4.3801 - val_accuracy: 0.5173\n",
      "Epoch 60/100\n",
      "50000/50000 [==============================] - 6s 117us/step - loss: 0.0987 - accuracy: 0.9673 - val_loss: 4.4318 - val_accuracy: 0.5296\n",
      "Epoch 61/100\n",
      "50000/50000 [==============================] - 6s 119us/step - loss: 0.0970 - accuracy: 0.9676 - val_loss: 4.3728 - val_accuracy: 0.5246\n",
      "Epoch 62/100\n",
      "50000/50000 [==============================] - 7s 144us/step - loss: 0.1095 - accuracy: 0.9642 - val_loss: 4.4084 - val_accuracy: 0.5261\n",
      "Epoch 63/100\n",
      "50000/50000 [==============================] - 6s 124us/step - loss: 0.0855 - accuracy: 0.9719 - val_loss: 4.5548 - val_accuracy: 0.5207\n",
      "Epoch 64/100\n",
      "50000/50000 [==============================] - 6s 127us/step - loss: 0.0861 - accuracy: 0.9720 - val_loss: 4.6143 - val_accuracy: 0.5207\n",
      "Epoch 65/100\n",
      "50000/50000 [==============================] - 6s 119us/step - loss: 0.0905 - accuracy: 0.9695 - val_loss: 4.4882 - val_accuracy: 0.5277\n",
      "Epoch 66/100\n",
      "50000/50000 [==============================] - 6s 114us/step - loss: 0.0897 - accuracy: 0.9706 - val_loss: 4.4901 - val_accuracy: 0.5293\n",
      "Epoch 67/100\n",
      "50000/50000 [==============================] - 6s 111us/step - loss: 0.0918 - accuracy: 0.9707 - val_loss: 4.6727 - val_accuracy: 0.5299\n",
      "Epoch 68/100\n",
      "50000/50000 [==============================] - 5s 108us/step - loss: 0.0863 - accuracy: 0.9719 - val_loss: 4.6798 - val_accuracy: 0.5230\n",
      "Epoch 69/100\n",
      "50000/50000 [==============================] - 6s 122us/step - loss: 0.0855 - accuracy: 0.9723 - val_loss: 4.7610 - val_accuracy: 0.5219\n",
      "Epoch 70/100\n",
      "50000/50000 [==============================] - 6s 114us/step - loss: 0.0991 - accuracy: 0.9696 - val_loss: 4.6322 - val_accuracy: 0.5144\n",
      "Epoch 71/100\n",
      "50000/50000 [==============================] - 7s 133us/step - loss: 0.0990 - accuracy: 0.9678 - val_loss: 4.5644 - val_accuracy: 0.5238\n",
      "Epoch 72/100\n",
      "50000/50000 [==============================] - 6s 120us/step - loss: 0.0764 - accuracy: 0.9753 - val_loss: 4.6031 - val_accuracy: 0.5296\n",
      "Epoch 73/100\n",
      "50000/50000 [==============================] - 6s 111us/step - loss: 0.0541 - accuracy: 0.9827 - val_loss: 4.8038 - val_accuracy: 0.5329\n",
      "Epoch 74/100\n",
      "50000/50000 [==============================] - 6s 125us/step - loss: 0.0829 - accuracy: 0.9733 - val_loss: 4.9138 - val_accuracy: 0.5213\n",
      "Epoch 75/100\n",
      "50000/50000 [==============================] - 5s 107us/step - loss: 0.1032 - accuracy: 0.9679 - val_loss: 4.7553 - val_accuracy: 0.5251\n",
      "Epoch 76/100\n",
      "50000/50000 [==============================] - 6s 113us/step - loss: 0.1139 - accuracy: 0.9647 - val_loss: 4.6095 - val_accuracy: 0.5271\n",
      "Epoch 77/100\n",
      "50000/50000 [==============================] - 5s 105us/step - loss: 0.0708 - accuracy: 0.9766 - val_loss: 4.7401 - val_accuracy: 0.5293\n",
      "Epoch 78/100\n",
      "50000/50000 [==============================] - 5s 107us/step - loss: 0.0576 - accuracy: 0.9812 - val_loss: 4.7371 - val_accuracy: 0.5320\n",
      "Epoch 79/100\n",
      "50000/50000 [==============================] - 6s 118us/step - loss: 0.0708 - accuracy: 0.9765 - val_loss: 4.9033 - val_accuracy: 0.5200\n",
      "Epoch 80/100\n",
      "50000/50000 [==============================] - 6s 112us/step - loss: 0.0894 - accuracy: 0.9720 - val_loss: 4.7197 - val_accuracy: 0.5228\n",
      "Epoch 81/100\n",
      "50000/50000 [==============================] - 5s 105us/step - loss: 0.0765 - accuracy: 0.9751 - val_loss: 4.8637 - val_accuracy: 0.5294\n",
      "Epoch 82/100\n",
      "50000/50000 [==============================] - 5s 105us/step - loss: 0.0557 - accuracy: 0.9822 - val_loss: 4.8287 - val_accuracy: 0.5238\n",
      "Epoch 83/100\n",
      "50000/50000 [==============================] - 5s 104us/step - loss: 0.0679 - accuracy: 0.9784 - val_loss: 4.9176 - val_accuracy: 0.5251\n",
      "Epoch 84/100\n",
      "50000/50000 [==============================] - 5s 103us/step - loss: 0.0763 - accuracy: 0.9748 - val_loss: 4.9609 - val_accuracy: 0.5272\n",
      "Epoch 85/100\n",
      "50000/50000 [==============================] - 5s 103us/step - loss: 0.0937 - accuracy: 0.9707 - val_loss: 4.8931 - val_accuracy: 0.5320\n",
      "Epoch 86/100\n",
      "50000/50000 [==============================] - 5s 103us/step - loss: 0.0620 - accuracy: 0.9800 - val_loss: 5.0936 - val_accuracy: 0.5254\n",
      "Epoch 87/100\n",
      "50000/50000 [==============================] - 5s 104us/step - loss: 0.0970 - accuracy: 0.9700 - val_loss: 4.7809 - val_accuracy: 0.5280\n",
      "Epoch 88/100\n",
      "50000/50000 [==============================] - 6s 114us/step - loss: 0.0937 - accuracy: 0.9701 - val_loss: 4.7346 - val_accuracy: 0.5269\n",
      "Epoch 89/100\n",
      "50000/50000 [==============================] - 6s 113us/step - loss: 0.0528 - accuracy: 0.9828 - val_loss: 5.0088 - val_accuracy: 0.5293\n",
      "Epoch 90/100\n",
      "50000/50000 [==============================] - 6s 119us/step - loss: 0.0657 - accuracy: 0.9783 - val_loss: 4.9303 - val_accuracy: 0.5290\n",
      "Epoch 91/100\n",
      "50000/50000 [==============================] - 5s 105us/step - loss: 0.0591 - accuracy: 0.9809 - val_loss: 4.9552 - val_accuracy: 0.5276\n",
      "Epoch 92/100\n",
      "50000/50000 [==============================] - 6s 120us/step - loss: 0.0682 - accuracy: 0.9785 - val_loss: 4.9673 - val_accuracy: 0.5266\n",
      "Epoch 93/100\n",
      "50000/50000 [==============================] - 5s 110us/step - loss: 0.0907 - accuracy: 0.9721 - val_loss: 4.8755 - val_accuracy: 0.5243\n",
      "Epoch 94/100\n",
      "50000/50000 [==============================] - 5s 108us/step - loss: 0.0621 - accuracy: 0.9814 - val_loss: 4.9134 - val_accuracy: 0.5317\n",
      "Epoch 95/100\n",
      "50000/50000 [==============================] - 6s 119us/step - loss: 0.0369 - accuracy: 0.9881 - val_loss: 5.2072 - val_accuracy: 0.5256\n",
      "Epoch 96/100\n",
      "50000/50000 [==============================] - 6s 129us/step - loss: 0.0695 - accuracy: 0.9785 - val_loss: 5.1707 - val_accuracy: 0.5243\n",
      "Epoch 97/100\n",
      "50000/50000 [==============================] - 6s 118us/step - loss: 0.0864 - accuracy: 0.9731 - val_loss: 4.9486 - val_accuracy: 0.5256\n",
      "Epoch 98/100\n",
      "50000/50000 [==============================] - 6s 121us/step - loss: 0.0714 - accuracy: 0.9772 - val_loss: 4.9660 - val_accuracy: 0.5335\n",
      "Epoch 99/100\n",
      "50000/50000 [==============================] - 6s 110us/step - loss: 0.0653 - accuracy: 0.9791 - val_loss: 5.0422 - val_accuracy: 0.5229\n",
      "Epoch 100/100\n",
      "50000/50000 [==============================] - 6s 121us/step - loss: 0.0713 - accuracy: 0.9767 - val_loss: 4.9790 - val_accuracy: 0.5199\n"
     ]
    },
    {
     "data": {
      "text/plain": [
       "<keras.callbacks.callbacks.History at 0x7f8227a25ba8>"
      ]
     },
     "execution_count": 12,
     "metadata": {},
     "output_type": "execute_result"
    }
   ],
   "source": [
    "model.fit(x_train, y_train, \n",
    "          epochs=EPOCHS, \n",
    "          batch_size=BATCH_SIZE, \n",
    "          validation_data=(x_test, y_test), \n",
    "          shuffle=True)"
   ]
  },
  {
   "cell_type": "code",
   "execution_count": 14,
   "metadata": {},
   "outputs": [
    {
     "data": {
      "image/png": "[encoded data removed]",
      "text/plain": [
       "<Figure size 432x288 with 1 Axes>"
      ]
     },
     "metadata": {
      "needs_background": "dark"
     },
     "output_type": "display_data"
    },
    {
     "data": {
      "image/png": "[encoded data removed]",
      "text/plain": [
       "<Figure size 432x288 with 1 Axes>"
      ]
     },
     "metadata": {
      "needs_background": "dark"
     },
     "output_type": "display_data"
    }
   ],
   "source": [
    "import matplotlib.pyplot as plt\n",
    "\n",
    "\n",
    "train_loss = model.history.history[\"loss\"]\n",
    "valid_loss = model.history.history[\"val_loss\"]\n",
    "\n",
    "train_acc = model.history.history[\"accuracy\"]\n",
    "valid_acc = model.history.history[\"val_accuracy\"]\n",
    "\n",
    "plt.plot(range(len(train_loss)), train_loss, label=\"train loss\")\n",
    "plt.plot(range(len(valid_loss)), valid_loss, label=\"valid loss\")\n",
    "plt.legend()\n",
    "plt.title(\"Loss\")\n",
    "plt.show()\n",
    "\n",
    "plt.plot(range(len(train_acc)), train_acc, label=\"train accuracy\")\n",
    "plt.plot(range(len(valid_acc)), valid_acc, label=\"valid accuracy\")\n",
    "plt.legend()\n",
    "plt.title(\"Accuracy\")\n",
    "plt.show()"
   ]
  },
  {
   "cell_type": "code",
   "execution_count": 15,
   "metadata": {},
   "outputs": [
    {
     "name": "stdout",
     "output_type": "stream",
     "text": [
      "[NbConvertApp] Converting notebook Day_078_HW.ipynb to html\n",
      "[NbConvertApp] Writing 379971 bytes to Day_078_HW.html\n",
      "[NbConvertApp] Converting notebook Day_078_CheckBeforeTrain.ipynb to html\n",
      "[NbConvertApp] Writing 425555 bytes to Day_078_CheckBeforeTrain.html\n"
     ]
    }
   ],
   "source": [
    "! jupyter nbconvert --to html Day_078_HW.ipynb Day_078_CheckBeforeTrain.ipynb"
   ]
  }
 ],
 "metadata": {
  "kernelspec": {
   "display_name": "Python 3",
   "language": "python",
   "name": "python3"
  },
  "language_info": {
   "codemirror_mode": {
    "name": "ipython",
    "version": 3
   },
   "file_extension": ".py",
   "mimetype": "text/x-python",
   "name": "python",
   "nbconvert_exporter": "python",
   "pygments_lexer": "ipython3",
   "version": "3.6.8"
  }
 },
 "nbformat": 4,
 "nbformat_minor": 2
}
