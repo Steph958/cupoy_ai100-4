{
 "cells": [
  {
   "cell_type": "markdown",
   "metadata": {},
   "source": [
    "## 範例重點\n",
    "* 學習如何在 keras 中撰寫自定義的 loss function\n",
    "* 知道如何在訓練時使用自定義的 loss function"
   ]
  },
  {
   "cell_type": "code",
   "execution_count": 10,
   "metadata": {},
   "outputs": [],
   "source": [
    "import os\n",
    "import keras\n",
    "\n",
    "# 本範例不需使用 GPU, 將 GPU 設定為 \"無\"\n",
    "os.environ[\"CUDA_VISIBLE_DEVICES\"] = \"\""
   ]
  },
  {
   "cell_type": "code",
   "execution_count": 11,
   "metadata": {},
   "outputs": [],
   "source": [
    "train, test = keras.datasets.cifar10.load_data()"
   ]
  },
  {
   "cell_type": "code",
   "execution_count": 12,
   "metadata": {},
   "outputs": [],
   "source": [
    "## 資料前處理\n",
    "def preproc_x(x, flatten=True):\n",
    "    x = x / 255.\n",
    "    if flatten:\n",
    "        x = x.reshape((len(x), -1))\n",
    "    return x\n",
    "\n",
    "def preproc_y(y, num_classes=10):\n",
    "    if y.shape[-1] == 1:\n",
    "        y = keras.utils.to_categorical(y, num_classes)\n",
    "    return y    "
   ]
  },
  {
   "cell_type": "code",
   "execution_count": 13,
   "metadata": {},
   "outputs": [],
   "source": [
    "x_train, y_train = train\n",
    "x_test, y_test = test\n",
    "\n",
    "# 資料前處理 - X 標準化\n",
    "x_train = preproc_x(x_train)\n",
    "x_test = preproc_x(x_test)\n",
    "\n",
    "# 資料前處理 -Y 轉成 onehot\n",
    "y_train = preproc_y(y_train)\n",
    "y_test = preproc_y(y_test)"
   ]
  },
  {
   "cell_type": "code",
   "execution_count": 14,
   "metadata": {},
   "outputs": [],
   "source": [
    "from keras.layers import BatchNormalization\n",
    "\n",
    "\"\"\"\n",
    "建立神經網路，並加入 BN layer\n",
    "\"\"\"\n",
    "def build_mlp(input_shape, output_units=10, num_neurons=[512, 256, 128]):\n",
    "    input_layer = keras.layers.Input(input_shape)\n",
    "    \n",
    "    for i, n_units in enumerate(num_neurons):\n",
    "        if i == 0:\n",
    "            x = keras.layers.Dense(units=n_units, \n",
    "                                   activation=\"relu\", \n",
    "                                   name=\"hidden_layer\"+str(i+1))(input_layer)\n",
    "            x = BatchNormalization()(x)\n",
    "        else:\n",
    "            x = keras.layers.Dense(units=n_units, \n",
    "                                   activation=\"relu\", \n",
    "                                   name=\"hidden_layer\"+str(i+1))(x)\n",
    "            x = BatchNormalization()(x)\n",
    "    \n",
    "    out = keras.layers.Dense(units=output_units, activation=\"softmax\", name=\"output\")(x)\n",
    "    \n",
    "    model = keras.models.Model(inputs=[input_layer], outputs=[out])\n",
    "    return model"
   ]
  },
  {
   "cell_type": "code",
   "execution_count": 15,
   "metadata": {},
   "outputs": [],
   "source": [
    "## 超參數設定\n",
    "LEARNING_RATE = 1e-3\n",
    "EPOCHS = 50\n",
    "BATCH_SIZE = 1024\n",
    "MOMENTUM = 0.95"
   ]
  },
  {
   "cell_type": "code",
   "execution_count": 16,
   "metadata": {},
   "outputs": [],
   "source": [
    "import tensorflow as tf\n",
    "import keras.backend as K\n",
    "\n",
    "\"\"\"\n",
    "# 撰寫自定義的 loss function: focal loss (https://blog.csdn.net/u014380165/article/details/77019084)\n",
    "\"\"\"\n",
    "def focal_loss(gamma=2., alpha=4.):\n",
    "    gamma = float(gamma)\n",
    "    alpha = float(alpha)\n",
    "    def focal_loss_fixed(y_true, y_pred):\n",
    "        \"\"\"Focal loss for multi-classification\n",
    "        FL(p_t)=-alpha(1-p_t)^{gamma}ln(p_t)\n",
    "        \"\"\"\n",
    "        epsilon = 1e-8\n",
    "        y_true = tf.convert_to_tensor(y_true, tf.float32)\n",
    "        y_pred = tf.convert_to_tensor(y_pred, tf.float32)\n",
    "\n",
    "        model_out = tf.add(y_pred, epsilon)\n",
    "        ce = tf.multiply(y_true, -tf.log(model_out))\n",
    "        weight = tf.multiply(y_true, tf.pow(tf.subtract(1., model_out), gamma))\n",
    "        fl = tf.multiply(alpha, tf.multiply(weight, ce))\n",
    "        reduced_fl = tf.reduce_max(fl, axis=1)\n",
    "        return tf.reduce_mean(reduced_fl)\n",
    "    return focal_loss_fixed"
   ]
  },
  {
   "cell_type": "code",
   "execution_count": 18,
   "metadata": {
    "scrolled": true
   },
   "outputs": [
    {
     "name": "stdout",
     "output_type": "stream",
     "text": [
      "Model: \"model_3\"\n",
      "_________________________________________________________________\n",
      "Layer (type)                 Output Shape              Param #   \n",
      "=================================================================\n",
      "input_3 (InputLayer)         (None, 3072)              0         \n",
      "_________________________________________________________________\n",
      "hidden_layer1 (Dense)        (None, 512)               1573376   \n",
      "_________________________________________________________________\n",
      "batch_normalization_7 (Batch (None, 512)               2048      \n",
      "_________________________________________________________________\n",
      "hidden_layer2 (Dense)        (None, 256)               131328    \n",
      "_________________________________________________________________\n",
      "batch_normalization_8 (Batch (None, 256)               1024      \n",
      "_________________________________________________________________\n",
      "hidden_layer3 (Dense)        (None, 128)               32896     \n",
      "_________________________________________________________________\n",
      "batch_normalization_9 (Batch (None, 128)               512       \n",
      "_________________________________________________________________\n",
      "output (Dense)               (None, 10)                1290      \n",
      "=================================================================\n",
      "Total params: 1,742,474\n",
      "Trainable params: 1,740,682\n",
      "Non-trainable params: 1,792\n",
      "_________________________________________________________________\n",
      "Train on 50000 samples, validate on 10000 samples\n",
      "Epoch 1/50\n",
      "50000/50000 [==============================] - 4s 82us/step - loss: 5.9279 - accuracy: 0.3341 - val_loss: 6.8530 - val_accuracy: 0.2149\n",
      "Epoch 2/50\n",
      "50000/50000 [==============================] - 4s 72us/step - loss: 4.3439 - accuracy: 0.4456 - val_loss: 5.7545 - val_accuracy: 0.3068\n",
      "Epoch 3/50\n",
      "50000/50000 [==============================] - 3s 65us/step - loss: 3.9373 - accuracy: 0.4827 - val_loss: 4.9043 - val_accuracy: 0.3930\n",
      "Epoch 4/50\n",
      "50000/50000 [==============================] - 3s 67us/step - loss: 3.6719 - accuracy: 0.5097 - val_loss: 4.5094 - val_accuracy: 0.4283\n",
      "Epoch 5/50\n",
      "50000/50000 [==============================] - 3s 68us/step - loss: 3.4644 - accuracy: 0.5291 - val_loss: 4.1168 - val_accuracy: 0.4584\n",
      "Epoch 6/50\n",
      "50000/50000 [==============================] - 4s 72us/step - loss: 3.2831 - accuracy: 0.5499 - val_loss: 3.9733 - val_accuracy: 0.4677\n",
      "Epoch 7/50\n",
      "50000/50000 [==============================] - 3s 68us/step - loss: 3.1209 - accuracy: 0.5642 - val_loss: 4.0078 - val_accuracy: 0.4657\n",
      "Epoch 8/50\n",
      "50000/50000 [==============================] - 3s 66us/step - loss: 2.9638 - accuracy: 0.5829 - val_loss: 3.8725 - val_accuracy: 0.4799\n",
      "Epoch 9/50\n",
      "50000/50000 [==============================] - 4s 72us/step - loss: 2.8291 - accuracy: 0.5953 - val_loss: 3.9344 - val_accuracy: 0.4740\n",
      "Epoch 10/50\n",
      "50000/50000 [==============================] - 3s 69us/step - loss: 2.6819 - accuracy: 0.6138 - val_loss: 4.2175 - val_accuracy: 0.4570\n",
      "Epoch 11/50\n",
      "50000/50000 [==============================] - 3s 68us/step - loss: 2.5545 - accuracy: 0.6285 - val_loss: 3.8743 - val_accuracy: 0.4803\n",
      "Epoch 12/50\n",
      "50000/50000 [==============================] - 3s 67us/step - loss: 2.4276 - accuracy: 0.6381 - val_loss: 3.9121 - val_accuracy: 0.4856\n",
      "Epoch 13/50\n",
      "50000/50000 [==============================] - 4s 77us/step - loss: 2.3168 - accuracy: 0.6527 - val_loss: 4.0898 - val_accuracy: 0.4753\n",
      "Epoch 14/50\n",
      "50000/50000 [==============================] - 4s 72us/step - loss: 2.1939 - accuracy: 0.6692 - val_loss: 4.0336 - val_accuracy: 0.4792\n",
      "Epoch 15/50\n",
      "50000/50000 [==============================] - 3s 64us/step - loss: 2.0786 - accuracy: 0.6805 - val_loss: 3.8884 - val_accuracy: 0.4836\n",
      "Epoch 16/50\n",
      "50000/50000 [==============================] - 3s 68us/step - loss: 1.9542 - accuracy: 0.6960 - val_loss: 4.1503 - val_accuracy: 0.4782\n",
      "Epoch 17/50\n",
      "50000/50000 [==============================] - 3s 62us/step - loss: 1.8501 - accuracy: 0.7090 - val_loss: 4.1828 - val_accuracy: 0.4806\n",
      "Epoch 18/50\n",
      "50000/50000 [==============================] - 3s 66us/step - loss: 1.7305 - accuracy: 0.7242 - val_loss: 4.2951 - val_accuracy: 0.4699\n",
      "Epoch 19/50\n",
      "50000/50000 [==============================] - 3s 66us/step - loss: 1.6309 - accuracy: 0.7370 - val_loss: 4.2990 - val_accuracy: 0.4797\n",
      "Epoch 20/50\n",
      "50000/50000 [==============================] - 4s 75us/step - loss: 1.5346 - accuracy: 0.7491 - val_loss: 4.2462 - val_accuracy: 0.4785\n",
      "Epoch 21/50\n",
      "50000/50000 [==============================] - 3s 66us/step - loss: 1.4260 - accuracy: 0.7636 - val_loss: 4.1990 - val_accuracy: 0.4899\n",
      "Epoch 22/50\n",
      "50000/50000 [==============================] - 3s 69us/step - loss: 1.3269 - accuracy: 0.7764 - val_loss: 4.2278 - val_accuracy: 0.4902\n",
      "Epoch 23/50\n",
      "50000/50000 [==============================] - 4s 72us/step - loss: 1.2398 - accuracy: 0.7875 - val_loss: 4.4577 - val_accuracy: 0.4718\n",
      "Epoch 24/50\n",
      "50000/50000 [==============================] - 3s 66us/step - loss: 1.1434 - accuracy: 0.8029 - val_loss: 4.5401 - val_accuracy: 0.4787\n",
      "Epoch 25/50\n",
      "50000/50000 [==============================] - 3s 68us/step - loss: 1.0560 - accuracy: 0.8164 - val_loss: 4.4969 - val_accuracy: 0.4750\n",
      "Epoch 26/50\n",
      "50000/50000 [==============================] - 4s 72us/step - loss: 0.9778 - accuracy: 0.8270 - val_loss: 4.5630 - val_accuracy: 0.4828\n",
      "Epoch 27/50\n",
      "50000/50000 [==============================] - 3s 66us/step - loss: 0.9007 - accuracy: 0.8400 - val_loss: 4.6729 - val_accuracy: 0.4815\n",
      "Epoch 28/50\n",
      "50000/50000 [==============================] - 3s 68us/step - loss: 0.8342 - accuracy: 0.8485 - val_loss: 4.6853 - val_accuracy: 0.4840\n",
      "Epoch 29/50\n",
      "50000/50000 [==============================] - 4s 77us/step - loss: 0.7574 - accuracy: 0.8649 - val_loss: 4.9027 - val_accuracy: 0.4804\n",
      "Epoch 30/50\n",
      "50000/50000 [==============================] - 4s 74us/step - loss: 0.6819 - accuracy: 0.8784 - val_loss: 4.8539 - val_accuracy: 0.4803\n",
      "Epoch 31/50\n",
      "50000/50000 [==============================] - 3s 67us/step - loss: 0.6291 - accuracy: 0.8861 - val_loss: 4.8741 - val_accuracy: 0.4860\n",
      "Epoch 32/50\n",
      "50000/50000 [==============================] - 3s 64us/step - loss: 0.5770 - accuracy: 0.8963 - val_loss: 5.0961 - val_accuracy: 0.4687\n",
      "Epoch 33/50\n",
      "50000/50000 [==============================] - 3s 63us/step - loss: 0.5247 - accuracy: 0.9056 - val_loss: 5.0810 - val_accuracy: 0.4879\n",
      "Epoch 34/50\n",
      "50000/50000 [==============================] - 3s 62us/step - loss: 0.4756 - accuracy: 0.9129 - val_loss: 5.1589 - val_accuracy: 0.4798\n",
      "Epoch 35/50\n",
      "50000/50000 [==============================] - 3s 63us/step - loss: 0.4291 - accuracy: 0.9251 - val_loss: 5.3231 - val_accuracy: 0.4809\n",
      "Epoch 36/50\n",
      "50000/50000 [==============================] - 3s 63us/step - loss: 0.3847 - accuracy: 0.9327 - val_loss: 5.4737 - val_accuracy: 0.4837\n",
      "Epoch 37/50\n",
      "50000/50000 [==============================] - 3s 63us/step - loss: 0.3498 - accuracy: 0.9419 - val_loss: 5.5408 - val_accuracy: 0.4736\n",
      "Epoch 38/50\n",
      "50000/50000 [==============================] - 3s 63us/step - loss: 0.3076 - accuracy: 0.9483 - val_loss: 5.5895 - val_accuracy: 0.4766\n",
      "Epoch 39/50\n",
      "50000/50000 [==============================] - 3s 63us/step - loss: 0.2774 - accuracy: 0.9550 - val_loss: 5.5577 - val_accuracy: 0.4855\n",
      "Epoch 40/50\n",
      "50000/50000 [==============================] - 3s 63us/step - loss: 0.2524 - accuracy: 0.9605 - val_loss: 5.6944 - val_accuracy: 0.4831\n",
      "Epoch 41/50\n",
      "50000/50000 [==============================] - 3s 63us/step - loss: 0.2232 - accuracy: 0.9667 - val_loss: 5.9050 - val_accuracy: 0.4771\n",
      "Epoch 42/50\n",
      "50000/50000 [==============================] - 3s 63us/step - loss: 0.2054 - accuracy: 0.9696 - val_loss: 5.7344 - val_accuracy: 0.4804\n",
      "Epoch 43/50\n",
      "50000/50000 [==============================] - 3s 63us/step - loss: 0.1882 - accuracy: 0.9732 - val_loss: 5.7791 - val_accuracy: 0.4837\n",
      "Epoch 44/50\n",
      "50000/50000 [==============================] - 3s 63us/step - loss: 0.1677 - accuracy: 0.9764 - val_loss: 5.8127 - val_accuracy: 0.4884\n",
      "Epoch 45/50\n",
      "50000/50000 [==============================] - 3s 63us/step - loss: 0.1477 - accuracy: 0.9823 - val_loss: 6.0404 - val_accuracy: 0.4815\n",
      "Epoch 46/50\n"
     ]
    },
    {
     "name": "stdout",
     "output_type": "stream",
     "text": [
      "50000/50000 [==============================] - 3s 63us/step - loss: 0.1340 - accuracy: 0.9842 - val_loss: 6.0222 - val_accuracy: 0.4807\n",
      "Epoch 47/50\n",
      "50000/50000 [==============================] - 3s 63us/step - loss: 0.1173 - accuracy: 0.9875 - val_loss: 6.0806 - val_accuracy: 0.4895\n",
      "Epoch 48/50\n",
      "50000/50000 [==============================] - 3s 64us/step - loss: 0.1075 - accuracy: 0.9889 - val_loss: 6.0954 - val_accuracy: 0.4896\n",
      "Epoch 49/50\n",
      "50000/50000 [==============================] - 3s 63us/step - loss: 0.0960 - accuracy: 0.9910 - val_loss: 6.0660 - val_accuracy: 0.4847\n",
      "Epoch 50/50\n",
      "50000/50000 [==============================] - 3s 64us/step - loss: 0.0905 - accuracy: 0.9914 - val_loss: 6.3274 - val_accuracy: 0.4801\n"
     ]
    }
   ],
   "source": [
    "model = build_mlp(input_shape=x_train.shape[1:])\n",
    "model.summary()\n",
    "optimizer = keras.optimizers.SGD(lr=LEARNING_RATE, nesterov=True, momentum=MOMENTUM)\n",
    "\"\"\"\n",
    "# 在 compile 時，使用自定義的 loss function\n",
    "\"\"\"\n",
    "model.compile(loss=focal_loss(), metrics=[\"accuracy\"], optimizer=optimizer)\n",
    "\n",
    "model.fit(x_train, y_train, \n",
    "          epochs=EPOCHS, \n",
    "          batch_size=BATCH_SIZE, \n",
    "          validation_data=(x_test, y_test), \n",
    "          shuffle=True\n",
    "         )\n",
    "\n",
    "# Collect results\n",
    "train_loss = model.history.history[\"loss\"]\n",
    "valid_loss = model.history.history[\"val_loss\"]\n",
    "train_acc = model.history.history[\"accuracy\"]\n",
    "valid_acc = model.history.history[\"val_accuracy\"]"
   ]
  },
  {
   "cell_type": "code",
   "execution_count": 19,
   "metadata": {},
   "outputs": [
    {
     "data": {
      "image/png": "[encoded data removed]",
      "text/plain": [
       "<Figure size 432x288 with 1 Axes>"
      ]
     },
     "metadata": {
      "needs_background": "dark"
     },
     "output_type": "display_data"
    },
    {
     "data": {
      "image/png": "[encoded data removed]",
      "text/plain": [
       "<Figure size 432x288 with 1 Axes>"
      ]
     },
     "metadata": {
      "needs_background": "dark"
     },
     "output_type": "display_data"
    }
   ],
   "source": [
    "import matplotlib.pyplot as plt\n",
    "%matplotlib inline\n",
    "\n",
    "plt.plot(range(len(train_loss)), train_loss, label=\"train loss\")\n",
    "plt.plot(range(len(valid_loss)), valid_loss, label=\"valid loss\")\n",
    "plt.legend()\n",
    "plt.title(\"Loss\")\n",
    "plt.show()\n",
    "\n",
    "plt.plot(range(len(train_acc)), train_acc, label=\"train accuracy\")\n",
    "plt.plot(range(len(valid_acc)), valid_acc, label=\"valid accuracy\")\n",
    "plt.legend()\n",
    "plt.title(\"Accuracy\")\n",
    "plt.show()"
   ]
  },
  {
   "cell_type": "markdown",
   "metadata": {},
   "source": [
    "## Work\n",
    "1. 請自行定義一個 loss function, 為 0.3 * focal loss + 0.7 cross-entropy，訓練並比較結果\n"
   ]
  }
 ],
 "metadata": {
  "kernelspec": {
   "display_name": "Python 3",
   "language": "python",
   "name": "python3"
  },
  "language_info": {
   "codemirror_mode": {
    "name": "ipython",
    "version": 3
   },
   "file_extension": ".py",
   "mimetype": "text/x-python",
   "name": "python",
   "nbconvert_exporter": "python",
   "pygments_lexer": "ipython3",
   "version": "3.6.8"
  }
 },
 "nbformat": 4,
 "nbformat_minor": 2
}
