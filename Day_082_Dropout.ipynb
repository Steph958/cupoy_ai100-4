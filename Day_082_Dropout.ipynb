{
 "cells": [
  {
   "cell_type": "markdown",
   "metadata": {},
   "source": [
    "## 範例重點\n",
    "* 知道如何在 keras 中加入 dropout\n",
    "* 了解 dropout 中 ratio 的意義與對訓練的影響"
   ]
  },
  {
   "cell_type": "code",
   "execution_count": 1,
   "metadata": {},
   "outputs": [
    {
     "name": "stderr",
     "output_type": "stream",
     "text": [
      "Using TensorFlow backend.\n"
     ]
    }
   ],
   "source": [
    "import os\n",
    "import keras\n",
    "\n",
    "# 本範例不需使用 GPU, 將 GPU 設定為 \"無\"\n",
    "os.environ[\"CUDA_VISIBLE_DEVICES\"] = \"\""
   ]
  },
  {
   "cell_type": "code",
   "execution_count": 2,
   "metadata": {},
   "outputs": [
    {
     "name": "stdout",
     "output_type": "stream",
     "text": [
      "Downloading data from https://www.cs.toronto.edu/~kriz/cifar-10-python.tar.gz\n",
      "170500096/170498071 [==============================] - 49s 0us/step\n"
     ]
    }
   ],
   "source": [
    "train, test = keras.datasets.cifar10.load_data()"
   ]
  },
  {
   "cell_type": "code",
   "execution_count": 3,
   "metadata": {},
   "outputs": [],
   "source": [
    "## 資料前處理\n",
    "def preproc_x(x, flatten=True):\n",
    "    x = x / 255.\n",
    "    if flatten:\n",
    "        x = x.reshape((len(x), -1))\n",
    "    return x\n",
    "\n",
    "def preproc_y(y, num_classes=10):\n",
    "    if y.shape[-1] == 1:\n",
    "        y = keras.utils.to_categorical(y, num_classes)\n",
    "    return y    "
   ]
  },
  {
   "cell_type": "code",
   "execution_count": 4,
   "metadata": {},
   "outputs": [],
   "source": [
    "x_train, y_train = train\n",
    "x_test, y_test = test\n",
    "\n",
    "# 資料前處理 - X 標準化\n",
    "x_train = preproc_x(x_train)\n",
    "x_test = preproc_x(x_test)\n",
    "\n",
    "# 資料前處理 -Y 轉成 onehot\n",
    "y_train = preproc_y(y_train)\n",
    "y_test = preproc_y(y_test)"
   ]
  },
  {
   "cell_type": "code",
   "execution_count": 7,
   "metadata": {},
   "outputs": [],
   "source": [
    "from keras.layers import Dropout\n",
    "\n",
    "\"\"\"\n",
    "建立神經網路，並加入 dropout layer\n",
    "\"\"\"\n",
    "def build_mlp(input_shape, output_units=10, num_neurons=[512, 256, 128], drp_ratio=0.2):\n",
    "    input_layer = keras.layers.Input(input_shape)\n",
    "    \n",
    "    for i, n_units in enumerate(num_neurons):\n",
    "        if i == 0:\n",
    "            x = keras.layers.Dense(units=n_units, \n",
    "                                   activation=\"relu\", \n",
    "                                   name=\"hidden_layer\"+str(i+1))(input_layer)\n",
    "            x = Dropout(drp_ratio)(x)\n",
    "        else:\n",
    "            x = keras.layers.Dense(units=n_units, \n",
    "                                   activation=\"relu\", \n",
    "                                   name=\"hidden_layer\"+str(i+1))(x)\n",
    "            x = Dropout(drp_ratio)(x)\n",
    "    \n",
    "    out = keras.layers.Dense(units=output_units, activation=\"softmax\", name=\"output\")(x)\n",
    "    \n",
    "    model = keras.models.Model(inputs=[input_layer], outputs=[out])\n",
    "    return model"
   ]
  },
  {
   "cell_type": "code",
   "execution_count": 8,
   "metadata": {},
   "outputs": [],
   "source": [
    "## 超參數設定\n",
    "LEARNING_RATE = 1e-3\n",
    "EPOCHS = 50\n",
    "BATCH_SIZE = 256\n",
    "MOMENTUM = 0.95\n",
    "Dropout_EXP = 0.25"
   ]
  },
  {
   "cell_type": "code",
   "execution_count": 9,
   "metadata": {
    "scrolled": true
   },
   "outputs": [
    {
     "name": "stdout",
     "output_type": "stream",
     "text": [
      "WARNING:tensorflow:From /usr/local/lib/python3.6/dist-packages/tensorflow_core/python/ops/resource_variable_ops.py:1630: calling BaseResourceVariable.__init__ (from tensorflow.python.ops.resource_variable_ops) with constraint is deprecated and will be removed in a future version.\n",
      "Instructions for updating:\n",
      "If using Keras pass *_constraint arguments to layers.\n",
      "Model: \"model_1\"\n",
      "_________________________________________________________________\n",
      "Layer (type)                 Output Shape              Param #   \n",
      "=================================================================\n",
      "input_1 (InputLayer)         (None, 3072)              0         \n",
      "_________________________________________________________________\n",
      "hidden_layer1 (Dense)        (None, 512)               1573376   \n",
      "_________________________________________________________________\n",
      "dropout_1 (Dropout)          (None, 512)               0         \n",
      "_________________________________________________________________\n",
      "hidden_layer2 (Dense)        (None, 256)               131328    \n",
      "_________________________________________________________________\n",
      "dropout_2 (Dropout)          (None, 256)               0         \n",
      "_________________________________________________________________\n",
      "hidden_layer3 (Dense)        (None, 128)               32896     \n",
      "_________________________________________________________________\n",
      "dropout_3 (Dropout)          (None, 128)               0         \n",
      "_________________________________________________________________\n",
      "output (Dense)               (None, 10)                1290      \n",
      "=================================================================\n",
      "Total params: 1,738,890\n",
      "Trainable params: 1,738,890\n",
      "Non-trainable params: 0\n",
      "_________________________________________________________________\n",
      "WARNING:tensorflow:From /usr/local/lib/python3.6/dist-packages/keras/backend/tensorflow_backend.py:422: The name tf.global_variables is deprecated. Please use tf.compat.v1.global_variables instead.\n",
      "\n",
      "Train on 50000 samples, validate on 10000 samples\n",
      "Epoch 1/50\n",
      "50000/50000 [==============================] - 16s 316us/step - loss: 2.1723 - accuracy: 0.1831 - val_loss: 1.9869 - val_accuracy: 0.2990\n",
      "Epoch 2/50\n",
      "50000/50000 [==============================] - 5s 91us/step - loss: 1.9948 - accuracy: 0.2660 - val_loss: 1.8710 - val_accuracy: 0.3432\n",
      "Epoch 3/50\n",
      "50000/50000 [==============================] - 5s 91us/step - loss: 1.9076 - accuracy: 0.3068 - val_loss: 1.8026 - val_accuracy: 0.3614\n",
      "Epoch 4/50\n",
      "50000/50000 [==============================] - 5s 105us/step - loss: 1.8560 - accuracy: 0.3317 - val_loss: 1.7505 - val_accuracy: 0.3807\n",
      "Epoch 5/50\n",
      "50000/50000 [==============================] - 5s 95us/step - loss: 1.8135 - accuracy: 0.3500 - val_loss: 1.7125 - val_accuracy: 0.3963\n",
      "Epoch 6/50\n",
      "50000/50000 [==============================] - 5s 90us/step - loss: 1.7758 - accuracy: 0.3641 - val_loss: 1.6741 - val_accuracy: 0.4085\n",
      "Epoch 7/50\n",
      "50000/50000 [==============================] - 5s 94us/step - loss: 1.7475 - accuracy: 0.3751 - val_loss: 1.6518 - val_accuracy: 0.4218\n",
      "Epoch 8/50\n",
      "50000/50000 [==============================] - 5s 98us/step - loss: 1.7213 - accuracy: 0.3819 - val_loss: 1.6178 - val_accuracy: 0.4301\n",
      "Epoch 9/50\n",
      "50000/50000 [==============================] - 5s 91us/step - loss: 1.7019 - accuracy: 0.3941 - val_loss: 1.6001 - val_accuracy: 0.4377\n",
      "Epoch 10/50\n",
      "50000/50000 [==============================] - 4s 85us/step - loss: 1.6779 - accuracy: 0.3998 - val_loss: 1.5784 - val_accuracy: 0.4429\n",
      "Epoch 11/50\n",
      "50000/50000 [==============================] - 4s 88us/step - loss: 1.6596 - accuracy: 0.4089 - val_loss: 1.5641 - val_accuracy: 0.4429\n",
      "Epoch 12/50\n",
      "50000/50000 [==============================] - 4s 87us/step - loss: 1.6412 - accuracy: 0.4168 - val_loss: 1.5411 - val_accuracy: 0.4558\n",
      "Epoch 13/50\n",
      "50000/50000 [==============================] - 4s 88us/step - loss: 1.6221 - accuracy: 0.4218 - val_loss: 1.5282 - val_accuracy: 0.4535\n",
      "Epoch 14/50\n",
      "50000/50000 [==============================] - 4s 88us/step - loss: 1.6063 - accuracy: 0.4283 - val_loss: 1.5116 - val_accuracy: 0.4628\n",
      "Epoch 15/50\n",
      "50000/50000 [==============================] - 4s 86us/step - loss: 1.5907 - accuracy: 0.4335 - val_loss: 1.5078 - val_accuracy: 0.4637\n",
      "Epoch 16/50\n",
      "50000/50000 [==============================] - 4s 89us/step - loss: 1.5789 - accuracy: 0.4365 - val_loss: 1.4958 - val_accuracy: 0.4757\n",
      "Epoch 17/50\n",
      "50000/50000 [==============================] - 4s 89us/step - loss: 1.5673 - accuracy: 0.4408 - val_loss: 1.4759 - val_accuracy: 0.4748\n",
      "Epoch 18/50\n",
      "50000/50000 [==============================] - 4s 87us/step - loss: 1.5524 - accuracy: 0.4493 - val_loss: 1.4734 - val_accuracy: 0.4768\n",
      "Epoch 19/50\n",
      "50000/50000 [==============================] - 4s 88us/step - loss: 1.5403 - accuracy: 0.4513 - val_loss: 1.4697 - val_accuracy: 0.4770\n",
      "Epoch 20/50\n",
      "50000/50000 [==============================] - 4s 88us/step - loss: 1.5282 - accuracy: 0.4537 - val_loss: 1.4616 - val_accuracy: 0.4784\n",
      "Epoch 21/50\n",
      "50000/50000 [==============================] - 4s 86us/step - loss: 1.5108 - accuracy: 0.4607 - val_loss: 1.4481 - val_accuracy: 0.4823\n",
      "Epoch 22/50\n",
      "50000/50000 [==============================] - 4s 87us/step - loss: 1.5084 - accuracy: 0.4611 - val_loss: 1.4488 - val_accuracy: 0.4821\n",
      "Epoch 23/50\n",
      "50000/50000 [==============================] - 4s 88us/step - loss: 1.4929 - accuracy: 0.4667 - val_loss: 1.4221 - val_accuracy: 0.4922\n",
      "Epoch 24/50\n",
      "50000/50000 [==============================] - 4s 89us/step - loss: 1.4857 - accuracy: 0.4714 - val_loss: 1.4187 - val_accuracy: 0.4977\n",
      "Epoch 25/50\n",
      "50000/50000 [==============================] - 4s 90us/step - loss: 1.4744 - accuracy: 0.4750 - val_loss: 1.4140 - val_accuracy: 0.4957\n",
      "Epoch 26/50\n",
      "50000/50000 [==============================] - 4s 88us/step - loss: 1.4655 - accuracy: 0.4755 - val_loss: 1.4058 - val_accuracy: 0.4976\n",
      "Epoch 27/50\n",
      "50000/50000 [==============================] - 4s 86us/step - loss: 1.4605 - accuracy: 0.4799 - val_loss: 1.3979 - val_accuracy: 0.5028\n",
      "Epoch 28/50\n",
      "50000/50000 [==============================] - 4s 87us/step - loss: 1.4467 - accuracy: 0.4836 - val_loss: 1.3947 - val_accuracy: 0.5028\n",
      "Epoch 29/50\n",
      "50000/50000 [==============================] - 4s 86us/step - loss: 1.4345 - accuracy: 0.4863 - val_loss: 1.3936 - val_accuracy: 0.5051\n",
      "Epoch 30/50\n",
      "50000/50000 [==============================] - 5s 103us/step - loss: 1.4304 - accuracy: 0.4890 - val_loss: 1.3826 - val_accuracy: 0.5100\n",
      "Epoch 31/50\n",
      "50000/50000 [==============================] - 5s 93us/step - loss: 1.4206 - accuracy: 0.4932 - val_loss: 1.3843 - val_accuracy: 0.5029\n",
      "Epoch 32/50\n",
      "50000/50000 [==============================] - 4s 89us/step - loss: 1.4154 - accuracy: 0.4927 - val_loss: 1.3745 - val_accuracy: 0.5048\n",
      "Epoch 33/50\n",
      "50000/50000 [==============================] - 4s 88us/step - loss: 1.4023 - accuracy: 0.4989 - val_loss: 1.3880 - val_accuracy: 0.5026\n",
      "Epoch 34/50\n",
      "50000/50000 [==============================] - 5s 95us/step - loss: 1.3947 - accuracy: 0.5028 - val_loss: 1.3674 - val_accuracy: 0.5128\n",
      "Epoch 35/50\n",
      "50000/50000 [==============================] - 5s 96us/step - loss: 1.3899 - accuracy: 0.5019 - val_loss: 1.3587 - val_accuracy: 0.5167\n",
      "Epoch 36/50\n",
      "50000/50000 [==============================] - 5s 95us/step - loss: 1.3803 - accuracy: 0.5089 - val_loss: 1.3538 - val_accuracy: 0.5216\n",
      "Epoch 37/50\n",
      "50000/50000 [==============================] - 5s 95us/step - loss: 1.3702 - accuracy: 0.5113 - val_loss: 1.3638 - val_accuracy: 0.5127\n",
      "Epoch 38/50\n",
      "50000/50000 [==============================] - 4s 86us/step - loss: 1.3648 - accuracy: 0.5123 - val_loss: 1.3530 - val_accuracy: 0.5174\n",
      "Epoch 39/50\n",
      "50000/50000 [==============================] - 4s 87us/step - loss: 1.3656 - accuracy: 0.5153 - val_loss: 1.3518 - val_accuracy: 0.5144\n",
      "Epoch 40/50\n",
      "50000/50000 [==============================] - 4s 88us/step - loss: 1.3525 - accuracy: 0.5148 - val_loss: 1.3529 - val_accuracy: 0.5178\n",
      "Epoch 41/50\n",
      "50000/50000 [==============================] - 4s 87us/step - loss: 1.3474 - accuracy: 0.5181 - val_loss: 1.3363 - val_accuracy: 0.5211\n",
      "Epoch 42/50\n",
      "50000/50000 [==============================] - 4s 86us/step - loss: 1.3399 - accuracy: 0.5211 - val_loss: 1.3296 - val_accuracy: 0.5235\n"
     ]
    },
    {
     "name": "stdout",
     "output_type": "stream",
     "text": [
      "Epoch 43/50\n",
      "50000/50000 [==============================] - 4s 87us/step - loss: 1.3321 - accuracy: 0.5233 - val_loss: 1.3259 - val_accuracy: 0.5233\n",
      "Epoch 44/50\n",
      "50000/50000 [==============================] - 4s 89us/step - loss: 1.3275 - accuracy: 0.5250 - val_loss: 1.3394 - val_accuracy: 0.5182\n",
      "Epoch 45/50\n",
      "50000/50000 [==============================] - 5s 95us/step - loss: 1.3195 - accuracy: 0.5282 - val_loss: 1.3231 - val_accuracy: 0.5282\n",
      "Epoch 46/50\n",
      "50000/50000 [==============================] - 4s 88us/step - loss: 1.3153 - accuracy: 0.5292 - val_loss: 1.3157 - val_accuracy: 0.5283\n",
      "Epoch 47/50\n",
      "50000/50000 [==============================] - 5s 95us/step - loss: 1.3067 - accuracy: 0.5354 - val_loss: 1.3113 - val_accuracy: 0.5359\n",
      "Epoch 48/50\n",
      "50000/50000 [==============================] - 5s 91us/step - loss: 1.3030 - accuracy: 0.5343 - val_loss: 1.3114 - val_accuracy: 0.5290\n",
      "Epoch 49/50\n",
      "50000/50000 [==============================] - 4s 89us/step - loss: 1.2933 - accuracy: 0.5374 - val_loss: 1.3185 - val_accuracy: 0.5300\n",
      "Epoch 50/50\n",
      "50000/50000 [==============================] - 4s 86us/step - loss: 1.2920 - accuracy: 0.5376 - val_loss: 1.3091 - val_accuracy: 0.5330\n"
     ]
    }
   ],
   "source": [
    "model = build_mlp(input_shape=x_train.shape[1:], drp_ratio=Dropout_EXP)\n",
    "model.summary()\n",
    "optimizer = keras.optimizers.SGD(lr=LEARNING_RATE, nesterov=True, momentum=MOMENTUM)\n",
    "model.compile(loss=\"categorical_crossentropy\", metrics=[\"accuracy\"], optimizer=optimizer)\n",
    "\n",
    "model.fit(x_train, y_train, \n",
    "          epochs=EPOCHS, \n",
    "          batch_size=BATCH_SIZE, \n",
    "          validation_data=(x_test, y_test), \n",
    "          shuffle=True)\n",
    "\n",
    "# Collect results\n",
    "train_loss = model.history.history[\"loss\"]\n",
    "valid_loss = model.history.history[\"val_loss\"]\n",
    "train_acc = model.history.history[\"accuracy\"]\n",
    "valid_acc = model.history.history[\"val_accuracy\"]"
   ]
  },
  {
   "cell_type": "code",
   "execution_count": 10,
   "metadata": {},
   "outputs": [
    {
     "data": {
      "image/png": "[encoded data removed]",
      "text/plain": [
       "<Figure size 432x288 with 1 Axes>"
      ]
     },
     "metadata": {
      "needs_background": "dark"
     },
     "output_type": "display_data"
    },
    {
     "data": {
      "image/png": "[encoded data removed]",
      "text/plain": [
       "<Figure size 432x288 with 1 Axes>"
      ]
     },
     "metadata": {
      "needs_background": "dark"
     },
     "output_type": "display_data"
    }
   ],
   "source": [
    "import matplotlib.pyplot as plt\n",
    "%matplotlib inline\n",
    "\n",
    "plt.plot(range(len(train_loss)), train_loss, label=\"train loss\")\n",
    "plt.plot(range(len(valid_loss)), valid_loss, label=\"valid loss\")\n",
    "plt.legend()\n",
    "plt.title(\"Loss\")\n",
    "plt.show()\n",
    "\n",
    "plt.plot(range(len(train_acc)), train_acc, label=\"train accuracy\")\n",
    "plt.plot(range(len(valid_acc)), valid_acc, label=\"valid accuracy\")\n",
    "plt.legend()\n",
    "plt.title(\"Accuracy\")\n",
    "plt.show()"
   ]
  },
  {
   "cell_type": "markdown",
   "metadata": {},
   "source": [
    "## Work\n",
    "1. 請比較使用不同層數以及不同 Dropout rate 對訓練的效果\n",
    "2. 將 optimizer 改成使用 Adam 並加上適當的 dropout rate 檢視結果"
   ]
  }
 ],
 "metadata": {
  "kernelspec": {
   "display_name": "Python 3",
   "language": "python",
   "name": "python3"
  },
  "language_info": {
   "codemirror_mode": {
    "name": "ipython",
    "version": 3
   },
   "file_extension": ".py",
   "mimetype": "text/x-python",
   "name": "python",
   "nbconvert_exporter": "python",
   "pygments_lexer": "ipython3",
   "version": "3.6.8"
  }
 },
 "nbformat": 4,
 "nbformat_minor": 2
}
