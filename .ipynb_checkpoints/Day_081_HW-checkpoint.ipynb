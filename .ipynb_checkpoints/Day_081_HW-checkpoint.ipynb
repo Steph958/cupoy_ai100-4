{
 "cells": [
  {
   "cell_type": "markdown",
   "metadata": {},
   "source": [
    "## Work\n",
    "1. 請比較使用 l1, l1_l2 及不同比例下的訓練結果"
   ]
  },
  {
   "cell_type": "code",
   "execution_count": 18,
   "metadata": {},
   "outputs": [],
   "source": [
    "import os\n",
    "import keras\n",
    "\n",
    "# Disable GPU\n",
    "os.environ[\"CUDA_VISIBLE_DEVICES\"] = \"\""
   ]
  },
  {
   "cell_type": "code",
   "execution_count": 19,
   "metadata": {},
   "outputs": [],
   "source": [
    "train, test = keras.datasets.cifar10.load_data()"
   ]
  },
  {
   "cell_type": "code",
   "execution_count": 20,
   "metadata": {},
   "outputs": [],
   "source": [
    "## 資料前處理\n",
    "def preproc_x(x, flatten=True):\n",
    "    x = x / 255.\n",
    "    if flatten:\n",
    "        x = x.reshape((len(x), -1))\n",
    "    return x\n",
    "\n",
    "def preproc_y(y, num_classes=10):\n",
    "    if y.shape[-1] == 1:\n",
    "        y = keras.utils.to_categorical(y, num_classes)\n",
    "    return y    "
   ]
  },
  {
   "cell_type": "code",
   "execution_count": 21,
   "metadata": {},
   "outputs": [],
   "source": [
    "x_train, y_train = train\n",
    "x_test, y_test = test\n",
    "\n",
    "# Preproc the inputs\n",
    "x_train = preproc_x(x_train)\n",
    "x_test = preproc_x(x_test)\n",
    "\n",
    "# Preprc the outputs\n",
    "y_train = preproc_y(y_train)\n",
    "y_test = preproc_y(y_test)"
   ]
  },
  {
   "cell_type": "code",
   "execution_count": 31,
   "metadata": {},
   "outputs": [],
   "source": [
    "from keras.regularizers import l1, l2, l1_l2\n",
    "def build_mlp(input_shape,output_units=10,num_neurons=[512, 256, 128],lfun='l1',lratio=0.01):\n",
    "    \"\"\"Code Here\n",
    "    建立你的神經網路\n",
    "    \"\"\"\n",
    "    input_layer = keras.layers.Input(input_shape)\n",
    "    for i, n_unit in enumerate(num_neurons):\n",
    "        if i ==0:\n",
    "            if lfun == 'l1':\n",
    "                x = keras.layers.Dense(units=n_unit,\n",
    "                                      activation=\"relu\",\n",
    "                                      name=f'hidden_layer{i+1}',\n",
    "                                      kernel_regularizer=l1(lratio))(input_layer)\n",
    "            elif lfun == 'l2':\n",
    "                x = keras.layers.Dense(units=n_unit,\n",
    "                                      activation=\"relu\",\n",
    "                                      name=f'hidden_layer{i+1}',\n",
    "                                      kernel_regularizer=l2(lratio))(input_layer)\n",
    "            elif lfun == 'l1_l2':\n",
    "                x = keras.layers.Dense(units=n_unit,\n",
    "                                      activation=\"relu\",\n",
    "                                      name=f'hidden_layer{i+1}',\n",
    "                                      kernel_regularizer=l1_l2(lratio))(input_layer)\n",
    "        else:\n",
    "            if lfun == 'l1':\n",
    "                x = keras.layers.Dense(units=n_unit,\n",
    "                                      activation=\"relu\",\n",
    "                                      name=f'hidden_layer{i+1}',\n",
    "                                      kernel_regularizer=l1(lratio))(x)\n",
    "            elif lfun == 'l2':\n",
    "                x = keras.layers.Dense(units=n_unit,\n",
    "                                      activation=\"relu\",\n",
    "                                      name=f'hidden_layer{i+1}',\n",
    "                                      kernel_regularizer=l2(lratio))(x)\n",
    "            elif lfun == 'l1_l2':\n",
    "                x = keras.layers.Dense(units=n_unit,\n",
    "                                      activation=\"relu\",\n",
    "                                      name=f'hidden_layer{i+1}',\n",
    "                                      kernel_regularizer=l1_l2(lratio))(x)\n",
    "    \n",
    "    out = keras.layers.Dense(units=output_units, activation=\"softmax\", name=\"output\")(x)\n",
    "    model = keras.models.Model(inputs=[input_layer], outputs=[out])\n",
    "    \n",
    "    return model"
   ]
  },
  {
   "cell_type": "code",
   "execution_count": 32,
   "metadata": {},
   "outputs": [],
   "source": [
    "\"\"\"Code Here\n",
    "設定超參數\n",
    "\"\"\"\n",
    "learning_rate = 1e-3\n",
    "epochs = 10\n",
    "batch_size = 256\n",
    "lratios = [1e-2, 1e-4, 1e-8]\n",
    "lfuns = ['l1','l2','l1_l2']"
   ]
  },
  {
   "cell_type": "code",
   "execution_count": 33,
   "metadata": {
    "scrolled": true
   },
   "outputs": [
    {
     "name": "stdout",
     "output_type": "stream",
     "text": [
      "Experiment with Regulizer = l1_0.01\n"
     ]
    },
    {
     "ename": "NameError",
     "evalue": "name 'model' is not defined",
     "output_type": "error",
     "traceback": [
      "\u001b[0;31m---------------------------------------------------------------------------\u001b[0m",
      "\u001b[0;31mNameError\u001b[0m                                 Traceback (most recent call last)",
      "\u001b[0;32m<ipython-input-33-e2727ca33563>\u001b[0m in \u001b[0;36m<module>\u001b[0;34m\u001b[0m\n\u001b[1;32m      8\u001b[0m         \u001b[0mprint\u001b[0m\u001b[0;34m(\u001b[0m\u001b[0;34mf\"Experiment with Regulizer = {lfun}_{lratio}\"\u001b[0m\u001b[0;34m)\u001b[0m\u001b[0;34m\u001b[0m\u001b[0;34m\u001b[0m\u001b[0m\n\u001b[1;32m      9\u001b[0m         \u001b[0mbuild_mlp\u001b[0m\u001b[0;34m(\u001b[0m\u001b[0minput_shape\u001b[0m\u001b[0;34m=\u001b[0m\u001b[0mx_train\u001b[0m\u001b[0;34m.\u001b[0m\u001b[0mshape\u001b[0m\u001b[0;34m[\u001b[0m\u001b[0;36m1\u001b[0m\u001b[0;34m:\u001b[0m\u001b[0;34m]\u001b[0m\u001b[0;34m,\u001b[0m\u001b[0mlfun\u001b[0m\u001b[0;34m=\u001b[0m\u001b[0mlfun\u001b[0m\u001b[0;34m,\u001b[0m\u001b[0mlratio\u001b[0m\u001b[0;34m=\u001b[0m\u001b[0mlratio\u001b[0m\u001b[0;34m)\u001b[0m\u001b[0;34m\u001b[0m\u001b[0;34m\u001b[0m\u001b[0m\n\u001b[0;32m---> 10\u001b[0;31m         \u001b[0mmodel\u001b[0m\u001b[0;34m.\u001b[0m\u001b[0msummary\u001b[0m\u001b[0;34m(\u001b[0m\u001b[0;34m)\u001b[0m\u001b[0;34m\u001b[0m\u001b[0;34m\u001b[0m\u001b[0m\n\u001b[0m\u001b[1;32m     11\u001b[0m         \u001b[0moptmizer\u001b[0m \u001b[0;34m=\u001b[0m \u001b[0mkeras\u001b[0m\u001b[0;34m.\u001b[0m\u001b[0moptimizers\u001b[0m\u001b[0;34m.\u001b[0m\u001b[0mSGD\u001b[0m\u001b[0;34m(\u001b[0m\u001b[0mlr\u001b[0m\u001b[0;34m=\u001b[0m\u001b[0mLEARNING_RATE\u001b[0m\u001b[0;34m,\u001b[0m \u001b[0mnesterov\u001b[0m\u001b[0;34m=\u001b[0m\u001b[0;32mTrue\u001b[0m\u001b[0;34m,\u001b[0m \u001b[0mmomentum\u001b[0m\u001b[0;34m=\u001b[0m\u001b[0mMOMENTUM\u001b[0m\u001b[0;34m)\u001b[0m\u001b[0;34m\u001b[0m\u001b[0;34m\u001b[0m\u001b[0m\n\u001b[1;32m     12\u001b[0m         \u001b[0mmodel\u001b[0m\u001b[0;34m.\u001b[0m\u001b[0mcompile\u001b[0m\u001b[0;34m(\u001b[0m\u001b[0mloss\u001b[0m\u001b[0;34m=\u001b[0m\u001b[0;34m'categorical_crossentropy'\u001b[0m\u001b[0;34m,\u001b[0m\u001b[0mmetrics\u001b[0m\u001b[0;34m=\u001b[0m\u001b[0;34m[\u001b[0m\u001b[0;34m'accuracy'\u001b[0m\u001b[0;34m]\u001b[0m \u001b[0;34m,\u001b[0m \u001b[0moptmizer\u001b[0m\u001b[0;34m=\u001b[0m\u001b[0moptmizer\u001b[0m\u001b[0;34m)\u001b[0m\u001b[0;34m\u001b[0m\u001b[0;34m\u001b[0m\u001b[0m\n",
      "\u001b[0;31mNameError\u001b[0m: name 'model' is not defined"
     ]
    }
   ],
   "source": [
    "results = {}\n",
    "\"\"\"Code Here\n",
    "撰寫你的訓練流程並將結果用 dictionary 紀錄\n",
    "\"\"\"\n",
    "for lfun in lfuns:\n",
    "    for lratio in lratios:\n",
    "        keras.backend.clear_session()\n",
    "        print(f\"Experiment with Regulizer = {lfun}_{lratio}\")\n",
    "        model = build_mlp(input_shape=x_train.shape[1:],lfun=lfun,lratio=lratio)\n",
    "        model.summary()\n",
    "        optmizer = keras.optimizers.SGD(lr=LEARNING_RATE, nesterov=True, momentum=MOMENTUM)\n",
    "        model.compile(loss='categorical_crossentropy',metrics=['accuracy'] , optmizer=optmizer)\n",
    "        \n",
    "        model.fit(x_train, y_train,\n",
    "                 epochs = epochs,\n",
    "                 batch_size = batch_size,\n",
    "                 validation_data = (x_test,y_test),\n",
    "                 suffule=True)\n",
    "        \n",
    "        # Collect results\n",
    "        train_loss = model.history.history['loss']\n",
    "        valid_loss = model.history.history['val_loss']\n",
    "        train_acc = model.history.history['accuracy']\n",
    "        valid_acc = model.history.history['val_accuracy']\n",
    "        \n",
    "        results[f'exp-{lfun}_{lratio}'] = {'train-loss': train_loss,'valid-loss': valid_loss,\n",
    "                                           'train-acc': train_acc,'valid-acc': valid_acc}"
   ]
  },
  {
   "cell_type": "code",
   "execution_count": null,
   "metadata": {},
   "outputs": [],
   "source": [
    "import matplotlib.pyplot as plt\n",
    "import matplotlib._color_data as mcd\n",
    "%matplotlib inline\n",
    "color_bar = mcd.CSS4_COLORS[10]\n",
    "\n",
    "plt.figure(figsize=(8,6))\n",
    "for i, cond in enumerate(results.keys()):\n",
    "    plt.plot(range(len(results[cond]['train-loss'])),results[cond]['train-loss'], '-', label=cond, color=color_bar[i])\n",
    "    plt.plot(range(len(results[cond]['valid-loss'])),results[cond]['valid-loss'], '--', label=cond, color=color_bar[i])\n",
    "plt.title(\"Loss\")\n",
    "plt.ylim([0, 5])\n",
    "plt.legend()\n",
    "plt.show()\n",
    "\n",
    "plt.figure(figsize=(8,6))\n",
    "for i, cond in enumerate(results.keys()):\n",
    "    plt.plot(range(len(results[cond]['train-acc'])),results[cond]['train-acc'], '-', label=cond, color=color_bar[i])\n",
    "    plt.plot(range(len(results[cond]['valid-acc'])),results[cond]['valid-acc'], '--', label=cond, color=color_bar[i])\n",
    "plt.title(\"Accuracy\")\n",
    "plt.legend()\n",
    "plt.show()"
   ]
  }
 ],
 "metadata": {
  "kernelspec": {
   "display_name": "Python 3",
   "language": "python",
   "name": "python3"
  },
  "language_info": {
   "codemirror_mode": {
    "name": "ipython",
    "version": 3
   },
   "file_extension": ".py",
   "mimetype": "text/x-python",
   "name": "python",
   "nbconvert_exporter": "python",
   "pygments_lexer": "ipython3",
   "version": "3.6.8"
  }
 },
 "nbformat": 4,
 "nbformat_minor": 2
}
