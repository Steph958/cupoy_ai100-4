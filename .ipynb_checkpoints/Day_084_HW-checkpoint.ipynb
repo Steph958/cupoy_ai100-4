{
 "cells": [
  {
   "cell_type": "markdown",
   "metadata": {},
   "source": [
    "## Work\n",
    "### 請結合前面的知識與程式碼，比較不同的 regularization 的組合對訓練的結果與影響：如 dropout, regularizers, batch-normalization 等"
   ]
  },
  {
   "cell_type": "code",
   "execution_count": 1,
   "metadata": {},
   "outputs": [
    {
     "name": "stderr",
     "output_type": "stream",
     "text": [
      "Using TensorFlow backend.\n"
     ]
    }
   ],
   "source": [
    "import os\n",
    "import keras\n",
    "import itertools\n",
    "# Disable GPU\n",
    "os.environ[\"CUDA_VISIBLE_DEVICES\"] = \"\""
   ]
  },
  {
   "cell_type": "code",
   "execution_count": 2,
   "metadata": {},
   "outputs": [
    {
     "name": "stdout",
     "output_type": "stream",
     "text": [
      "Downloading data from https://www.cs.toronto.edu/~kriz/cifar-10-python.tar.gz\n",
      "170500096/170498071 [==============================] - 45s 0us/step\n"
     ]
    }
   ],
   "source": [
    "train, test = keras.datasets.cifar10.load_data()"
   ]
  },
  {
   "cell_type": "code",
   "execution_count": 3,
   "metadata": {},
   "outputs": [],
   "source": [
    "## 資料前處理\n",
    "def preproc_x(x, flatten=True):\n",
    "    x = x / 255.\n",
    "    if flatten:\n",
    "        x = x.reshape((len(x), -1))\n",
    "    return x\n",
    "\n",
    "def preproc_y(y, num_classes=10):\n",
    "    if y.shape[-1] == 1:\n",
    "        y = keras.utils.to_categorical(y, num_classes)\n",
    "    return y    "
   ]
  },
  {
   "cell_type": "code",
   "execution_count": 4,
   "metadata": {},
   "outputs": [],
   "source": [
    "x_train, y_train = train\n",
    "x_test, y_test = test\n",
    "\n",
    "# Preproc the inputs\n",
    "x_train = preproc_x(x_train)\n",
    "x_test = preproc_x(x_test)\n",
    "\n",
    "# Preprc the outputs\n",
    "y_train = preproc_y(y_train)\n",
    "y_test = preproc_y(y_test)"
   ]
  },
  {
   "cell_type": "code",
   "execution_count": null,
   "metadata": {},
   "outputs": [],
   "source": [
    "from keras.regularizers import l1, l2, l1_l2\n",
    "def build_mlp(input_shape,output_units=10,num_neurons=[512, 256, 128],lfun='l1',lratio=1e-8,\n",
    "              drp_ratio=0.3):\n",
    "    \"\"\"Code Here\n",
    "    建立你的神經網路\n",
    "    \"\"\"\n",
    "    input_layer = keras.layers.Input(input_shape)\n",
    "    for i, n_unit in enumerate(num_neurons):\n",
    "        if i ==0:\n",
    "            if lfun == 'l1':\n",
    "                x = BatchNormalization()(input_layer)\n",
    "                x = keras.layers.Dense(units=n_unit,\n",
    "                                      activation=\"relu\",\n",
    "                                      name=f'hidden_layer{i+1}',\n",
    "                                      kernel_regularizer=l1(lratio))(x)\n",
    "                x = Dropout(drp_ratio)(x)\n",
    "            elif lfun == 'l2':\n",
    "                x = BatchNormalization()(input_layer)\n",
    "                x = keras.layers.Dense(units=n_unit,\n",
    "                                      activation=\"relu\",\n",
    "                                      name=f'hidden_layer{i+1}',\n",
    "                                      kernel_regularizer=l2(lratio))(x)\n",
    "                x = Dropout(drp_ratio)(x)\n",
    "            elif lfun == 'l1_l2':\n",
    "                x = BatchNormalization()(input_layer)\n",
    "                x = keras.layers.Dense(units=n_unit,\n",
    "                                      activation=\"relu\",\n",
    "                                      name=f'hidden_layer{i+1}',\n",
    "                                      kernel_regularizer=l1_l2(lratio))(x)\n",
    "                x = Dropout(drp_ratio)(x)\n",
    "        else:\n",
    "            if lfun == 'l1':\n",
    "                x = BatchNormalization()(x)\n",
    "                x = keras.layers.Dense(units=n_unit,\n",
    "                                      activation=\"relu\",\n",
    "                                      name=f'hidden_layer{i+1}',\n",
    "                                      kernel_regularizer=l1(lratio))(x)\n",
    "                x = Dropout(drp_ratio)(x)\n",
    "            elif lfun == 'l2':\n",
    "                x = BatchNormalization()(x)\n",
    "                x = keras.layers.Dense(units=n_unit,\n",
    "                                      activation=\"relu\",\n",
    "                                      name=f'hidden_layer{i+1}',\n",
    "                                      kernel_regularizer=l2(lratio))(x)\n",
    "                x = Dropout(drp_ratio)(x)\n",
    "            elif lfun == 'l1_l2':\n",
    "                x = BatchNormalization()(x)\n",
    "                x = keras.layers.Dense(units=n_unit,\n",
    "                                      activation=\"relu\",\n",
    "                                      name=f'hidden_layer{i+1}',\n",
    "                                      kernel_regularizer=l1_l2(lratio))(x)\n",
    "                x = Dropout(drp_ratio)(x)\n",
    "    \n",
    "    out = keras.layers.Dense(units=output_units, activation=\"softmax\", name=\"output\")(x)\n",
    "    model = keras.models.Model(inputs=[input_layer], outputs=[out])\n",
    "    \n",
    "    return model"
   ]
  },
  {
   "cell_type": "code",
   "execution_count": null,
   "metadata": {},
   "outputs": [],
   "source": [
    "\"\"\"Code Here\n",
    "設定超參數\n",
    "\"\"\"\n",
    "learning_rate = 1e-3\n",
    "epochs = 10\n",
    "batch_size = 256\n",
    "momentum = 0.95\n",
    "lratios = [1e-2, 1e-4, 1e-8]\n",
    "lfuns = ['l1','l2','l1_l2']\n",
    "DROP_RATIOS = [0.1,0.3,0.5]"
   ]
  },
  {
   "cell_type": "code",
   "execution_count": null,
   "metadata": {
    "scrolled": true
   },
   "outputs": [],
   "source": [
    "results = {}\n",
    "\"\"\"Code Here\n",
    "撰寫你的訓練流程並將結果用 dictionary 紀錄\n",
    "\"\"\"\n",
    "for lfun in lfuns:\n",
    "    for lratio in lratios:\n",
    "        keras.backend.clear_session()\n",
    "        print(f\"Experiment with Regulizer = {lfun}_{lratio}\")\n",
    "        model = build_mlp(input_shape=x_train.shape[1:],lfun=lfun,lratio=lratio)\n",
    "        model.summary()\n",
    "        optimizer = keras.optimizers.SGD(lr=learning_rate, nesterov=True, momentum=momentum)\n",
    "        model.compile(loss=\"categorical_crossentropy\", metrics=[\"accuracy\"], optimizer=optimizer)\n",
    "        \n",
    "        model.fit(x_train, y_train,\n",
    "                 epochs = epochs,\n",
    "                 batch_size = batch_size,\n",
    "                 validation_data = (x_test,y_test),\n",
    "                 shuffle=True)\n",
    "        \n",
    "        # Collect results\n",
    "        train_loss = model.history.history['loss']\n",
    "        valid_loss = model.history.history['val_loss']\n",
    "        train_acc = model.history.history['accuracy']\n",
    "        valid_acc = model.history.history['val_accuracy']\n",
    "        \n",
    "        results[f'exp-{lfun}_{lratio}'] = {'train-loss': train_loss,'valid-loss': valid_loss,\n",
    "                                           'train-acc': train_acc,'valid-acc': valid_acc}"
   ]
  },
  {
   "cell_type": "code",
   "execution_count": null,
   "metadata": {},
   "outputs": [],
   "source": [
    "import matplotlib.pyplot as plt\n",
    "%matplotlib inline\n",
    "\"\"\"Code Here\n",
    "將結果繪出\n",
    "\"\"\""
   ]
  }
 ],
 "metadata": {
  "kernelspec": {
   "display_name": "Python 3",
   "language": "python",
   "name": "python3"
  },
  "language_info": {
   "codemirror_mode": {
    "name": "ipython",
    "version": 3
   },
   "file_extension": ".py",
   "mimetype": "text/x-python",
   "name": "python",
   "nbconvert_exporter": "python",
   "pygments_lexer": "ipython3",
   "version": "3.6.8"
  }
 },
 "nbformat": 4,
 "nbformat_minor": 2
}
