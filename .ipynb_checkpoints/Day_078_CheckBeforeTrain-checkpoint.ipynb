{
 "cells": [
  {
   "cell_type": "markdown",
   "metadata": {},
   "source": [
    "## 範例重點\n",
    "### 學習在模型開始前檢查各個環節\n",
    "1. 是否有 GPU 資源\n",
    "2. 將前處理轉為函式，統一處理訓練、驗證與測試集\n",
    "3. 將超參數變數化，易於重複使用函式、模型等"
   ]
  },
  {
   "cell_type": "code",
   "execution_count": 2,
   "metadata": {},
   "outputs": [],
   "source": [
    "## 確認硬體資源 (如果你是在 Linux, 若是在 Windows, 請參考 https://blog.csdn.net/idwtwt/article/details/78017565)\n",
    "!nvidia-smi"
   ]
  },
  {
   "cell_type": "code",
   "execution_count": 3,
   "metadata": {},
   "outputs": [
    {
     "name": "stderr",
     "output_type": "stream",
     "text": [
      "Using TensorFlow backend.\n"
     ]
    }
   ],
   "source": [
    "import os\n",
    "import keras\n",
    "\n",
    "# 本範例不需使用 GPU, 將 GPU 設定為 \"無\"\n",
    "os.environ[\"CUDA_VISIBLE_DEVICES\"] = \"\""
   ]
  },
  {
   "cell_type": "code",
   "execution_count": 4,
   "metadata": {},
   "outputs": [
    {
     "name": "stdout",
     "output_type": "stream",
     "text": [
      "Downloading data from https://www.cs.toronto.edu/~kriz/cifar-10-python.tar.gz\n",
      "170500096/170498071 [==============================] - 46s 0us/step\n"
     ]
    }
   ],
   "source": [
    "# 從 Keras 的內建功能中，取得 train 與 test 資料集\n",
    "train, test = keras.datasets.cifar10.load_data()"
   ]
  },
  {
   "cell_type": "code",
   "execution_count": 5,
   "metadata": {},
   "outputs": [],
   "source": [
    "## 資料前處理\n",
    "def preproc_x(x, flatten=True):\n",
    "    x = x / 255.\n",
    "    if flatten:\n",
    "        x = x.reshape((len(x), -1))\n",
    "    return x\n",
    "\n",
    "def preproc_y(y, num_classes=10):\n",
    "    if y.shape[-1] == 1:\n",
    "        y = keras.utils.to_categorical(y, num_classes)\n",
    "    return y    "
   ]
  },
  {
   "cell_type": "code",
   "execution_count": 6,
   "metadata": {},
   "outputs": [
    {
     "name": "stdout",
     "output_type": "stream",
     "text": [
      "The history saving thread hit an unexpected error (OperationalError('attempt to write a readonly database',)).History will not be written to the database.\n"
     ]
    }
   ],
   "source": [
    "x_train, y_train = train\n",
    "x_test, y_test = test\n",
    "\n",
    "# 資料前處理 - X 標準化\n",
    "x_train = preproc_x(x_train)\n",
    "x_test = preproc_x(x_test)\n",
    "\n",
    "# 資料前處理 -Y 轉成 onehot\n",
    "y_train = preproc_y(y_train)\n",
    "y_test = preproc_y(y_test)"
   ]
  },
  {
   "cell_type": "code",
   "execution_count": 7,
   "metadata": {},
   "outputs": [],
   "source": [
    "def build_mlp(input_shape, output_units=10, num_neurons=[512, 256, 128]):\n",
    "    input_layer = keras.layers.Input(input_shape)\n",
    "    \n",
    "    for i, n_units in enumerate(num_neurons):\n",
    "        if i == 0:\n",
    "            x = keras.layers.Dense(units=n_units, activation=\"relu\", name=\"hidden_layer\"+str(i+1))(input_layer)\n",
    "        else:\n",
    "            x = keras.layers.Dense(units=n_units, activation=\"relu\", name=\"hidden_layer\"+str(i+1))(x)\n",
    "    \n",
    "    out = keras.layers.Dense(units=output_units, activation=\"softmax\", name=\"output\")(x)\n",
    "    \n",
    "    model = keras.models.Model(inputs=[input_layer], outputs=[out])\n",
    "    return model"
   ]
  },
  {
   "cell_type": "code",
   "execution_count": 8,
   "metadata": {},
   "outputs": [
    {
     "name": "stdout",
     "output_type": "stream",
     "text": [
      "WARNING:tensorflow:From /usr/local/lib/python3.6/dist-packages/tensorflow_core/python/ops/resource_variable_ops.py:1630: calling BaseResourceVariable.__init__ (from tensorflow.python.ops.resource_variable_ops) with constraint is deprecated and will be removed in a future version.\n",
      "Instructions for updating:\n",
      "If using Keras pass *_constraint arguments to layers.\n",
      "Model: \"model_1\"\n",
      "_________________________________________________________________\n",
      "Layer (type)                 Output Shape              Param #   \n",
      "=================================================================\n",
      "input_1 (InputLayer)         (None, 3072)              0         \n",
      "_________________________________________________________________\n",
      "hidden_layer1 (Dense)        (None, 512)               1573376   \n",
      "_________________________________________________________________\n",
      "hidden_layer2 (Dense)        (None, 256)               131328    \n",
      "_________________________________________________________________\n",
      "hidden_layer3 (Dense)        (None, 128)               32896     \n",
      "_________________________________________________________________\n",
      "output (Dense)               (None, 10)                1290      \n",
      "=================================================================\n",
      "Total params: 1,738,890\n",
      "Trainable params: 1,738,890\n",
      "Non-trainable params: 0\n",
      "_________________________________________________________________\n"
     ]
    }
   ],
   "source": [
    "model = build_mlp(input_shape=x_train.shape[1:])\n",
    "model.summary()"
   ]
  },
  {
   "cell_type": "code",
   "execution_count": 9,
   "metadata": {},
   "outputs": [],
   "source": [
    "## 超參數設定\n",
    "LEARNING_RATE = 0.001\n",
    "EPOCHS = 100\n",
    "BATCH_SIZE = 256"
   ]
  },
  {
   "cell_type": "code",
   "execution_count": 10,
   "metadata": {},
   "outputs": [],
   "source": [
    "optimizer = keras.optimizers.Adam(lr=LEARNING_RATE)\n",
    "model.compile(loss=\"categorical_crossentropy\", metrics=[\"accuracy\"], optimizer=optimizer)"
   ]
  },
  {
   "cell_type": "code",
   "execution_count": 11,
   "metadata": {},
   "outputs": [
    {
     "name": "stdout",
     "output_type": "stream",
     "text": [
      "WARNING:tensorflow:From /usr/local/lib/python3.6/dist-packages/keras/backend/tensorflow_backend.py:422: The name tf.global_variables is deprecated. Please use tf.compat.v1.global_variables instead.\n",
      "\n",
      "Train on 50000 samples, validate on 10000 samples\n",
      "Epoch 1/100\n",
      "50000/50000 [==============================] - 6s 115us/step - loss: 1.9408 - accuracy: 0.2984 - val_loss: 1.7537 - val_accuracy: 0.3741\n",
      "Epoch 2/100\n",
      "50000/50000 [==============================] - 5s 99us/step - loss: 1.7073 - accuracy: 0.3884 - val_loss: 1.6654 - val_accuracy: 0.4044\n",
      "Epoch 3/100\n",
      "50000/50000 [==============================] - 5s 98us/step - loss: 1.6150 - accuracy: 0.4237 - val_loss: 1.5512 - val_accuracy: 0.4504\n",
      "Epoch 4/100\n",
      "50000/50000 [==============================] - 5s 105us/step - loss: 1.5512 - accuracy: 0.4450 - val_loss: 1.5381 - val_accuracy: 0.4509\n",
      "Epoch 5/100\n",
      "50000/50000 [==============================] - 5s 102us/step - loss: 1.4990 - accuracy: 0.4672 - val_loss: 1.5311 - val_accuracy: 0.4607\n",
      "Epoch 6/100\n",
      "50000/50000 [==============================] - 5s 96us/step - loss: 1.4630 - accuracy: 0.4790 - val_loss: 1.4946 - val_accuracy: 0.4658\n",
      "Epoch 7/100\n",
      "50000/50000 [==============================] - 5s 97us/step - loss: 1.4305 - accuracy: 0.4886 - val_loss: 1.4672 - val_accuracy: 0.4786\n",
      "Epoch 8/100\n",
      "50000/50000 [==============================] - 5s 99us/step - loss: 1.4009 - accuracy: 0.5002 - val_loss: 1.4375 - val_accuracy: 0.4883\n",
      "Epoch 9/100\n",
      "50000/50000 [==============================] - 6s 116us/step - loss: 1.3706 - accuracy: 0.5108 - val_loss: 1.4559 - val_accuracy: 0.4835\n",
      "Epoch 10/100\n",
      "50000/50000 [==============================] - 5s 108us/step - loss: 1.3402 - accuracy: 0.5219 - val_loss: 1.4582 - val_accuracy: 0.4839\n",
      "Epoch 11/100\n",
      "50000/50000 [==============================] - 5s 95us/step - loss: 1.3177 - accuracy: 0.5291 - val_loss: 1.4405 - val_accuracy: 0.4920\n",
      "Epoch 12/100\n",
      "50000/50000 [==============================] - 5s 96us/step - loss: 1.2998 - accuracy: 0.5345 - val_loss: 1.4334 - val_accuracy: 0.4944\n",
      "Epoch 13/100\n",
      "50000/50000 [==============================] - 5s 96us/step - loss: 1.2656 - accuracy: 0.5482 - val_loss: 1.4165 - val_accuracy: 0.4945\n",
      "Epoch 14/100\n",
      "50000/50000 [==============================] - 5s 96us/step - loss: 1.2413 - accuracy: 0.5560 - val_loss: 1.3788 - val_accuracy: 0.5154\n",
      "Epoch 15/100\n",
      "50000/50000 [==============================] - 5s 97us/step - loss: 1.2202 - accuracy: 0.5630 - val_loss: 1.3644 - val_accuracy: 0.5175\n",
      "Epoch 16/100\n",
      "50000/50000 [==============================] - 5s 96us/step - loss: 1.1972 - accuracy: 0.5742 - val_loss: 1.3622 - val_accuracy: 0.5177\n",
      "Epoch 17/100\n",
      "50000/50000 [==============================] - 5s 101us/step - loss: 1.1764 - accuracy: 0.5782 - val_loss: 1.4033 - val_accuracy: 0.5019\n",
      "Epoch 18/100\n",
      "50000/50000 [==============================] - 5s 97us/step - loss: 1.1474 - accuracy: 0.5900 - val_loss: 1.3658 - val_accuracy: 0.5258\n",
      "Epoch 19/100\n",
      "50000/50000 [==============================] - 5s 93us/step - loss: 1.1302 - accuracy: 0.5975 - val_loss: 1.3781 - val_accuracy: 0.5181\n",
      "Epoch 20/100\n",
      "50000/50000 [==============================] - 5s 94us/step - loss: 1.1135 - accuracy: 0.6021 - val_loss: 1.4087 - val_accuracy: 0.5071\n",
      "Epoch 21/100\n",
      "50000/50000 [==============================] - 5s 93us/step - loss: 1.0918 - accuracy: 0.6123 - val_loss: 1.3731 - val_accuracy: 0.5217\n",
      "Epoch 22/100\n",
      "50000/50000 [==============================] - 5s 93us/step - loss: 1.0720 - accuracy: 0.6162 - val_loss: 1.3775 - val_accuracy: 0.5218\n",
      "Epoch 23/100\n",
      "50000/50000 [==============================] - 5s 93us/step - loss: 1.0480 - accuracy: 0.6258 - val_loss: 1.4044 - val_accuracy: 0.5196\n",
      "Epoch 24/100\n",
      "50000/50000 [==============================] - 5s 98us/step - loss: 1.0305 - accuracy: 0.6311 - val_loss: 1.3628 - val_accuracy: 0.5299\n",
      "Epoch 25/100\n",
      "50000/50000 [==============================] - 5s 95us/step - loss: 1.0131 - accuracy: 0.6377 - val_loss: 1.3945 - val_accuracy: 0.5279\n",
      "Epoch 26/100\n",
      "50000/50000 [==============================] - 5s 95us/step - loss: 0.9858 - accuracy: 0.6473 - val_loss: 1.3788 - val_accuracy: 0.5277\n",
      "Epoch 27/100\n",
      "50000/50000 [==============================] - 5s 95us/step - loss: 0.9724 - accuracy: 0.6518 - val_loss: 1.4109 - val_accuracy: 0.5299\n",
      "Epoch 28/100\n",
      "50000/50000 [==============================] - 5s 96us/step - loss: 0.9526 - accuracy: 0.6583 - val_loss: 1.4131 - val_accuracy: 0.5335\n",
      "Epoch 29/100\n",
      "50000/50000 [==============================] - 5s 97us/step - loss: 0.9307 - accuracy: 0.6675 - val_loss: 1.4314 - val_accuracy: 0.5249\n",
      "Epoch 30/100\n",
      "50000/50000 [==============================] - 5s 96us/step - loss: 0.9079 - accuracy: 0.6750 - val_loss: 1.4433 - val_accuracy: 0.5287\n",
      "Epoch 31/100\n",
      "50000/50000 [==============================] - 5s 95us/step - loss: 0.8995 - accuracy: 0.6778 - val_loss: 1.4575 - val_accuracy: 0.5309\n",
      "Epoch 32/100\n",
      "50000/50000 [==============================] - 5s 110us/step - loss: 0.8793 - accuracy: 0.6848 - val_loss: 1.4499 - val_accuracy: 0.5323\n",
      "Epoch 33/100\n",
      "50000/50000 [==============================] - 5s 105us/step - loss: 0.8605 - accuracy: 0.6921 - val_loss: 1.4914 - val_accuracy: 0.5215\n",
      "Epoch 34/100\n",
      "50000/50000 [==============================] - 5s 105us/step - loss: 0.8409 - accuracy: 0.7015 - val_loss: 1.4801 - val_accuracy: 0.5303\n",
      "Epoch 35/100\n",
      "50000/50000 [==============================] - 5s 108us/step - loss: 0.8100 - accuracy: 0.7094 - val_loss: 1.5096 - val_accuracy: 0.5268\n",
      "Epoch 36/100\n",
      "50000/50000 [==============================] - 5s 106us/step - loss: 0.8067 - accuracy: 0.7118 - val_loss: 1.5464 - val_accuracy: 0.5250\n",
      "Epoch 37/100\n",
      "50000/50000 [==============================] - 5s 103us/step - loss: 0.7904 - accuracy: 0.7166 - val_loss: 1.5748 - val_accuracy: 0.5190\n",
      "Epoch 38/100\n",
      "50000/50000 [==============================] - 5s 96us/step - loss: 0.7862 - accuracy: 0.7170 - val_loss: 1.5703 - val_accuracy: 0.5219\n",
      "Epoch 39/100\n",
      "50000/50000 [==============================] - 5s 95us/step - loss: 0.7573 - accuracy: 0.7289 - val_loss: 1.5865 - val_accuracy: 0.5235\n",
      "Epoch 40/100\n",
      "50000/50000 [==============================] - 5s 103us/step - loss: 0.7417 - accuracy: 0.7349 - val_loss: 1.6035 - val_accuracy: 0.5233\n",
      "Epoch 41/100\n",
      "50000/50000 [==============================] - 5s 104us/step - loss: 0.7256 - accuracy: 0.7412 - val_loss: 1.6425 - val_accuracy: 0.5197\n",
      "Epoch 42/100\n",
      "50000/50000 [==============================] - 5s 104us/step - loss: 0.7218 - accuracy: 0.7411 - val_loss: 1.6502 - val_accuracy: 0.5199\n",
      "Epoch 43/100\n",
      "50000/50000 [==============================] - 5s 98us/step - loss: 0.6904 - accuracy: 0.7540 - val_loss: 1.6990 - val_accuracy: 0.5199\n",
      "Epoch 44/100\n",
      "50000/50000 [==============================] - 5s 96us/step - loss: 0.6798 - accuracy: 0.7567 - val_loss: 1.6781 - val_accuracy: 0.5281\n",
      "Epoch 45/100\n",
      "50000/50000 [==============================] - 5s 101us/step - loss: 0.6652 - accuracy: 0.7614 - val_loss: 1.7190 - val_accuracy: 0.5270\n",
      "Epoch 46/100\n",
      "50000/50000 [==============================] - 5s 97us/step - loss: 0.6521 - accuracy: 0.7671 - val_loss: 1.7091 - val_accuracy: 0.5256\n",
      "Epoch 47/100\n",
      "50000/50000 [==============================] - 5s 102us/step - loss: 0.6506 - accuracy: 0.7688 - val_loss: 1.8091 - val_accuracy: 0.5228\n",
      "Epoch 48/100\n",
      "50000/50000 [==============================] - 5s 100us/step - loss: 0.6288 - accuracy: 0.7743 - val_loss: 1.8186 - val_accuracy: 0.5198\n",
      "Epoch 49/100\n",
      "50000/50000 [==============================] - 5s 98us/step - loss: 0.6140 - accuracy: 0.7798 - val_loss: 1.8108 - val_accuracy: 0.5225\n",
      "Epoch 50/100\n",
      "50000/50000 [==============================] - 5s 98us/step - loss: 0.5955 - accuracy: 0.7865 - val_loss: 1.8252 - val_accuracy: 0.5211\n",
      "Epoch 51/100\n",
      "50000/50000 [==============================] - 5s 103us/step - loss: 0.5938 - accuracy: 0.7880 - val_loss: 1.9099 - val_accuracy: 0.5177\n",
      "Epoch 52/100\n",
      "50000/50000 [==============================] - 5s 99us/step - loss: 0.5697 - accuracy: 0.7972 - val_loss: 1.8672 - val_accuracy: 0.5200\n",
      "Epoch 53/100\n",
      "50000/50000 [==============================] - 6s 110us/step - loss: 0.5671 - accuracy: 0.7966 - val_loss: 1.9011 - val_accuracy: 0.5264\n",
      "Epoch 54/100\n",
      "50000/50000 [==============================] - 5s 105us/step - loss: 0.5422 - accuracy: 0.8068 - val_loss: 1.9456 - val_accuracy: 0.5212\n",
      "Epoch 55/100\n",
      "50000/50000 [==============================] - 5s 101us/step - loss: 0.5462 - accuracy: 0.8058 - val_loss: 1.9863 - val_accuracy: 0.5213\n",
      "Epoch 56/100\n",
      "50000/50000 [==============================] - 5s 98us/step - loss: 0.5338 - accuracy: 0.8094 - val_loss: 2.0302 - val_accuracy: 0.5097\n",
      "Epoch 57/100\n",
      "50000/50000 [==============================] - 5s 98us/step - loss: 0.5295 - accuracy: 0.8104 - val_loss: 2.0088 - val_accuracy: 0.5185\n",
      "Epoch 58/100\n",
      "50000/50000 [==============================] - 5s 107us/step - loss: 0.5096 - accuracy: 0.8172 - val_loss: 2.0461 - val_accuracy: 0.5104\n",
      "Epoch 59/100\n",
      "50000/50000 [==============================] - 5s 110us/step - loss: 0.5145 - accuracy: 0.8160 - val_loss: 2.1646 - val_accuracy: 0.5091\n",
      "Epoch 60/100\n",
      "50000/50000 [==============================] - 5s 109us/step - loss: 0.4771 - accuracy: 0.8289 - val_loss: 2.1329 - val_accuracy: 0.5223\n",
      "Epoch 61/100\n",
      "50000/50000 [==============================] - 6s 112us/step - loss: 0.4825 - accuracy: 0.8272 - val_loss: 2.1275 - val_accuracy: 0.5145\n",
      "Epoch 62/100\n",
      "50000/50000 [==============================] - 5s 99us/step - loss: 0.4737 - accuracy: 0.8315 - val_loss: 2.1627 - val_accuracy: 0.5186\n",
      "Epoch 63/100\n",
      "50000/50000 [==============================] - 5s 102us/step - loss: 0.4772 - accuracy: 0.8292 - val_loss: 2.1704 - val_accuracy: 0.5182\n",
      "Epoch 64/100\n",
      "50000/50000 [==============================] - 5s 97us/step - loss: 0.4581 - accuracy: 0.8355 - val_loss: 2.2303 - val_accuracy: 0.5215\n",
      "Epoch 65/100\n",
      "50000/50000 [==============================] - 5s 95us/step - loss: 0.4409 - accuracy: 0.8423 - val_loss: 2.2465 - val_accuracy: 0.5204\n",
      "Epoch 66/100\n",
      "50000/50000 [==============================] - 5s 95us/step - loss: 0.4467 - accuracy: 0.8399 - val_loss: 2.3374 - val_accuracy: 0.5142\n",
      "Epoch 67/100\n",
      "50000/50000 [==============================] - 5s 94us/step - loss: 0.4369 - accuracy: 0.8437 - val_loss: 2.3576 - val_accuracy: 0.5168\n",
      "Epoch 68/100\n",
      "50000/50000 [==============================] - 5s 95us/step - loss: 0.4148 - accuracy: 0.8514 - val_loss: 2.4126 - val_accuracy: 0.5145\n",
      "Epoch 69/100\n",
      "50000/50000 [==============================] - 5s 96us/step - loss: 0.4441 - accuracy: 0.8405 - val_loss: 2.3635 - val_accuracy: 0.5104\n",
      "Epoch 70/100\n",
      "50000/50000 [==============================] - 5s 95us/step - loss: 0.4038 - accuracy: 0.8550 - val_loss: 2.4546 - val_accuracy: 0.5081\n",
      "Epoch 71/100\n",
      "50000/50000 [==============================] - 5s 95us/step - loss: 0.4085 - accuracy: 0.8534 - val_loss: 2.4296 - val_accuracy: 0.5064\n",
      "Epoch 72/100\n",
      "50000/50000 [==============================] - 5s 99us/step - loss: 0.4018 - accuracy: 0.8560 - val_loss: 2.4990 - val_accuracy: 0.5134\n",
      "Epoch 73/100\n",
      "50000/50000 [==============================] - 5s 98us/step - loss: 0.4016 - accuracy: 0.8562 - val_loss: 2.4758 - val_accuracy: 0.5124\n",
      "Epoch 74/100\n",
      "50000/50000 [==============================] - 5s 97us/step - loss: 0.3810 - accuracy: 0.8636 - val_loss: 2.5212 - val_accuracy: 0.5169\n",
      "Epoch 75/100\n",
      "50000/50000 [==============================] - 5s 99us/step - loss: 0.3734 - accuracy: 0.8647 - val_loss: 2.6294 - val_accuracy: 0.5011\n",
      "Epoch 76/100\n",
      "50000/50000 [==============================] - 5s 98us/step - loss: 0.3817 - accuracy: 0.8624 - val_loss: 2.6221 - val_accuracy: 0.5017\n",
      "Epoch 77/100\n",
      "50000/50000 [==============================] - 5s 98us/step - loss: 0.3547 - accuracy: 0.8742 - val_loss: 2.6371 - val_accuracy: 0.5106\n",
      "Epoch 78/100\n",
      "50000/50000 [==============================] - 5s 100us/step - loss: 0.3535 - accuracy: 0.8741 - val_loss: 2.6963 - val_accuracy: 0.4973\n",
      "Epoch 79/100\n",
      "50000/50000 [==============================] - 5s 98us/step - loss: 0.3521 - accuracy: 0.8743 - val_loss: 2.6726 - val_accuracy: 0.5086\n",
      "Epoch 80/100\n",
      "50000/50000 [==============================] - 5s 100us/step - loss: 0.3572 - accuracy: 0.8715 - val_loss: 2.7809 - val_accuracy: 0.5082\n",
      "Epoch 81/100\n",
      "50000/50000 [==============================] - 5s 103us/step - loss: 0.3546 - accuracy: 0.8730 - val_loss: 2.6956 - val_accuracy: 0.5106\n",
      "Epoch 82/100\n",
      "50000/50000 [==============================] - 5s 102us/step - loss: 0.3481 - accuracy: 0.8737 - val_loss: 2.8165 - val_accuracy: 0.5049\n",
      "Epoch 83/100\n",
      "50000/50000 [==============================] - 5s 98us/step - loss: 0.3364 - accuracy: 0.8802 - val_loss: 2.9267 - val_accuracy: 0.5093\n",
      "Epoch 84/100\n",
      "50000/50000 [==============================] - 5s 106us/step - loss: 0.3105 - accuracy: 0.8870 - val_loss: 2.9279 - val_accuracy: 0.5035\n",
      "Epoch 85/100\n",
      "50000/50000 [==============================] - 5s 105us/step - loss: 0.3290 - accuracy: 0.8825 - val_loss: 2.8826 - val_accuracy: 0.5099\n",
      "Epoch 86/100\n",
      "50000/50000 [==============================] - 5s 103us/step - loss: 0.3069 - accuracy: 0.8910 - val_loss: 2.9317 - val_accuracy: 0.5045\n",
      "Epoch 87/100\n",
      "50000/50000 [==============================] - 6s 115us/step - loss: 0.3404 - accuracy: 0.8776 - val_loss: 2.9813 - val_accuracy: 0.5002\n",
      "Epoch 88/100\n",
      "50000/50000 [==============================] - 6s 114us/step - loss: 0.3243 - accuracy: 0.8827 - val_loss: 2.9998 - val_accuracy: 0.5120\n",
      "Epoch 89/100\n",
      "50000/50000 [==============================] - 6s 115us/step - loss: 0.3104 - accuracy: 0.8882 - val_loss: 2.9876 - val_accuracy: 0.5113\n",
      "Epoch 90/100\n",
      "50000/50000 [==============================] - 6s 118us/step - loss: 0.2940 - accuracy: 0.8950 - val_loss: 3.1196 - val_accuracy: 0.4977\n",
      "Epoch 91/100\n",
      "50000/50000 [==============================] - 5s 97us/step - loss: 0.2966 - accuracy: 0.8923 - val_loss: 3.0902 - val_accuracy: 0.5021\n",
      "Epoch 92/100\n",
      "50000/50000 [==============================] - 5s 101us/step - loss: 0.3183 - accuracy: 0.8843 - val_loss: 3.2573 - val_accuracy: 0.4911\n",
      "Epoch 93/100\n",
      "50000/50000 [==============================] - 5s 105us/step - loss: 0.2805 - accuracy: 0.8984 - val_loss: 3.1617 - val_accuracy: 0.5071\n",
      "Epoch 94/100\n",
      "50000/50000 [==============================] - 5s 98us/step - loss: 0.2944 - accuracy: 0.8935 - val_loss: 3.2488 - val_accuracy: 0.4994\n",
      "Epoch 95/100\n",
      "50000/50000 [==============================] - 5s 100us/step - loss: 0.2833 - accuracy: 0.8980 - val_loss: 3.1585 - val_accuracy: 0.5042\n",
      "Epoch 96/100\n",
      "50000/50000 [==============================] - 5s 97us/step - loss: 0.2786 - accuracy: 0.8998 - val_loss: 3.3337 - val_accuracy: 0.5033\n",
      "Epoch 97/100\n",
      "50000/50000 [==============================] - 5s 98us/step - loss: 0.2883 - accuracy: 0.8970 - val_loss: 3.2999 - val_accuracy: 0.4999\n",
      "Epoch 98/100\n",
      "50000/50000 [==============================] - 6s 111us/step - loss: 0.2829 - accuracy: 0.8977 - val_loss: 3.3780 - val_accuracy: 0.5032\n",
      "Epoch 99/100\n",
      "50000/50000 [==============================] - 6s 117us/step - loss: 0.2639 - accuracy: 0.9052 - val_loss: 3.2903 - val_accuracy: 0.5073\n",
      "Epoch 100/100\n",
      "50000/50000 [==============================] - 5s 101us/step - loss: 0.2646 - accuracy: 0.9055 - val_loss: 3.4596 - val_accuracy: 0.5092\n"
     ]
    },
    {
     "data": {
      "text/plain": [
       "<keras.callbacks.callbacks.History at 0x7f460dbf7160>"
      ]
     },
     "execution_count": 11,
     "metadata": {},
     "output_type": "execute_result"
    }
   ],
   "source": [
    "model.fit(x_train, y_train, \n",
    "          epochs=EPOCHS, \n",
    "          batch_size=BATCH_SIZE, \n",
    "          validation_data=(x_test, y_test), \n",
    "          shuffle=True)"
   ]
  },
  {
   "cell_type": "code",
   "execution_count": 13,
   "metadata": {},
   "outputs": [
    {
     "data": {
      "image/png": "[encoded data removed]",
      "text/plain": [
       "<Figure size 432x288 with 1 Axes>"
      ]
     },
     "metadata": {
      "needs_background": "dark"
     },
     "output_type": "display_data"
    },
    {
     "data": {
      "image/png": "[encoded data removed]",
      "text/plain": [
       "<Figure size 432x288 with 1 Axes>"
      ]
     },
     "metadata": {
      "needs_background": "dark"
     },
     "output_type": "display_data"
    }
   ],
   "source": [
    "# 訓練模型並檢視驗證集的結果\n",
    "import matplotlib.pyplot as plt\n",
    "\n",
    "train_loss = model.history.history[\"loss\"]\n",
    "valid_loss = model.history.history[\"val_loss\"]\n",
    "\n",
    "train_acc = model.history.history[\"accuracy\"]\n",
    "valid_acc = model.history.history[\"val_accuracy\"]\n",
    "\n",
    "plt.plot(range(len(train_loss)), train_loss, label=\"train loss\")\n",
    "plt.plot(range(len(valid_loss)), valid_loss, label=\"valid loss\")\n",
    "plt.legend()\n",
    "plt.title(\"Loss\")\n",
    "plt.show()\n",
    "\n",
    "plt.plot(range(len(train_acc)), train_acc, label=\"train accuracy\")\n",
    "plt.plot(range(len(valid_acc)), valid_acc, label=\"valid accuracy\")\n",
    "plt.legend()\n",
    "plt.title(\"Accuracy\")\n",
    "plt.show()"
   ]
  },
  {
   "cell_type": "markdown",
   "metadata": {},
   "source": [
    "## Work\n",
    "1. 請嘗試將 preproc_x 替換成以每筆資料的 min/max 進行標準化至 -1 ~ 1 間，再進行訓練\n",
    "2. 請嘗試將 mlp 疊更深 (e.g 5~10 層)，進行訓練後觀察 learning curve 的走勢\n",
    "3. (optional) 請改用 GPU 進行訓練 (如果你有 GPU 的話)，比較使用 CPU 與 GPU 的訓練速度"
   ]
  }
 ],
 "metadata": {
  "kernelspec": {
   "display_name": "Python 3",
   "language": "python",
   "name": "python3"
  },
  "language_info": {
   "codemirror_mode": {
    "name": "ipython",
    "version": 3
   },
   "file_extension": ".py",
   "mimetype": "text/x-python",
   "name": "python",
   "nbconvert_exporter": "python",
   "pygments_lexer": "ipython3",
   "version": "3.6.8"
  }
 },
 "nbformat": 4,
 "nbformat_minor": 2
}
