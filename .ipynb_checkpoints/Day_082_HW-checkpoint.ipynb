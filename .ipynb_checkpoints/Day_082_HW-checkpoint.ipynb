{
 "cells": [
  {
   "cell_type": "markdown",
   "metadata": {},
   "source": [
    "## Work\n",
    "1. 請比較使用不同層數以及不同 Dropout rate 對訓練的效果\n",
    "2. 將 optimizer 改成使用 Adam 並加上適當的 dropout rate 檢視結果"
   ]
  },
  {
   "cell_type": "code",
   "execution_count": 19,
   "metadata": {},
   "outputs": [],
   "source": [
    "import os\n",
    "import keras\n",
    "import itertools\n",
    "# Disable GPU\n",
    "os.environ[\"CUDA_VISIBLE_DEVICES\"] = \"\""
   ]
  },
  {
   "cell_type": "code",
   "execution_count": 20,
   "metadata": {},
   "outputs": [],
   "source": [
    "train, test = keras.datasets.cifar10.load_data()"
   ]
  },
  {
   "cell_type": "code",
   "execution_count": 21,
   "metadata": {},
   "outputs": [],
   "source": [
    "## 資料前處理\n",
    "def preproc_x(x, flatten=True):\n",
    "    x = x / 255.\n",
    "    if flatten:\n",
    "        x = x.reshape((len(x), -1))\n",
    "    return x\n",
    "\n",
    "def preproc_y(y, num_classes=10):\n",
    "    if y.shape[-1] == 1:\n",
    "        y = keras.utils.to_categorical(y, num_classes)\n",
    "    return y    "
   ]
  },
  {
   "cell_type": "code",
   "execution_count": 22,
   "metadata": {},
   "outputs": [],
   "source": [
    "x_train, y_train = train\n",
    "x_test, y_test = test\n",
    "\n",
    "# Preproc the inputs\n",
    "x_train = preproc_x(x_train)\n",
    "x_test = preproc_x(x_test)\n",
    "\n",
    "# Preprc the outputs\n",
    "y_train = preproc_y(y_train)\n",
    "y_test = preproc_y(y_test)"
   ]
  },
  {
   "cell_type": "code",
   "execution_count": 23,
   "metadata": {},
   "outputs": [],
   "source": [
    "from keras.layers import Dropout\n",
    "def build_mlp(input_shape,output_units=10,num_neurons=[256,128,64,64],drp_ratio=0.2):\n",
    "    \"\"\"Code Here\n",
    "    建立你的神經網路\n",
    "    \"\"\"\n",
    "    input_layer = keras.layers.Input(input_shape)\n",
    "    for i, n_units in enumerate(num_neurons):\n",
    "        if i ==0:\n",
    "            x = keras.layers.Dense(units=n_units,activation='relu',\n",
    "                                   name=f'hidden_layer{i+1}')(input_layer)\n",
    "            x = Dropout(drp_ratio)(x)\n",
    "        else:\n",
    "            x = keras.layers.Dense(units=n_units,activation='relu',\n",
    "                                   name=f'hidden_layer{i+1}')(input_layer)\n",
    "            x = Dropout(drp_ratio)(x)\n",
    "    \n",
    "    out = keras.layers.Dense(units=output_units,activation='softmax',\n",
    "                                   name=f'output_layer')(x)\n",
    "\n",
    "    model = keras.models.Model(inputs=[input_layer],outputs=[out])\n",
    "    return model"
   ]
  },
  {
   "cell_type": "code",
   "execution_count": 26,
   "metadata": {},
   "outputs": [],
   "source": [
    "\"\"\"Code Here\n",
    "設定超參數\n",
    "\"\"\"\n",
    "LEARNING_RATE = 1e-3\n",
    "EPOCHS = 30\n",
    "BATCH_SIZE = 256\n",
    "DROP_RATIOS = [0.1,0.3,0.5]"
   ]
  },
  {
   "cell_type": "code",
   "execution_count": 28,
   "metadata": {
    "scrolled": true
   },
   "outputs": [
    {
     "name": "stdout",
     "output_type": "stream",
     "text": [
      "Model: \"model_7\"\n",
      "_________________________________________________________________\n",
      "Layer (type)                 Output Shape              Param #   \n",
      "=================================================================\n",
      "input_8 (InputLayer)         (None, 3072)              0         \n",
      "_________________________________________________________________\n",
      "hidden_layer4 (Dense)        (None, 64)                196672    \n",
      "_________________________________________________________________\n",
      "dropout_32 (Dropout)         (None, 64)                0         \n",
      "_________________________________________________________________\n",
      "output_layer (Dense)         (None, 10)                650       \n",
      "=================================================================\n",
      "Total params: 197,322\n",
      "Trainable params: 197,322\n",
      "Non-trainable params: 0\n",
      "_________________________________________________________________\n",
      "WARNING:tensorflow:From /usr/local/lib/python3.6/dist-packages/keras/backend/tensorflow_backend.py:422: The name tf.global_variables is deprecated. Please use tf.compat.v1.global_variables instead.\n",
      "\n",
      "Train on 50000 samples, validate on 10000 samples\n",
      "Epoch 1/30\n",
      "50000/50000 [==============================] - 2s 42us/step - loss: 2.0092 - accuracy: 0.2737 - val_loss: 1.8318 - val_accuracy: 0.3561\n",
      "Epoch 2/30\n",
      "50000/50000 [==============================] - 2s 36us/step - loss: 1.8485 - accuracy: 0.3369 - val_loss: 1.7725 - val_accuracy: 0.3735\n",
      "Epoch 3/30\n",
      "50000/50000 [==============================] - 2s 36us/step - loss: 1.7989 - accuracy: 0.3539 - val_loss: 1.7395 - val_accuracy: 0.3882\n",
      "Epoch 4/30\n",
      "50000/50000 [==============================] - 2s 35us/step - loss: 1.7656 - accuracy: 0.3649 - val_loss: 1.7034 - val_accuracy: 0.3943\n",
      "Epoch 5/30\n",
      "50000/50000 [==============================] - 2s 36us/step - loss: 1.7430 - accuracy: 0.3728 - val_loss: 1.7013 - val_accuracy: 0.4024\n",
      "Epoch 6/30\n",
      "50000/50000 [==============================] - 2s 38us/step - loss: 1.7185 - accuracy: 0.3835 - val_loss: 1.6492 - val_accuracy: 0.4150\n",
      "Epoch 7/30\n",
      "50000/50000 [==============================] - 2s 34us/step - loss: 1.7135 - accuracy: 0.3849 - val_loss: 1.6730 - val_accuracy: 0.4002\n",
      "Epoch 8/30\n",
      "50000/50000 [==============================] - 2s 33us/step - loss: 1.6924 - accuracy: 0.3920 - val_loss: 1.6345 - val_accuracy: 0.4198\n",
      "Epoch 9/30\n",
      "50000/50000 [==============================] - 2s 31us/step - loss: 1.6831 - accuracy: 0.3968 - val_loss: 1.6276 - val_accuracy: 0.4224\n",
      "Epoch 10/30\n",
      "50000/50000 [==============================] - 2s 30us/step - loss: 1.6701 - accuracy: 0.4018 - val_loss: 1.6564 - val_accuracy: 0.4092\n",
      "Epoch 11/30\n",
      "50000/50000 [==============================] - 2s 32us/step - loss: 1.6595 - accuracy: 0.4033 - val_loss: 1.6214 - val_accuracy: 0.4180\n",
      "Epoch 12/30\n",
      "50000/50000 [==============================] - 2s 32us/step - loss: 1.6703 - accuracy: 0.4015 - val_loss: 1.6090 - val_accuracy: 0.4225\n",
      "Epoch 13/30\n",
      "50000/50000 [==============================] - 2s 31us/step - loss: 1.6529 - accuracy: 0.4035 - val_loss: 1.6009 - val_accuracy: 0.4307\n",
      "Epoch 14/30\n",
      "50000/50000 [==============================] - 2s 32us/step - loss: 1.6384 - accuracy: 0.4120 - val_loss: 1.6122 - val_accuracy: 0.4250\n",
      "Epoch 15/30\n",
      "50000/50000 [==============================] - 1s 29us/step - loss: 1.6426 - accuracy: 0.4139 - val_loss: 1.6012 - val_accuracy: 0.4285\n",
      "Epoch 16/30\n",
      "50000/50000 [==============================] - 1s 30us/step - loss: 1.6328 - accuracy: 0.4143 - val_loss: 1.5832 - val_accuracy: 0.4374\n",
      "Epoch 17/30\n",
      "50000/50000 [==============================] - 2s 31us/step - loss: 1.6266 - accuracy: 0.4156 - val_loss: 1.5888 - val_accuracy: 0.4320\n",
      "Epoch 18/30\n",
      "50000/50000 [==============================] - 2s 33us/step - loss: 1.6230 - accuracy: 0.4187 - val_loss: 1.5915 - val_accuracy: 0.4336\n",
      "Epoch 19/30\n",
      "50000/50000 [==============================] - 2s 32us/step - loss: 1.6195 - accuracy: 0.4158 - val_loss: 1.6039 - val_accuracy: 0.4212\n",
      "Epoch 20/30\n",
      "50000/50000 [==============================] - 2s 32us/step - loss: 1.6167 - accuracy: 0.4171 - val_loss: 1.5744 - val_accuracy: 0.4418\n",
      "Epoch 21/30\n",
      "50000/50000 [==============================] - 1s 29us/step - loss: 1.6163 - accuracy: 0.4203 - val_loss: 1.6393 - val_accuracy: 0.4124\n",
      "Epoch 22/30\n",
      "50000/50000 [==============================] - 1s 30us/step - loss: 1.6138 - accuracy: 0.4233 - val_loss: 1.5722 - val_accuracy: 0.4347\n",
      "Epoch 23/30\n",
      "50000/50000 [==============================] - 2s 33us/step - loss: 1.6073 - accuracy: 0.4227 - val_loss: 1.5670 - val_accuracy: 0.4407\n",
      "Epoch 24/30\n",
      "50000/50000 [==============================] - 2s 34us/step - loss: 1.6013 - accuracy: 0.4248 - val_loss: 1.5677 - val_accuracy: 0.4383\n",
      "Epoch 25/30\n",
      "50000/50000 [==============================] - 2s 34us/step - loss: 1.5973 - accuracy: 0.4292 - val_loss: 1.5639 - val_accuracy: 0.4416\n",
      "Epoch 26/30\n",
      "50000/50000 [==============================] - 2s 34us/step - loss: 1.5892 - accuracy: 0.4304 - val_loss: 1.5678 - val_accuracy: 0.4417\n",
      "Epoch 27/30\n",
      "50000/50000 [==============================] - 2s 33us/step - loss: 1.5947 - accuracy: 0.4295 - val_loss: 1.5667 - val_accuracy: 0.4407\n",
      "Epoch 28/30\n",
      "50000/50000 [==============================] - 2s 34us/step - loss: 1.5904 - accuracy: 0.4291 - val_loss: 1.5915 - val_accuracy: 0.4221\n",
      "Epoch 29/30\n",
      "50000/50000 [==============================] - 2s 34us/step - loss: 1.5892 - accuracy: 0.4308 - val_loss: 1.5585 - val_accuracy: 0.4391\n",
      "Epoch 30/30\n",
      "50000/50000 [==============================] - 2s 33us/step - loss: 1.5864 - accuracy: 0.4311 - val_loss: 1.5863 - val_accuracy: 0.4304\n"
     ]
    },
    {
     "ename": "KeyError",
     "evalue": "'acc'",
     "output_type": "error",
     "traceback": [
      "\u001b[0;31m---------------------------------------------------------------------------\u001b[0m",
      "\u001b[0;31mKeyError\u001b[0m                                  Traceback (most recent call last)",
      "\u001b[0;32m<ipython-input-28-4594c3275782>\u001b[0m in \u001b[0;36m<module>\u001b[0;34m\u001b[0m\n\u001b[1;32m     12\u001b[0m     \u001b[0mtrain_loss\u001b[0m \u001b[0;34m=\u001b[0m \u001b[0mmodel\u001b[0m\u001b[0;34m.\u001b[0m\u001b[0mhistory\u001b[0m\u001b[0;34m.\u001b[0m\u001b[0mhistory\u001b[0m\u001b[0;34m[\u001b[0m\u001b[0;34m'loss'\u001b[0m\u001b[0;34m]\u001b[0m\u001b[0;34m\u001b[0m\u001b[0;34m\u001b[0m\u001b[0m\n\u001b[1;32m     13\u001b[0m     \u001b[0mvalid_loss\u001b[0m \u001b[0;34m=\u001b[0m \u001b[0mmodel\u001b[0m\u001b[0;34m.\u001b[0m\u001b[0mhistory\u001b[0m\u001b[0;34m.\u001b[0m\u001b[0mhistory\u001b[0m\u001b[0;34m[\u001b[0m\u001b[0;34m'val_loss'\u001b[0m\u001b[0;34m]\u001b[0m\u001b[0;34m\u001b[0m\u001b[0;34m\u001b[0m\u001b[0m\n\u001b[0;32m---> 14\u001b[0;31m     \u001b[0mtrain_acc\u001b[0m \u001b[0;34m=\u001b[0m \u001b[0mmodel\u001b[0m\u001b[0;34m.\u001b[0m\u001b[0mhistory\u001b[0m\u001b[0;34m.\u001b[0m\u001b[0mhistory\u001b[0m\u001b[0;34m[\u001b[0m\u001b[0;34m'acc'\u001b[0m\u001b[0;34m]\u001b[0m\u001b[0;34m\u001b[0m\u001b[0;34m\u001b[0m\u001b[0m\n\u001b[0m\u001b[1;32m     15\u001b[0m     \u001b[0mvalid_acc\u001b[0m \u001b[0;34m=\u001b[0m \u001b[0mmodel\u001b[0m\u001b[0;34m.\u001b[0m\u001b[0mhistory\u001b[0m\u001b[0;34m.\u001b[0m\u001b[0mhistory\u001b[0m\u001b[0;34m[\u001b[0m\u001b[0;34m'val_acc'\u001b[0m\u001b[0;34m]\u001b[0m\u001b[0;34m\u001b[0m\u001b[0;34m\u001b[0m\u001b[0m\n\u001b[1;32m     16\u001b[0m     results[f'{drp_ratio}'] = {'train_loss':train_loss,'valid_loss':valid_loss,\n",
      "\u001b[0;31mKeyError\u001b[0m: 'acc'"
     ]
    }
   ],
   "source": [
    "results = {}\n",
    "\"\"\"Code Here\n",
    "撰寫你的訓練流程並將結果用 dictionary 紀錄\n",
    "\"\"\"\n",
    "for drp_ratio in DROP_RATIOS:\n",
    "    model = build_mlp(input_shape = x_train.shape[1:],drp_ratio=drp_ratio)\n",
    "    model.summary()\n",
    "    optimizer = keras.optimizers.Adam(lr=LEARNING_RATE)\n",
    "    model.compile(loss = 'categorical_crossentropy', metrics=['accuracy'], optimizer=optimizer)\n",
    "    model.fit(x_train,y_train,epochs=EPOCHS,batch_size=BATCH_SIZE,\n",
    "             validation_data=(x_test, y_test),shuffle=True)\n",
    "    train_loss = model.history.history['loss']\n",
    "    valid_loss = model.history.history['val_loss']\n",
    "    train_acc = model.history.history['accuracy']\n",
    "    valid_acc = model.history.history['val_accuracy']\n",
    "    results[f'{drp_ratio}'] = {'train_loss':train_loss,'valid_loss':valid_loss,\n",
    "                               'train_acc':train_acc,'valid_acc':valid_acc}"
   ]
  },
  {
   "cell_type": "code",
   "execution_count": null,
   "metadata": {},
   "outputs": [],
   "source": [
    "import matplotlib.pyplot as plt\n",
    "%matplotlib inline\n",
    "\"\"\"Code Here\n",
    "將結果繪出\n",
    "\"\"\"\n",
    "plt.figure(figsize=(8,6))\n",
    "for drp_ratio in results.keys():\n",
    "    plt.plot(range(len(results[drp_ratio]['train_loss'])),\n",
    "             results[drp_ratio]['train_loss'],label=f'{drp_ratio}_train_loss')\n",
    "    plt.plot(range(len(results[drp_ratio]['valid_loss'])),\n",
    "             results[drp_ratio]['valid_loss'],label=f'{drp_ratio}_valid_loss')\n",
    "plt.legend()\n",
    "plt.title('Loss')\n",
    "plt.show()"
   ]
  }
 ],
 "metadata": {
  "kernelspec": {
   "display_name": "Python 3",
   "language": "python",
   "name": "python3"
  },
  "language_info": {
   "codemirror_mode": {
    "name": "ipython",
    "version": 3
   },
   "file_extension": ".py",
   "mimetype": "text/x-python",
   "name": "python",
   "nbconvert_exporter": "python",
   "pygments_lexer": "ipython3",
   "version": "3.6.8"
  }
 },
 "nbformat": 4,
 "nbformat_minor": 2
}
