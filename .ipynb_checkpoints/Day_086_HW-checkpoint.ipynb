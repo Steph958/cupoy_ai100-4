{
 "cells": [
  {
   "cell_type": "markdown",
   "metadata": {},
   "source": [
    "## Work\n",
    "1. 試比較 save_best_only 與否的差異\n",
    "2. 請僅存入將 save_weights_only 設定為 True, 並嘗試 reset ipynb 並將模型與權重重新建回並預測 x_test"
   ]
  },
  {
   "cell_type": "code",
   "execution_count": 6,
   "metadata": {},
   "outputs": [],
   "source": [
    "import os\n",
    "import keras\n",
    "\n",
    "# Disable GPU\n",
    "os.environ[\"CUDA_VISIBLE_DEVICES\"] = \"\""
   ]
  },
  {
   "cell_type": "code",
   "execution_count": 7,
   "metadata": {},
   "outputs": [],
   "source": [
    "train, test = keras.datasets.cifar10.load_data()"
   ]
  },
  {
   "cell_type": "code",
   "execution_count": 8,
   "metadata": {},
   "outputs": [],
   "source": [
    "## 資料前處理\n",
    "def preproc_x(x, flatten=True):\n",
    "    x = x / 255.\n",
    "    if flatten:\n",
    "        x = x.reshape((len(x), -1))\n",
    "    return x\n",
    "\n",
    "def preproc_y(y, num_classes=10):\n",
    "    if y.shape[-1] == 1:\n",
    "        y = keras.utils.to_categorical(y, num_classes)\n",
    "    return y    "
   ]
  },
  {
   "cell_type": "code",
   "execution_count": 9,
   "metadata": {},
   "outputs": [],
   "source": [
    "x_train, y_train = train\n",
    "x_test, y_test = test\n",
    "\n",
    "# Preproc the inputs\n",
    "x_train = preproc_x(x_train)\n",
    "x_test = preproc_x(x_test)\n",
    "\n",
    "# Preprc the outputs\n",
    "y_train = preproc_y(y_train)\n",
    "y_test = preproc_y(y_test)"
   ]
  },
  {
   "cell_type": "code",
   "execution_count": 10,
   "metadata": {},
   "outputs": [],
   "source": [
    "from keras.layers import BatchNormalization\n",
    "\n",
    "\"\"\"\n",
    "建立神經網路，並加入 BN layer\n",
    "\"\"\"\n",
    "def build_mlp(input_shape, output_units=10, num_neurons=[512, 256, 128]):\n",
    "    input_layer = keras.layers.Input(input_shape)\n",
    "    \n",
    "    for i, n_units in enumerate(num_neurons):\n",
    "        if i == 0:\n",
    "            x = keras.layers.Dense(units=n_units, \n",
    "                                   activation=\"relu\", \n",
    "                                   name=\"hidden_layer\"+str(i+1))(input_layer)\n",
    "            x = BatchNormalization()(x)\n",
    "        else:\n",
    "            x = keras.layers.Dense(units=n_units, \n",
    "                                   activation=\"relu\", \n",
    "                                   name=\"hidden_layer\"+str(i+1))(x)\n",
    "            x = BatchNormalization()(x)\n",
    "    \n",
    "    out = keras.layers.Dense(units=output_units, activation=\"softmax\", name=\"output\")(x)\n",
    "    \n",
    "    model = keras.models.Model(inputs=[input_layer], outputs=[out])\n",
    "    return model"
   ]
  },
  {
   "cell_type": "code",
   "execution_count": 11,
   "metadata": {},
   "outputs": [],
   "source": [
    "\"\"\"Code Here\n",
    "設定超參數\n",
    "\"\"\"\n",
    "LEARNING_RATE = 1e-3\n",
    "EPOCHS = 50\n",
    "BATCH_SIZE = 1024\n",
    "MOMENTUM = 0.95"
   ]
  },
  {
   "cell_type": "code",
   "execution_count": 12,
   "metadata": {},
   "outputs": [],
   "source": [
    "# 載入 Callbacks\n",
    "\"\"\"Code Here\n",
    "設定 callbacks: model checkpoint\n",
    "\"\"\"\n",
    "from keras.callbacks import ModelCheckpoint\n",
    "\n",
    "model_ckpt = ModelCheckpoint(filepath=\"./saved_models/tmp.h5\",\n",
    "                            monitor=\"val_loss\",save_best_only=True,\n",
    "                            save_weights_only=True)"
   ]
  },
  {
   "cell_type": "code",
   "execution_count": 13,
   "metadata": {},
   "outputs": [
    {
     "name": "stdout",
     "output_type": "stream",
     "text": [
      "WARNING:tensorflow:From /usr/local/lib/python3.6/dist-packages/tensorflow_core/python/ops/resource_variable_ops.py:1630: calling BaseResourceVariable.__init__ (from tensorflow.python.ops.resource_variable_ops) with constraint is deprecated and will be removed in a future version.\n",
      "Instructions for updating:\n",
      "If using Keras pass *_constraint arguments to layers.\n",
      "Model: \"model_1\"\n",
      "_________________________________________________________________\n",
      "Layer (type)                 Output Shape              Param #   \n",
      "=================================================================\n",
      "input_1 (InputLayer)         (None, 3072)              0         \n",
      "_________________________________________________________________\n",
      "hidden_layer1 (Dense)        (None, 512)               1573376   \n",
      "_________________________________________________________________\n",
      "batch_normalization_1 (Batch (None, 512)               2048      \n",
      "_________________________________________________________________\n",
      "hidden_layer2 (Dense)        (None, 256)               131328    \n",
      "_________________________________________________________________\n",
      "batch_normalization_2 (Batch (None, 256)               1024      \n",
      "_________________________________________________________________\n",
      "hidden_layer3 (Dense)        (None, 128)               32896     \n",
      "_________________________________________________________________\n",
      "batch_normalization_3 (Batch (None, 128)               512       \n",
      "_________________________________________________________________\n",
      "output (Dense)               (None, 10)                1290      \n",
      "=================================================================\n",
      "Total params: 1,742,474\n",
      "Trainable params: 1,740,682\n",
      "Non-trainable params: 1,792\n",
      "_________________________________________________________________\n",
      "WARNING:tensorflow:From /usr/local/lib/python3.6/dist-packages/keras/backend/tensorflow_backend.py:422: The name tf.global_variables is deprecated. Please use tf.compat.v1.global_variables instead.\n",
      "\n",
      "Train on 50000 samples, validate on 10000 samples\n",
      "Epoch 1/50\n",
      "50000/50000 [==============================] - 4s 87us/step - loss: 2.2052 - accuracy: 0.2685 - val_loss: 2.1113 - val_accuracy: 0.2144\n",
      "Epoch 2/50\n",
      "50000/50000 [==============================] - 3s 68us/step - loss: 1.7443 - accuracy: 0.3948 - val_loss: 1.9592 - val_accuracy: 0.2977\n",
      "Epoch 3/50\n",
      "50000/50000 [==============================] - 3s 68us/step - loss: 1.6192 - accuracy: 0.4356 - val_loss: 1.8295 - val_accuracy: 0.3562\n",
      "Epoch 4/50\n",
      "50000/50000 [==============================] - 3s 68us/step - loss: 1.5439 - accuracy: 0.4614 - val_loss: 1.7203 - val_accuracy: 0.4027\n",
      "Epoch 5/50\n",
      "50000/50000 [==============================] - 3s 69us/step - loss: 1.4892 - accuracy: 0.4803 - val_loss: 1.6505 - val_accuracy: 0.4218\n",
      "Epoch 6/50\n",
      "50000/50000 [==============================] - 4s 72us/step - loss: 1.4425 - accuracy: 0.4964 - val_loss: 1.5948 - val_accuracy: 0.4434\n",
      "Epoch 7/50\n",
      "50000/50000 [==============================] - 4s 73us/step - loss: 1.4032 - accuracy: 0.5109 - val_loss: 1.5468 - val_accuracy: 0.4527\n",
      "Epoch 8/50\n",
      "50000/50000 [==============================] - 4s 74us/step - loss: 1.3660 - accuracy: 0.5248 - val_loss: 1.5313 - val_accuracy: 0.4579\n",
      "Epoch 9/50\n",
      "50000/50000 [==============================] - 3s 67us/step - loss: 1.3314 - accuracy: 0.5371 - val_loss: 1.4987 - val_accuracy: 0.4735\n",
      "Epoch 10/50\n",
      "50000/50000 [==============================] - 4s 75us/step - loss: 1.3026 - accuracy: 0.5460 - val_loss: 1.4917 - val_accuracy: 0.4752\n",
      "Epoch 11/50\n",
      "50000/50000 [==============================] - 3s 70us/step - loss: 1.2728 - accuracy: 0.5576 - val_loss: 1.4738 - val_accuracy: 0.4782\n",
      "Epoch 12/50\n",
      "50000/50000 [==============================] - 4s 72us/step - loss: 1.2460 - accuracy: 0.5662 - val_loss: 1.4769 - val_accuracy: 0.4741\n",
      "Epoch 13/50\n",
      "50000/50000 [==============================] - 4s 75us/step - loss: 1.2207 - accuracy: 0.5755 - val_loss: 1.4762 - val_accuracy: 0.4819\n",
      "Epoch 14/50\n",
      "50000/50000 [==============================] - 3s 66us/step - loss: 1.1943 - accuracy: 0.5860 - val_loss: 1.4668 - val_accuracy: 0.4833\n",
      "Epoch 15/50\n",
      "50000/50000 [==============================] - 3s 65us/step - loss: 1.1699 - accuracy: 0.5953 - val_loss: 1.4589 - val_accuracy: 0.4830\n",
      "Epoch 16/50\n",
      "50000/50000 [==============================] - 3s 64us/step - loss: 1.1443 - accuracy: 0.6040 - val_loss: 1.4654 - val_accuracy: 0.4844\n",
      "Epoch 17/50\n",
      "50000/50000 [==============================] - 3s 63us/step - loss: 1.1207 - accuracy: 0.6146 - val_loss: 1.4553 - val_accuracy: 0.4796\n",
      "Epoch 18/50\n",
      "50000/50000 [==============================] - 4s 74us/step - loss: 1.0979 - accuracy: 0.6223 - val_loss: 1.4550 - val_accuracy: 0.4896\n",
      "Epoch 19/50\n",
      "50000/50000 [==============================] - 4s 71us/step - loss: 1.0751 - accuracy: 0.6326 - val_loss: 1.4590 - val_accuracy: 0.4909\n",
      "Epoch 20/50\n",
      "50000/50000 [==============================] - 4s 72us/step - loss: 1.0536 - accuracy: 0.6402 - val_loss: 1.4635 - val_accuracy: 0.4884\n",
      "Epoch 21/50\n",
      "50000/50000 [==============================] - 3s 69us/step - loss: 1.0323 - accuracy: 0.6491 - val_loss: 1.4844 - val_accuracy: 0.4853\n",
      "Epoch 22/50\n",
      "50000/50000 [==============================] - 3s 68us/step - loss: 1.0116 - accuracy: 0.6577 - val_loss: 1.4543 - val_accuracy: 0.4913\n",
      "Epoch 23/50\n",
      "50000/50000 [==============================] - 3s 68us/step - loss: 0.9900 - accuracy: 0.6655 - val_loss: 1.4579 - val_accuracy: 0.4906\n",
      "Epoch 24/50\n",
      "50000/50000 [==============================] - 4s 70us/step - loss: 0.9702 - accuracy: 0.6742 - val_loss: 1.4644 - val_accuracy: 0.4892\n",
      "Epoch 25/50\n",
      "50000/50000 [==============================] - 3s 69us/step - loss: 0.9474 - accuracy: 0.6825 - val_loss: 1.4562 - val_accuracy: 0.4977\n",
      "Epoch 26/50\n",
      "50000/50000 [==============================] - 3s 69us/step - loss: 0.9261 - accuracy: 0.6921 - val_loss: 1.4616 - val_accuracy: 0.4966\n",
      "Epoch 27/50\n",
      "50000/50000 [==============================] - 3s 67us/step - loss: 0.9051 - accuracy: 0.6978 - val_loss: 1.4744 - val_accuracy: 0.4926\n",
      "Epoch 28/50\n",
      "50000/50000 [==============================] - 3s 67us/step - loss: 0.8842 - accuracy: 0.7074 - val_loss: 1.4640 - val_accuracy: 0.4988\n",
      "Epoch 29/50\n",
      "50000/50000 [==============================] - 3s 66us/step - loss: 0.8637 - accuracy: 0.7140 - val_loss: 1.4785 - val_accuracy: 0.4963\n",
      "Epoch 30/50\n",
      "50000/50000 [==============================] - 3s 67us/step - loss: 0.8430 - accuracy: 0.7241 - val_loss: 1.4813 - val_accuracy: 0.4999\n",
      "Epoch 31/50\n",
      "50000/50000 [==============================] - 3s 67us/step - loss: 0.8245 - accuracy: 0.7301 - val_loss: 1.4848 - val_accuracy: 0.5004\n",
      "Epoch 32/50\n",
      "50000/50000 [==============================] - 3s 68us/step - loss: 0.8033 - accuracy: 0.7386 - val_loss: 1.5030 - val_accuracy: 0.4866\n",
      "Epoch 33/50\n",
      "50000/50000 [==============================] - 3s 68us/step - loss: 0.7879 - accuracy: 0.7450 - val_loss: 1.5018 - val_accuracy: 0.4935\n",
      "Epoch 34/50\n",
      "50000/50000 [==============================] - 3s 68us/step - loss: 0.7665 - accuracy: 0.7538 - val_loss: 1.4992 - val_accuracy: 0.4964\n",
      "Epoch 35/50\n",
      "50000/50000 [==============================] - 3s 66us/step - loss: 0.7461 - accuracy: 0.7620 - val_loss: 1.5223 - val_accuracy: 0.4998\n",
      "Epoch 36/50\n",
      "50000/50000 [==============================] - 3s 66us/step - loss: 0.7271 - accuracy: 0.7675 - val_loss: 1.5262 - val_accuracy: 0.4918\n",
      "Epoch 37/50\n",
      "50000/50000 [==============================] - 4s 70us/step - loss: 0.7083 - accuracy: 0.7766 - val_loss: 1.5448 - val_accuracy: 0.4969\n",
      "Epoch 38/50\n",
      "50000/50000 [==============================] - 3s 66us/step - loss: 0.6909 - accuracy: 0.7837 - val_loss: 1.5538 - val_accuracy: 0.4922\n",
      "Epoch 39/50\n",
      "50000/50000 [==============================] - 3s 67us/step - loss: 0.6711 - accuracy: 0.7904 - val_loss: 1.5545 - val_accuracy: 0.4948\n",
      "Epoch 40/50\n",
      "50000/50000 [==============================] - 3s 66us/step - loss: 0.6517 - accuracy: 0.8001 - val_loss: 1.5462 - val_accuracy: 0.4984\n",
      "Epoch 41/50\n",
      "50000/50000 [==============================] - 3s 67us/step - loss: 0.6340 - accuracy: 0.8061 - val_loss: 1.5691 - val_accuracy: 0.4939\n",
      "Epoch 42/50\n",
      "50000/50000 [==============================] - 4s 74us/step - loss: 0.6161 - accuracy: 0.8143 - val_loss: 1.5782 - val_accuracy: 0.4926\n"
     ]
    },
    {
     "name": "stdout",
     "output_type": "stream",
     "text": [
      "Epoch 43/50\n",
      "50000/50000 [==============================] - 3s 70us/step - loss: 0.5976 - accuracy: 0.8214 - val_loss: 1.5827 - val_accuracy: 0.4949\n",
      "Epoch 44/50\n",
      "50000/50000 [==============================] - 3s 63us/step - loss: 0.5804 - accuracy: 0.8273 - val_loss: 1.6136 - val_accuracy: 0.4920\n",
      "Epoch 45/50\n",
      "50000/50000 [==============================] - 3s 61us/step - loss: 0.5629 - accuracy: 0.8351 - val_loss: 1.6111 - val_accuracy: 0.4924\n",
      "Epoch 46/50\n",
      "50000/50000 [==============================] - 3s 62us/step - loss: 0.5453 - accuracy: 0.8435 - val_loss: 1.6461 - val_accuracy: 0.4905\n",
      "Epoch 47/50\n",
      "50000/50000 [==============================] - 3s 63us/step - loss: 0.5276 - accuracy: 0.8487 - val_loss: 1.6433 - val_accuracy: 0.4959\n",
      "Epoch 48/50\n",
      "50000/50000 [==============================] - 3s 70us/step - loss: 0.5117 - accuracy: 0.8550 - val_loss: 1.6756 - val_accuracy: 0.4926\n",
      "Epoch 49/50\n",
      "50000/50000 [==============================] - 3s 68us/step - loss: 0.4948 - accuracy: 0.8613 - val_loss: 1.6663 - val_accuracy: 0.4913\n",
      "Epoch 50/50\n",
      "50000/50000 [==============================] - 3s 68us/step - loss: 0.4798 - accuracy: 0.8675 - val_loss: 1.6877 - val_accuracy: 0.4912\n"
     ]
    }
   ],
   "source": [
    "model = build_mlp(input_shape=x_train.shape[1:])\n",
    "model.summary()\n",
    "optimizer = keras.optimizers.SGD(lr=LEARNING_RATE, nesterov=True, momentum=MOMENTUM)\n",
    "model.compile(loss=\"categorical_crossentropy\", metrics=[\"accuracy\"], optimizer=optimizer)\n",
    "\n",
    "model.fit(x_train, y_train, \n",
    "          epochs=EPOCHS, \n",
    "          batch_size=BATCH_SIZE, \n",
    "          validation_data=(x_test, y_test), \n",
    "          shuffle=True,\n",
    "          callbacks=[model_ckpt]\n",
    "         )\n",
    "model.save(\"./saved_models/final_model.h5\")\n",
    "model.save_weights(\"./saved_models/model_weights.h5\")\n",
    "# Collect results\n",
    "train_loss = model.history.history[\"loss\"]\n",
    "valid_loss = model.history.history[\"val_loss\"]\n",
    "train_acc = model.history.history[\"accuracy\"]\n",
    "valid_acc = model.history.history[\"val_accuracy\"]\n",
    "\n",
    "pred_final = model.predict(x_test)\n",
    "# Load back\n",
    "model = keras.models.load_model(\"./saved_models/tmp.h5\")\n",
    "pred_loadback = model.predict(x_test)"
   ]
  },
  {
   "cell_type": "code",
   "execution_count": 14,
   "metadata": {},
   "outputs": [
    {
     "name": "stdout",
     "output_type": "stream",
     "text": [
      "Accuracy of final weights: 0.491\n",
      "Accuracy of best weights: 0.491\n"
     ]
    }
   ],
   "source": [
    "from sklearn.metrics import accuracy_score\n",
    "\n",
    "final_model_acc = accuracy_score(y_true=y_test.argmax(axis=-1), y_pred=pred_final.argmax(axis=-1))\n",
    "loadback_acc = accuracy_score(y_true=y_test.argmax(axis=-1), y_pred=pred_loadback.argmax(axis=-1))\n",
    "\n",
    "print(\"Accuracy of final weights: %.3f\" % final_model_acc)\n",
    "print(\"Accuracy of best weights: %.3f\" % loadback_acc)"
   ]
  },
  {
   "cell_type": "code",
   "execution_count": 19,
   "metadata": {
    "scrolled": true
   },
   "outputs": [
    {
     "name": "stdout",
     "output_type": "stream",
     "text": [
      "Accuracy of best weights: 0.098\n",
      "Accuracy of ModelCheckpoint(best only) loadback weights: 0.491\n"
     ]
    }
   ],
   "source": [
    "new_model = build_mlp(input_shape=x_train.shape[1:])\n",
    "new_model_pred = new_model.predict(x_test)\n",
    "new_model_acc = accuracy_score(y_true=y_test.argmax(axis=-1), y_pred=new_model_pred.argmax(axis=-1))\n",
    "print(\"Accuracy of best weights: %.3f\" % new_model_acc)\n",
    "\n",
    "# new_model.load_weights(\"./saved_models/model_weights.h5\")\n",
    "# new_model_pred = new_model.predict(x_test)\n",
    "# new_model_loadback_acc = accuracy_score(y_true=y_test.argmax(axis=-1), y_pred=new_model_pred.argmax(axis=-1))\n",
    "# print(\"Accuracy of model.save() loadback weights: %.3f\" % new_model_loadback_acc)\n",
    "\n",
    "new_model.load_weights(\"./saved_models/tmp.h5\")\n",
    "new_model_pred = new_model.predict(x_test)\n",
    "new_model_loadback_acc = accuracy_score(y_true=y_test.argmax(axis=-1), y_pred=new_model_pred.argmax(axis=-1))\n",
    "print(\"Accuracy of ModelCheckpoint(best only) loadback weights: %.3f\" % new_model_loadback_acc)"
   ]
  },
  {
   "cell_type": "code",
   "execution_count": 18,
   "metadata": {},
   "outputs": [
    {
     "name": "stdout",
     "output_type": "stream",
     "text": [
      "[NbConvertApp] Converting notebook Day_086_HW.ipynb to html\n",
      "[NbConvertApp] Writing 378792 bytes to Day_086_HW.html\n",
      "[NbConvertApp] Converting notebook Day_086_CB_ModelCheckPoint.ipynb to html\n",
      "[NbConvertApp] Writing 413041 bytes to Day_086_CB_ModelCheckPoint.html\n"
     ]
    }
   ],
   "source": [
    "!jupyter nbconvert --to html Day_086_HW.ipynb Day_086_CB_ModelCheckPoint.ipynb"
   ]
  }
 ],
 "metadata": {
  "kernelspec": {
   "display_name": "Python 3",
   "language": "python",
   "name": "python3"
  },
  "language_info": {
   "codemirror_mode": {
    "name": "ipython",
    "version": 3
   },
   "file_extension": ".py",
   "mimetype": "text/x-python",
   "name": "python",
   "nbconvert_exporter": "python",
   "pygments_lexer": "ipython3",
   "version": "3.6.8"
  }
 },
 "nbformat": 4,
 "nbformat_minor": 2
}
