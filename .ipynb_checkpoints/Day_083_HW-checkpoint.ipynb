{
 "cells": [
  {
   "cell_type": "markdown",
   "metadata": {},
   "source": [
    "## Work\n",
    "1. 試比較有 BN 在 Batch_size = 2, 16, 32, 128, 256 下的差異\n",
    "2. 請嘗試將 BN 放在 Activation 之前，並比較訓練結果\n",
    "3. 請於 BN 放在 Input Layer 後，並比較結果"
   ]
  },
  {
   "cell_type": "code",
   "execution_count": 1,
   "metadata": {},
   "outputs": [
    {
     "name": "stderr",
     "output_type": "stream",
     "text": [
      "Using TensorFlow backend.\n"
     ]
    }
   ],
   "source": [
    "import os\n",
    "import keras\n",
    "import itertools\n",
    "# Disable GPU\n",
    "os.environ[\"CUDA_VISIBLE_DEVICES\"] = \"\""
   ]
  },
  {
   "cell_type": "code",
   "execution_count": 2,
   "metadata": {},
   "outputs": [],
   "source": [
    "train, test = keras.datasets.cifar10.load_data()"
   ]
  },
  {
   "cell_type": "code",
   "execution_count": 3,
   "metadata": {},
   "outputs": [],
   "source": [
    "## 資料前處理\n",
    "def preproc_x(x, flatten=True):\n",
    "    x = x / 255.\n",
    "    if flatten:\n",
    "        x = x.reshape((len(x), -1))\n",
    "    return x\n",
    "\n",
    "def preproc_y(y, num_classes=10):\n",
    "    if y.shape[-1] == 1:\n",
    "        y = keras.utils.to_categorical(y, num_classes)\n",
    "    return y    "
   ]
  },
  {
   "cell_type": "code",
   "execution_count": 4,
   "metadata": {},
   "outputs": [],
   "source": [
    "x_train, y_train = train\n",
    "x_test, y_test = test\n",
    "\n",
    "# Preproc the inputs\n",
    "x_train = preproc_x(x_train)\n",
    "x_test = preproc_x(x_test)\n",
    "\n",
    "# Preprc the outputs\n",
    "y_train = preproc_y(y_train)\n",
    "y_test = preproc_y(y_test)"
   ]
  },
  {
   "cell_type": "code",
   "execution_count": 9,
   "metadata": {},
   "outputs": [],
   "source": [
    "from keras.layers import BatchNormalization\n",
    "\n",
    "def build_mlp(input_shape, output_units=10, num_neurons=[512, 256, 128], pre_activate=False):\n",
    "    input_layer = keras.layers.Input(input_shape)\n",
    "    \n",
    "    for i, n_units in enumerate(num_neurons):\n",
    "        if i == 0:\n",
    "            x = keras.layers.Dense(units=n_units, \n",
    "                                   name=\"hidden_layer\"+str(i+1))(input_layer)\n",
    "            if pre_activate:\n",
    "                x = BatchNormalization()(x)\n",
    "                x = Activation(\"relu\")(x)\n",
    "            else:\n",
    "                x = Activation(\"relu\")(x)\n",
    "                x = BatchNormalization()(x)\n",
    "        else:\n",
    "            x = keras.layers.Dense(units=n_units, \n",
    "                                   name=\"hidden_layer\"+str(i+1))(x)\n",
    "            if pre_activate:\n",
    "                x = BatchNormalization()(x)\n",
    "                x = Activation(\"relu\")(x)\n",
    "            else:\n",
    "                x = Activation(\"relu\")(x)\n",
    "                x = BatchNormalization()(x)\n",
    "                \n",
    "    \n",
    "    out = keras.layers.Dense(units=output_units, activation=\"softmax\", name=\"output\")(x)\n",
    "    \n",
    "    model = keras.models.Model(inputs=[input_layer], outputs=[out])\n",
    "    return model"
   ]
  },
  {
   "cell_type": "code",
   "execution_count": 10,
   "metadata": {},
   "outputs": [],
   "source": [
    "\"\"\"Code Here\n",
    "設定超參數\n",
    "\"\"\"\n",
    "LEARNING_RATE = 1e-3\n",
    "EPOCHS = 50\n",
    "BATCH_SIZE = [2, 16, 32, 128]\n",
    "PRE_ACTIVATE = [True, False]\n",
    "MOMENTUM = 0.95"
   ]
  },
  {
   "cell_type": "code",
   "execution_count": 13,
   "metadata": {
    "scrolled": true
   },
   "outputs": [
    {
     "name": "stdout",
     "output_type": "stream",
     "text": [
      "WARNING:tensorflow:From /usr/local/lib/python3.6/dist-packages/tensorflow_core/python/ops/resource_variable_ops.py:1630: calling BaseResourceVariable.__init__ (from tensorflow.python.ops.resource_variable_ops) with constraint is deprecated and will be removed in a future version.\n",
      "Instructions for updating:\n",
      "If using Keras pass *_constraint arguments to layers.\n",
      "Model: \"model_1\"\n",
      "_________________________________________________________________\n",
      "Layer (type)                 Output Shape              Param #   \n",
      "=================================================================\n",
      "input_1 (InputLayer)         (None, 3072)              0         \n",
      "_________________________________________________________________\n",
      "hidden_layer1 (Dense)        (None, 512)               1573376   \n",
      "_________________________________________________________________\n",
      "batch_normalization_1 (Batch (None, 512)               2048      \n",
      "_________________________________________________________________\n",
      "hidden_layer2 (Dense)        (None, 256)               131328    \n",
      "_________________________________________________________________\n",
      "batch_normalization_2 (Batch (None, 256)               1024      \n",
      "_________________________________________________________________\n",
      "hidden_layer3 (Dense)        (None, 128)               32896     \n",
      "_________________________________________________________________\n",
      "batch_normalization_3 (Batch (None, 128)               512       \n",
      "_________________________________________________________________\n",
      "output (Dense)               (None, 10)                1290      \n",
      "=================================================================\n",
      "Total params: 1,742,474\n",
      "Trainable params: 1,740,682\n",
      "Non-trainable params: 1,792\n",
      "_________________________________________________________________\n",
      "WARNING:tensorflow:From /usr/local/lib/python3.6/dist-packages/keras/backend/tensorflow_backend.py:422: The name tf.global_variables is deprecated. Please use tf.compat.v1.global_variables instead.\n",
      "\n",
      "Train on 50000 samples, validate on 10000 samples\n",
      "Epoch 1/30\n",
      "50000/50000 [==============================] - 4s 86us/step - loss: 2.2261 - accuracy: 0.2697 - val_loss: 2.1284 - val_accuracy: 0.1765\n",
      "Epoch 2/30\n",
      "50000/50000 [==============================] - 3s 65us/step - loss: 1.7345 - accuracy: 0.3958 - val_loss: 1.9550 - val_accuracy: 0.3002\n",
      "Epoch 3/30\n",
      "50000/50000 [==============================] - 3s 64us/step - loss: 1.6010 - accuracy: 0.4390 - val_loss: 1.7886 - val_accuracy: 0.3920\n",
      "Epoch 4/30\n",
      "50000/50000 [==============================] - 3s 64us/step - loss: 1.5262 - accuracy: 0.4663 - val_loss: 1.6814 - val_accuracy: 0.4223\n",
      "Epoch 5/30\n",
      "50000/50000 [==============================] - 3s 64us/step - loss: 1.4700 - accuracy: 0.4870 - val_loss: 1.6278 - val_accuracy: 0.4358\n",
      "Epoch 6/30\n",
      "50000/50000 [==============================] - 3s 64us/step - loss: 1.4247 - accuracy: 0.5039 - val_loss: 1.5581 - val_accuracy: 0.4597\n",
      "Epoch 7/30\n",
      "50000/50000 [==============================] - 3s 65us/step - loss: 1.3866 - accuracy: 0.5163 - val_loss: 1.5481 - val_accuracy: 0.4496\n",
      "Epoch 8/30\n",
      "50000/50000 [==============================] - 3s 62us/step - loss: 1.3525 - accuracy: 0.5289 - val_loss: 1.5134 - val_accuracy: 0.4672\n",
      "Epoch 9/30\n",
      "50000/50000 [==============================] - 3s 65us/step - loss: 1.3203 - accuracy: 0.5405 - val_loss: 1.4902 - val_accuracy: 0.4790\n",
      "Epoch 10/30\n",
      "50000/50000 [==============================] - 3s 60us/step - loss: 1.2908 - accuracy: 0.5512 - val_loss: 1.4935 - val_accuracy: 0.4701\n",
      "Epoch 11/30\n",
      "50000/50000 [==============================] - 3s 64us/step - loss: 1.2643 - accuracy: 0.5600 - val_loss: 1.4677 - val_accuracy: 0.4808\n",
      "Epoch 12/30\n",
      "50000/50000 [==============================] - 3s 64us/step - loss: 1.2371 - accuracy: 0.5723 - val_loss: 1.4691 - val_accuracy: 0.4843\n",
      "Epoch 13/30\n",
      "50000/50000 [==============================] - 3s 63us/step - loss: 1.2137 - accuracy: 0.5801 - val_loss: 1.4516 - val_accuracy: 0.4887\n",
      "Epoch 14/30\n",
      "50000/50000 [==============================] - 3s 67us/step - loss: 1.1884 - accuracy: 0.5899 - val_loss: 1.4615 - val_accuracy: 0.4882\n",
      "Epoch 15/30\n",
      "50000/50000 [==============================] - 3s 69us/step - loss: 1.1647 - accuracy: 0.5986 - val_loss: 1.4460 - val_accuracy: 0.4922\n",
      "Epoch 16/30\n",
      "50000/50000 [==============================] - 3s 67us/step - loss: 1.1402 - accuracy: 0.6091 - val_loss: 1.4417 - val_accuracy: 0.4986\n",
      "Epoch 17/30\n",
      "50000/50000 [==============================] - 4s 71us/step - loss: 1.1196 - accuracy: 0.6155 - val_loss: 1.4465 - val_accuracy: 0.4961\n",
      "Epoch 18/30\n",
      "50000/50000 [==============================] - 3s 67us/step - loss: 1.0961 - accuracy: 0.6241 - val_loss: 1.4575 - val_accuracy: 0.4951\n",
      "Epoch 19/30\n",
      "50000/50000 [==============================] - 4s 72us/step - loss: 1.0740 - accuracy: 0.6325 - val_loss: 1.4429 - val_accuracy: 0.4988\n",
      "Epoch 20/30\n",
      "50000/50000 [==============================] - 3s 64us/step - loss: 1.0540 - accuracy: 0.6411 - val_loss: 1.4534 - val_accuracy: 0.4936\n",
      "Epoch 21/30\n",
      "50000/50000 [==============================] - 3s 60us/step - loss: 1.0321 - accuracy: 0.6490 - val_loss: 1.4454 - val_accuracy: 0.4994\n",
      "Epoch 22/30\n",
      "50000/50000 [==============================] - 3s 58us/step - loss: 1.0119 - accuracy: 0.6574 - val_loss: 1.4518 - val_accuracy: 0.4983\n",
      "Epoch 23/30\n",
      "50000/50000 [==============================] - 3s 62us/step - loss: 0.9902 - accuracy: 0.6662 - val_loss: 1.4591 - val_accuracy: 0.4951\n",
      "Epoch 24/30\n",
      "50000/50000 [==============================] - 3s 58us/step - loss: 0.9706 - accuracy: 0.6724 - val_loss: 1.4420 - val_accuracy: 0.5012\n",
      "Epoch 25/30\n",
      "50000/50000 [==============================] - 3s 56us/step - loss: 0.9501 - accuracy: 0.6800 - val_loss: 1.4522 - val_accuracy: 0.4944\n",
      "Epoch 26/30\n",
      "50000/50000 [==============================] - 3s 56us/step - loss: 0.9313 - accuracy: 0.6881 - val_loss: 1.4498 - val_accuracy: 0.4958\n",
      "Epoch 27/30\n",
      "50000/50000 [==============================] - 3s 56us/step - loss: 0.9101 - accuracy: 0.6953 - val_loss: 1.4752 - val_accuracy: 0.4967\n",
      "Epoch 28/30\n",
      "50000/50000 [==============================] - 3s 56us/step - loss: 0.8925 - accuracy: 0.7022 - val_loss: 1.4637 - val_accuracy: 0.4994\n",
      "Epoch 29/30\n",
      "50000/50000 [==============================] - 3s 56us/step - loss: 0.8718 - accuracy: 0.7118 - val_loss: 1.4726 - val_accuracy: 0.4963\n",
      "Epoch 30/30\n",
      "50000/50000 [==============================] - 3s 56us/step - loss: 0.8516 - accuracy: 0.7195 - val_loss: 1.4931 - val_accuracy: 0.4924\n"
     ]
    },
    {
     "ename": "UnboundLocalError",
     "evalue": "local variable 'x' referenced before assignment",
     "output_type": "error",
     "traceback": [
      "\u001b[0;31m---------------------------------------------------------------------------\u001b[0m",
      "\u001b[0;31mUnboundLocalError\u001b[0m                         Traceback (most recent call last)",
      "\u001b[0;32m<ipython-input-13-6eace2be3b13>\u001b[0m in \u001b[0;36m<module>\u001b[0;34m\u001b[0m\n\u001b[1;32m      4\u001b[0m \"\"\"\n\u001b[1;32m      5\u001b[0m \u001b[0;32mfor\u001b[0m \u001b[0mstatus\u001b[0m \u001b[0;32min\u001b[0m \u001b[0mSTATUS\u001b[0m\u001b[0;34m:\u001b[0m\u001b[0;34m\u001b[0m\u001b[0;34m\u001b[0m\u001b[0m\n\u001b[0;32m----> 6\u001b[0;31m     \u001b[0mmodel\u001b[0m \u001b[0;34m=\u001b[0m \u001b[0mbuild_mlp\u001b[0m\u001b[0;34m(\u001b[0m\u001b[0minput_shape\u001b[0m\u001b[0;34m=\u001b[0m\u001b[0mx_train\u001b[0m\u001b[0;34m.\u001b[0m\u001b[0mshape\u001b[0m\u001b[0;34m[\u001b[0m\u001b[0;36m1\u001b[0m\u001b[0;34m:\u001b[0m\u001b[0;34m]\u001b[0m\u001b[0;34m,\u001b[0m\u001b[0mstatus\u001b[0m\u001b[0;34m=\u001b[0m\u001b[0mstatus\u001b[0m\u001b[0;34m)\u001b[0m\u001b[0;34m\u001b[0m\u001b[0;34m\u001b[0m\u001b[0m\n\u001b[0m\u001b[1;32m      7\u001b[0m     \u001b[0mmodel\u001b[0m\u001b[0;34m.\u001b[0m\u001b[0msummary\u001b[0m\u001b[0;34m(\u001b[0m\u001b[0;34m)\u001b[0m\u001b[0;34m\u001b[0m\u001b[0;34m\u001b[0m\u001b[0m\n\u001b[1;32m      8\u001b[0m     \u001b[0moptimizer\u001b[0m \u001b[0;34m=\u001b[0m \u001b[0mkeras\u001b[0m\u001b[0;34m.\u001b[0m\u001b[0moptimizers\u001b[0m\u001b[0;34m.\u001b[0m\u001b[0mSGD\u001b[0m\u001b[0;34m(\u001b[0m\u001b[0mlr\u001b[0m\u001b[0;34m=\u001b[0m\u001b[0mLEARNING_RATE\u001b[0m\u001b[0;34m,\u001b[0m \u001b[0mnesterov\u001b[0m\u001b[0;34m=\u001b[0m\u001b[0;32mTrue\u001b[0m\u001b[0;34m,\u001b[0m \u001b[0mmomentum\u001b[0m\u001b[0;34m=\u001b[0m\u001b[0mMOMENTUM\u001b[0m\u001b[0;34m)\u001b[0m\u001b[0;34m\u001b[0m\u001b[0;34m\u001b[0m\u001b[0m\n",
      "\u001b[0;32m<ipython-input-9-125bb5aded1f>\u001b[0m in \u001b[0;36mbuild_mlp\u001b[0;34m(input_shape, output_units, num_neurons, status)\u001b[0m\n\u001b[1;32m      7\u001b[0m         \u001b[0;32mif\u001b[0m \u001b[0mi\u001b[0m \u001b[0;34m==\u001b[0m \u001b[0;36m0\u001b[0m\u001b[0;34m:\u001b[0m\u001b[0;34m\u001b[0m\u001b[0;34m\u001b[0m\u001b[0m\n\u001b[1;32m      8\u001b[0m             \u001b[0;32mif\u001b[0m \u001b[0mstatus\u001b[0m\u001b[0;34m[\u001b[0m\u001b[0;36m0\u001b[0m\u001b[0;34m]\u001b[0m\u001b[0;34m==\u001b[0m\u001b[0;34m'before input'\u001b[0m\u001b[0;34m:\u001b[0m\u001b[0;34m\u001b[0m\u001b[0;34m\u001b[0m\u001b[0m\n\u001b[0;32m----> 9\u001b[0;31m                 \u001b[0mx\u001b[0m \u001b[0;34m=\u001b[0m \u001b[0mBatchNormalization\u001b[0m\u001b[0;34m(\u001b[0m\u001b[0;34m)\u001b[0m\u001b[0;34m(\u001b[0m\u001b[0mx\u001b[0m\u001b[0;34m)\u001b[0m\u001b[0;34m\u001b[0m\u001b[0;34m\u001b[0m\u001b[0m\n\u001b[0m\u001b[1;32m     10\u001b[0m                 x = keras.layers.Dense(units=n_units, \n\u001b[1;32m     11\u001b[0m                                        \u001b[0mactivation\u001b[0m\u001b[0;34m=\u001b[0m\u001b[0;34m\"relu\"\u001b[0m\u001b[0;34m,\u001b[0m\u001b[0;34m\u001b[0m\u001b[0;34m\u001b[0m\u001b[0m\n",
      "\u001b[0;31mUnboundLocalError\u001b[0m: local variable 'x' referenced before assignment"
     ]
    }
   ],
   "source": [
    "results = {}\n",
    "for i, (use_preact, bz) in enumerate(itertools.product(PRE_ACTIVATE, BATCH_SIZE)):\n",
    "    print(\"Numbers of exp: %i, use_preact: %s, batch_size: %i\" % (i, use_preact, bz))\n",
    "    model = build_mlp(input_shape=x_train.shape[1:], pre_activate=use_preact)\n",
    "    model.summary()\n",
    "    optimizer = keras.optimizers.Adam(lr=LEARNING_RATE)\n",
    "    model.compile(loss=\"categorical_crossentropy\", metrics=[\"accuracy\"], optimizer=optimizer)\n",
    "\n",
    "    model.fit(x_train, y_train, \n",
    "              epochs=EPOCHS, \n",
    "              batch_size=bz, \n",
    "              validation_data=(x_test, y_test), \n",
    "              verbose=0,\n",
    "              shuffle=True)\n",
    "    \n",
    "    # Collect results\n",
    "    \n",
    "    results[f'use_preact:{use_preact}_{bz}'] = {'train-loss': model.history.history[\"loss\"],\n",
    "                             'valid-loss': model.history.history[\"val_loss\"],\n",
    "                             'train-acc': model.history.history[\"accuracy\"],\n",
    "                             'valid-acc': model.history.history[\"val_accuracy\"]}"
   ]
  },
  {
   "cell_type": "code",
   "execution_count": null,
   "metadata": {},
   "outputs": [],
   "source": [
    "import matplotlib.pyplot as plt\n",
    "%matplotlib inline\n",
    "\"\"\"Code Here\n",
    "將結果繪出\n",
    "\"\"\"\n",
    "plt.figure(figsize=(8,6))\n",
    "for status in results.keys():\n",
    "    plt.plot(range(len(results[status]['train_loss'])),\n",
    "             results[status]['train_loss'],label=f'{status}_train_loss')\n",
    "    plt.plot(range(len(results[status]['valid_loss'])),\n",
    "             results[status]['valid_loss'],label=f'{status}_valid_loss')\n",
    "plt.legend()\n",
    "plt.title('Loss')\n",
    "plt.show()\n",
    "\n",
    "plt.figure(figsize=(8,6))\n",
    "for status in results.keys():\n",
    "    plt.plot(range(len(results[status]['train_acc'])),\n",
    "             results[status]['train_acc'],label=f'{status}_train_acc')\n",
    "    plt.plot(range(len(results[status]['valid_acc'])),\n",
    "             results[status]['valid_acc'],label=f'{status}_valid_acc')\n",
    "plt.legend()\n",
    "plt.title('Accuracy')\n",
    "plt.show()"
   ]
  },
  {
   "cell_type": "code",
   "execution_count": null,
   "metadata": {},
   "outputs": [],
   "source": [
    "!jpuyter nbconvert --to html Day_083_HW.ipynb Day_083_BatchNorm.ipynb"
   ]
  }
 ],
 "metadata": {
  "kernelspec": {
   "display_name": "Python 3",
   "language": "python",
   "name": "python3"
  },
  "language_info": {
   "codemirror_mode": {
    "name": "ipython",
    "version": 3
   },
   "file_extension": ".py",
   "mimetype": "text/x-python",
   "name": "python",
   "nbconvert_exporter": "python",
   "pygments_lexer": "ipython3",
   "version": "3.6.8"
  }
 },
 "nbformat": 4,
 "nbformat_minor": 2
}
