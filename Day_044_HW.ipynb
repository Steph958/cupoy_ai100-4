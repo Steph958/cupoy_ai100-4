{
 "cells": [
  {
   "cell_type": "markdown",
   "metadata": {},
   "source": [
    "## [作業重點]\n",
    "確保你了解隨機森林模型中每個超參數的意義，並觀察調整超參數對結果的影響"
   ]
  },
  {
   "cell_type": "markdown",
   "metadata": {},
   "source": [
    "## 作業\n",
    "\n",
    "1. 試著調整 RandomForestClassifier(...) 中的參數，並觀察是否會改變結果？\n",
    "2. 改用其他資料集 (boston, wine)，並與回歸模型與決策樹的結果進行比較"
   ]
  },
  {
   "cell_type": "code",
   "execution_count": 4,
   "metadata": {},
   "outputs": [],
   "source": [
    "from sklearn import datasets,metrics\n",
    "from sklearn.ensemble import RandomForestClassifier, RandomForestRegressor\n",
    "from sklearn.model_selection import train_test_split\n",
    "wine = datasets.load_wine()\n",
    "boston = datasets.load_boston()"
   ]
  },
  {
   "cell_type": "code",
   "execution_count": 9,
   "metadata": {},
   "outputs": [
    {
     "name": "stdout",
     "output_type": "stream",
     "text": [
      "acc:1.0\n",
      "feature names:['alcohol', 'malic_acid', 'ash', 'alcalinity_of_ash', 'magnesium', 'total_phenols', 'flavanoids', 'nonflavanoid_phenols', 'proanthocyanins', 'color_intensity', 'hue', 'od280/od315_of_diluted_wines', 'proline']\n",
      "feature importances:[0.1069313  0.02638832 0.01431735 0.02399916 0.01703423 0.06963892\n",
      " 0.11103477 0.00504686 0.02456172 0.15441351 0.08572751 0.13623653\n",
      " 0.22466983]\n"
     ]
    }
   ],
   "source": [
    "x_train, x_test, y_train, y_test = train_test_split(wine.data,wine.target,test_size=0.2,random_state=4)\n",
    "rfclf=RandomForestClassifier(n_estimators=20,max_depth=4)\n",
    "rfclf.fit(x_train,y_train)\n",
    "y_pred=rfclf.predict(x_test)\n",
    "print(f'acc:{metrics.accuracy_score(y_test, y_pred)}\\nfeature names:{wine.feature_names}\\nfeature importances:{rfclf.feature_importances_}')"
   ]
  },
  {
   "cell_type": "code",
   "execution_count": 10,
   "metadata": {},
   "outputs": [
    {
     "name": "stdout",
     "output_type": "stream",
     "text": [
      "mse:18.682901362688266\n",
      "feature names:['CRIM' 'ZN' 'INDUS' 'CHAS' 'NOX' 'RM' 'AGE' 'DIS' 'RAD' 'TAX' 'PTRATIO'\n",
      " 'B' 'LSTAT']\n",
      "feature importances:[4.27080202e-02 2.08269302e-04 2.78693756e-03 5.73306472e-04\n",
      " 1.24894797e-02 5.79063274e-01 4.99466489e-03 4.04253613e-02\n",
      " 1.51217857e-03 1.03568051e-02 1.03698497e-02 4.65230435e-03\n",
      " 2.89859549e-01]\n"
     ]
    }
   ],
   "source": [
    "x_train, x_test, y_train, y_test = train_test_split(boston.data,boston.target,test_size=0.2,random_state=4)\n",
    "rfr=RandomForestRegressor(n_estimators=20,max_depth=4)\n",
    "rfr.fit(x_train,y_train)\n",
    "y_pred=rfr.predict(x_test)\n",
    "print(f'mse:{metrics.mean_squared_error(y_test, y_pred)}\\nfeature names:{boston.feature_names}\\nfeature importances:{rfr.feature_importances_}')"
   ]
  },
  {
   "cell_type": "code",
   "execution_count": null,
   "metadata": {},
   "outputs": [],
   "source": []
  }
 ],
 "metadata": {
  "kernelspec": {
   "display_name": "Python 3",
   "language": "python",
   "name": "python3"
  },
  "language_info": {
   "codemirror_mode": {
    "name": "ipython",
    "version": 3
   },
   "file_extension": ".py",
   "mimetype": "text/x-python",
   "name": "python",
   "nbconvert_exporter": "python",
   "pygments_lexer": "ipython3",
   "version": "3.6.8"
  }
 },
 "nbformat": 4,
 "nbformat_minor": 2
}
