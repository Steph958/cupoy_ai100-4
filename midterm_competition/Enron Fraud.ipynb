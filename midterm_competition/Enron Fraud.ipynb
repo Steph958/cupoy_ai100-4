{
 "cells": [
  {
   "cell_type": "code",
   "execution_count": 45,
   "metadata": {},
   "outputs": [],
   "source": [
    "import pandas as pd\n",
    "import numpy as np\n",
    "from sklearn.linear_model import LogisticRegression\n",
    "from sklearn.ensemble import GradientBoostingClassifier\n",
    "from sklearn.metrics import accuracy_score\n",
    "from sklearn.model_selection import cross_val_score, train_test_split, GridSearchCV, KFold\n",
    "\n",
    "np.set_printoptions(precision=11,suppress=True)"
   ]
  },
  {
   "cell_type": "code",
   "execution_count": 46,
   "metadata": {},
   "outputs": [
    {
     "name": "stdout",
     "output_type": "stream",
     "text": [
      "train rows : 113,train columns : 22,test rows : 33,test columns : 21\n"
     ]
    }
   ],
   "source": [
    "train_raw_data = pd.read_csv('train_data.csv')\n",
    "test_raw_data = pd.read_csv('test_features.csv')\n",
    "print(f'train rows : {len(train_raw_data)},train columns : {len(train_raw_data.columns)},test rows : {len(test_raw_data)},test columns : {len(test_raw_data.columns)}')\n",
    "label=train_raw_data.loc[:,'poi']\n",
    "train_raw_data = train_raw_data.drop(columns = ['poi'])"
   ]
  },
  {
   "cell_type": "markdown",
   "metadata": {},
   "source": [
    "### 1e"
   ]
  },
  {
   "cell_type": "code",
   "execution_count": 47,
   "metadata": {},
   "outputs": [
    {
     "name": "stdout",
     "output_type": "stream",
     "text": [
      "vlid score logistic:0.782608695652174\n",
      "valid score of GradientBoostingClassifier:0.9130434782608695\n"
     ]
    },
    {
     "name": "stderr",
     "output_type": "stream",
     "text": [
      "/usr/local/lib/python3.6/dist-packages/sklearn/linear_model/_logistic.py:940: ConvergenceWarning: lbfgs failed to converge (status=1):\n",
      "STOP: TOTAL NO. of ITERATIONS REACHED LIMIT.\n",
      "\n",
      "Increase the number of iterations (max_iter) or scale the data as shown in:\n",
      "    https://scikit-learn.org/stable/modules/preprocessing.html\n",
      "Please also refer to the documentation for alternative solver options:\n",
      "    https://scikit-learn.org/stable/modules/linear_model.html#logistic-regression\n",
      "  extra_warning_msg=_LOGISTIC_SOLVER_CONVERGENCE_MSG)\n"
     ]
    }
   ],
   "source": [
    "pre_process_data = pd.concat([train_raw_data,test_raw_data])\n",
    "pre_process_data_1 = pre_process_data.drop(columns = ['name','email_address'])\n",
    "pre_process_data_1 = pre_process_data_1.fillna(0)\n",
    "x_train, x_valid, y_train, y_valid = train_test_split(pre_process_data_1[:len(label)], label, test_size=0.2)\n",
    "lr = LogisticRegression()\n",
    "lr.fit(x_train,y_train)\n",
    "y_pred = lr.predict(x_valid)\n",
    "print(f'valid score logistic:{accuracy_score(y_pred,y_valid)}')\n",
    "gdbtclf = GradientBoostingClassifier()\n",
    "gdbtclf.fit(x_train,y_train)\n",
    "y_pred = gdbtclf.predict(x_valid)\n",
    "print(f'valid score of GradientBoostingClassifier:{accuracy_score(y_pred,y_valid)}')"
   ]
  },
  {
   "cell_type": "code",
   "execution_count": 52,
   "metadata": {},
   "outputs": [
    {
     "name": "stdout",
     "output_type": "stream",
     "text": [
      "[False  True  True False  True  True  True False False False False False\n",
      " False False  True False False False False False  True False False False\n",
      " False False False False False False False False False]\n",
      "[0.0039277964  0.9449938822  0.69606032039 0.00006942354 0.60166368861\n",
      " 0.98373552471 0.73894081853 0.00016465881 0.00313067771 0.00013238858\n",
      " 0.00027995149 0.00006340449 0.0004779631  0.00009779309 0.94172967387\n",
      " 0.00006340449 0.00070115204 0.00218753616 0.00012167782 0.00006340449\n",
      " 0.63489416379 0.33923063134 0.00100288696 0.00007314518 0.00007000274\n",
      " 0.00009850923 0.00004894385 0.00009343362 0.00212186588 0.00363513101\n",
      " 0.00010090971 0.00016101642 0.05236129905]\n"
     ]
    }
   ],
   "source": [
    "y_pred = gdbtclf.predict(pre_process_data_1[len(label):])\n",
    "y_pred_prob = gdbtclf.predict_proba(pre_process_data_1[len(label):])\n",
    "print(f'{y_pred}\\n{y_pred_prob[:,1]}')\n",
    "\n",
    "submission=pd.DataFrame({'name':test_raw_data['name'],'poi':pd.Series(y_pred_prob[:,1])})\n",
    "submission.to_csv('submission_1e.csv',index=False)"
   ]
  },
  {
   "cell_type": "markdown",
   "metadata": {},
   "source": [
    "---"
   ]
  },
  {
   "cell_type": "markdown",
   "metadata": {},
   "source": [
    "### 2e"
   ]
  },
  {
   "cell_type": "code",
   "execution_count": null,
   "metadata": {},
   "outputs": [],
   "source": [
    "pre_process_data = pd.concat([train_raw_data,test_raw_data])\n",
    "pre_process_data_1 = pre_process_data.drop(columns = ['name','email_address'])\n",
    "pre_process_data_1 = pre_process_data_1.fillna(0)"
   ]
  }
 ],
 "metadata": {
  "kernelspec": {
   "display_name": "Python 3",
   "language": "python",
   "name": "python3"
  },
  "language_info": {
   "codemirror_mode": {
    "name": "ipython",
    "version": 3
   },
   "file_extension": ".py",
   "mimetype": "text/x-python",
   "name": "python",
   "nbconvert_exporter": "python",
   "pygments_lexer": "ipython3",
   "version": "3.6.8"
  }
 },
 "nbformat": 4,
 "nbformat_minor": 2
}
